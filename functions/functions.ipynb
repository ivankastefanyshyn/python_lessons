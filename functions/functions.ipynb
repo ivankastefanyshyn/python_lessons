{
 "cells": [
  {
   "cell_type": "code",
   "execution_count": null,
   "metadata": {},
   "outputs": [],
   "source": [
    "#FUNCTION - is a block of code which only runs when it's called\n",
    "#PARAMETER - is the variable listed inside the parentheses in the function definition\n",
    "#ARGUMENT - is the value that is sent to the function when it is called / value for a given parameter"
   ]
  },
  {
   "cell_type": "code",
   "execution_count": 3,
   "metadata": {},
   "outputs": [
    {
     "name": "stdout",
     "output_type": "stream",
     "text": [
      "Hello from a function\n"
     ]
    }
   ],
   "source": [
    "def my_function():\n",
    "    print(\"Hello from a function\")\n",
    "my_function()"
   ]
  },
  {
   "cell_type": "code",
   "execution_count": 5,
   "metadata": {},
   "outputs": [
    {
     "name": "stdout",
     "output_type": "stream",
     "text": [
      "Emil Refsnes\n",
      "Tobias Refsnes\n",
      "Linus Refsnes\n"
     ]
    }
   ],
   "source": [
    "def my_function(fname):\n",
    "    print(fname + \" Refsnes\")\n",
    "my_function(\"Emil\")\n",
    "my_function(\"Tobias\")\n",
    "my_function(\"Linus\")\n",
    "\n"
   ]
  },
  {
   "cell_type": "code",
   "execution_count": 2,
   "metadata": {},
   "outputs": [
    {
     "name": "stdout",
     "output_type": "stream",
     "text": [
      "Emil Refsnes\n"
     ]
    }
   ],
   "source": [
    "#Number of Arguments:\n",
    "#a function must be called with the correct number of arguments. \n",
    "#if your function expects 2 arguments, you have to call the function with 2 arguments, not more, and not less.\n",
    "def my_function(fname, lname):\n",
    "    print(fname+\" \"+lname)\n",
    "my_function(\"Emil\", \"Refsnes\")"
   ]
  },
  {
   "cell_type": "code",
   "execution_count": 8,
   "metadata": {},
   "outputs": [
    {
     "name": "stdout",
     "output_type": "stream",
     "text": [
      "The youngest child is Linus\n"
     ]
    }
   ],
   "source": [
    "#Arbitrary Arguments, *args - if the number of arguments is unknown, add a * before the parameter name\n",
    "def my_function(*kids):\n",
    "    print(\"The youngest child is \" + kids[2])\n",
    "my_function(\"Emil\",\"Tobias\",\"Linus\")"
   ]
  },
  {
   "cell_type": "code",
   "execution_count": 9,
   "metadata": {},
   "outputs": [
    {
     "name": "stdout",
     "output_type": "stream",
     "text": [
      "The youngest child is Linus\n"
     ]
    }
   ],
   "source": [
    "#Keyword Arguments (you can also send arguments with the key = value syntax)\n",
    "def my_family(child1, child2, child3):\n",
    "    print(\"The youngest child is \" + child3)\n",
    "my_family(child1=\"Emil\", child2=\"Tobias\", child3=\"Linus\")\n"
   ]
  },
  {
   "cell_type": "code",
   "execution_count": 2,
   "metadata": {},
   "outputs": [
    {
     "name": "stdout",
     "output_type": "stream",
     "text": [
      "The youngest child is Tobias\n",
      "{'id': 1, 'name': 'Ivanna', 'age': 36}\n"
     ]
    }
   ],
   "source": [
    "#Arbitrary Keyword Arguments, **kwargs\n",
    "def my_family(**kid):\n",
    "    print(\"The youngest child is \"+ kid[\"fname\"])\n",
    "my_family(fname=\"Tobias\", lname=\"Refsnes\")\n",
    "\n",
    "def save_user(**user):\n",
    "    print(user)\n",
    "save_user(id=1, name=\"Ivanna\", age=36)"
   ]
  },
  {
   "cell_type": "code",
   "execution_count": 16,
   "metadata": {},
   "outputs": [
    {
     "name": "stdout",
     "output_type": "stream",
     "text": [
      "I am from Sweden\n",
      "I am from India\n",
      "I am from Norway\n",
      "I am from Brazil\n"
     ]
    }
   ],
   "source": [
    "#Default Parameter Value\n",
    "def my_function(country = \"Norway\"):\n",
    "    print(\"I am from \"+country)\n",
    "my_function(\"Sweden\")\n",
    "my_function(\"India\")\n",
    "my_function()\n",
    "my_function(\"Brazil\")"
   ]
  },
  {
   "cell_type": "code",
   "execution_count": 8,
   "metadata": {},
   "outputs": [
    {
     "name": "stdout",
     "output_type": "stream",
     "text": [
      "Hi Ivanka Stefanyshyn\n",
      "Welcome aboard\n",
      "Hi John Smith\n",
      "Welcome aboard\n"
     ]
    }
   ],
   "source": [
    "def greet(first_name, last_name):\n",
    "    print(f\"Hi {first_name} {last_name}\")\n",
    "    print(\"Welcome aboard\")  \n",
    "greet(\"Ivanka\", \"Stefanyshyn\")\n",
    "greet(\"John\", \"Smith\")"
   ]
  },
  {
   "cell_type": "code",
   "execution_count": 4,
   "metadata": {},
   "outputs": [
    {
     "name": "stdout",
     "output_type": "stream",
     "text": [
      "apple\n",
      "banana\n",
      "kiwi\n",
      "carrot\n",
      "tomato\n",
      "cucumber\n"
     ]
    }
   ],
   "source": [
    "#List as an argument\n",
    "def my_function(food):\n",
    "    for x in food:\n",
    "        print(x)\n",
    "fruits=[\"apple\",\"banana\",'kiwi']\n",
    "vegetables=[\"carrot\",\"tomato\",\"cucumber\"]\n",
    "my_function(fruits)\n",
    "my_function(vegetables)"
   ]
  },
  {
   "cell_type": "code",
   "execution_count": 6,
   "metadata": {},
   "outputs": [
    {
     "name": "stdout",
     "output_type": "stream",
     "text": [
      "15\n",
      "25\n"
     ]
    }
   ],
   "source": [
    "#Return Values - to let a function return a value, use the return statement:\n",
    "def my_function(x):\n",
    "    return 5*x\n",
    "print(my_function(3))\n",
    "print(my_function(5))\n",
    "\n"
   ]
  },
  {
   "cell_type": "code",
   "execution_count": 6,
   "metadata": {},
   "outputs": [
    {
     "name": "stdout",
     "output_type": "stream",
     "text": [
      "3\n"
     ]
    }
   ],
   "source": [
    "#positional-only arguments:\n",
    "#you can specify that a function can have ONLY positional arguments, or ONLY keyword arguments.\n",
    "#to specify that a function can have only positional arguments, add , / after the arguments\n",
    "def my_function (x, /):\n",
    "    print(x)   \n",
    "my_function(3)"
   ]
  },
  {
   "cell_type": "code",
   "execution_count": 9,
   "metadata": {},
   "outputs": [
    {
     "name": "stdout",
     "output_type": "stream",
     "text": [
      "3\n"
     ]
    }
   ],
   "source": [
    "#keyword-only arguments:\n",
    "#to specify that a function can have only keyword arguments, add *, before the arguments:\n",
    "def my_function(*, x):\n",
    "    print(x)\n",
    "my_function(x=3)\n"
   ]
  },
  {
   "cell_type": "code",
   "execution_count": 12,
   "metadata": {},
   "outputs": [
    {
     "name": "stdout",
     "output_type": "stream",
     "text": [
      "26\n"
     ]
    }
   ],
   "source": [
    "#combine positional-only and keyword-only:\n",
    "#you can combine the two argument types in the same function.\n",
    "#any argument before the / , are positional-only, and any argument after the *, are keyword-only.\n",
    "def my_function(a,b,/,*,c,d):\n",
    "    print(a+b+c+d)\n",
    "my_function(5,6,c=7,d=8)"
   ]
  }
 ],
 "metadata": {
  "kernelspec": {
   "display_name": ".venv",
   "language": "python",
   "name": "python3"
  },
  "language_info": {
   "codemirror_mode": {
    "name": "ipython",
    "version": 3
   },
   "file_extension": ".py",
   "mimetype": "text/x-python",
   "name": "python",
   "nbconvert_exporter": "python",
   "pygments_lexer": "ipython3",
   "version": "3.12.2"
  }
 },
 "nbformat": 4,
 "nbformat_minor": 2
}
