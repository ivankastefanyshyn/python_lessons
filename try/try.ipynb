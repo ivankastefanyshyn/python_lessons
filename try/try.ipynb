{
 "cells": [
  {
   "cell_type": "code",
   "execution_count": null,
   "id": "e04d85be",
   "metadata": {},
   "outputs": [],
   "source": [
    "#Given an unsorted list, create a code that assigns the result the nth smallest integer (the smallest integer is the first smallest, the second smallest integer is the second smallest, etc).\n",
    "\n",
    "#Notes\n",
    "# n will always be >= 1.\n",
    "# Each number in the array will be distinct (there will be a clear ordering).\n",
    "# Given an out of bounds parameter (e.g. a list is of siz#"
   ]
  }
 ],
 "metadata": {
  "language_info": {
   "name": "python"
  }
 },
 "nbformat": 4,
 "nbformat_minor": 5
}
