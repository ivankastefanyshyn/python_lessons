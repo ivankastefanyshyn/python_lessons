{
 "cells": [
  {
   "cell_type": "code",
   "execution_count": null,
   "id": "dcaf1db4",
   "metadata": {},
   "outputs": [],
   "source": [
    "#There is a single operator in Python, capable of providing the remainder of a division operation. Two numbers are passed as variables. The first variable divided by the second variable will have a remainder, possibly zero. Print that value.\n",
    "num1 = int(input())\n",
    "num2 = int(input())\n",
    "result = num1 % num2"
   ]
  },
  {
   "cell_type": "code",
   "execution_count": null,
   "id": "fd02b302",
   "metadata": {},
   "outputs": [],
   "source": [
    "#The volume of a spherical shell is the difference between the enclosed volume of the outer sphere and the enclosed volume of the inner sphere: Create a code that takes R and r as variables and calculates the volume of a spherical shell, rounded to the nearest hundredths.\n",
    "R = int(input())\n",
    "r = int(input())\n",
    "PI = 3.14\n",
    "volume1 = 4/3 * PI * (R ** 3)\n",
    "volume2 = 4/3 * PI * (r ** 3)\n",
    "result = round(volume1 - volume2, 2)"
   ]
  },
  {
   "cell_type": "code",
   "execution_count": null,
   "id": "b4502cbf",
   "metadata": {},
   "outputs": [],
   "source": [
    "#Create a code that takes a number and increments the number by +1\n",
    "number = int(input())\n",
    "number += 1"
   ]
  },
  {
   "cell_type": "code",
   "execution_count": null,
   "id": "2791b442",
   "metadata": {},
   "outputs": [],
   "source": [
    "#Write a code that takes an integer minutes and converts it to seconds.\n",
    "minutes = int(input())\n",
    "convert = minutes * 60"
   ]
  },
  {
   "cell_type": "code",
   "execution_count": null,
   "id": "97e6115d",
   "metadata": {},
   "outputs": [],
   "source": [
    "#Write a code that takes the base and height of a triangle and prints its area. Round your answer to 2 decimal places\n",
    "base = int(input())\n",
    "height = int(input())\n",
    "\n",
    "tri_area = 1/2 * base * height\n",
    "round(tri_area, 2)"
   ]
  },
  {
   "cell_type": "code",
   "execution_count": null,
   "id": "86099faf",
   "metadata": {},
   "outputs": [],
   "source": [
    "#A four-digit natural number is specified:\n",
    "#- find the product of the digits of this number\n",
    "#- write the number in reverse order\n",
    "#- in ascending order, you need to sort the numbers included in the given number\n",
    "number = int(input()) \n",
    "product = 1\n",
    "\n",
    "for n in str(number):\n",
    "    product = product * int(n)\n",
    "reversed_number = int(str(number)[::-1])\n",
    "\n",
    "sorted_number = sorted(str(number))\n",
    "sorted_number = int(\"\".join(sorted_number))"
   ]
  },
  {
   "cell_type": "code",
   "execution_count": null,
   "id": "2f543562",
   "metadata": {},
   "outputs": [],
   "source": [
    "# You need to write Python's philosophy in the string format:\n",
    "#- find separately the number of occurrences of the words \"better\", \"never\" and \"is\" in the given line\n",
    "#- you need to display all text in uppercase (all letters in uppercase)\n",
    "#- replace all occurrences of the symbol \"i\" with \"&\"\n",
    "python_philosophy = \"\"\"Beautiful is better than ugly.\n",
    "Explicit is better than implicit.\n",
    "Simple is better than complex.\n",
    "Complex is better than complicated.\n",
    "Flat is better than nested.\n",
    "Sparse is better than dense.\n",
    "Readability counts.\n",
    "Special cases aren't special enough to break the rules.\n",
    "Although practicality beats purity.\n",
    "Errors should never pass silently.\n",
    "Unless explicitly silenced.\n",
    "In the face of ambiguity, refuse the temptation to guess.\n",
    "There should be one-- and preferably only one --obvious way to do it.\n",
    "Although that way may not be obvious at first unless you're Dutch.\n",
    "Now is better than never.\n",
    "Although never is often better than *right* now.\n",
    "If the implementation is hard to explain, it's a bad idea.\n",
    "If the implementation is easy to explain, it may be a good idea.\n",
    "Namespaces are one honking great idea -- let's do more of those!\"\"\"\n",
    "better_count = python_philosophy.count(\"better\")\n",
    "\n",
    "never_count = python_philosophy.count(\"never\")\n",
    "\n",
    "is_count = python_philosophy.count(\"is\")\n",
    "\n",
    "zen_upper = python_philosophy.upper()\n",
    "\n",
    "zen_replace = python_philosophy.replace('i', '&')"
   ]
  },
  {
   "cell_type": "code",
   "execution_count": null,
   "id": "fc47b86d",
   "metadata": {},
   "outputs": [],
   "source": [
    "#Interchange the values of two variables without using the third variable.\n",
    "a = int(input())\n",
    "b = int(input())\n",
    "\n",
    "a, b = b, a"
   ]
  },
  {
   "cell_type": "code",
   "execution_count": null,
   "id": "c2073ffe",
   "metadata": {},
   "outputs": [],
   "source": [
    "#Update a code that prints True if an integer is evenly divisible by 5, and False otherwise.\n",
    "number = int(input())\n",
    "if number % 5 == 0:\n",
    "    print(\"True\")\n",
    "else:\n",
    "    print(\"False\")"
   ]
  },
  {
   "cell_type": "code",
   "execution_count": null,
   "id": "77783593",
   "metadata": {},
   "outputs": [],
   "source": [
    "#Write a code that prints True if k^k == n for input (n, k) and print False otherwise.\n",
    "# The ^ operator refers to exponentiation operation **, not the bitwise XOR operation.\n",
    "n = int(input())\n",
    "k = int(input())\n",
    "if k ** k == n:\n",
    "    print(\"True\")\n",
    "else:\n",
    "    print(\"False\")"
   ]
  },
  {
   "cell_type": "code",
   "execution_count": null,
   "id": "27ebd414",
   "metadata": {},
   "outputs": [],
   "source": [
    "#Write a code that takes a credit card number and only displays the last four characters. The rest of the card number must be replaced by ************\n",
    "# If the length of the number is less than 16 symbols replaced with \"Invalid card\"\n",
    "card = input()\n",
    "if len(card) < 16:\n",
    "    card = \"Invalid card\"\n",
    "else:\n",
    "    card = list(card)\n",
    "    card[0:12] = \"*\" * 12\n",
    "    card = \"\".join(card)"
   ]
  },
  {
   "cell_type": "code",
   "execution_count": null,
   "id": "911383d2",
   "metadata": {},
   "outputs": [],
   "source": [
    "#Create a code that takes a string, checks if it has the same number of \"x\"s and \"o\"s and prints either True or False.\n",
    "# Print boolean value (True or False).\n",
    "# Print True if the amount of x's and o's are the same.\n",
    "# Print False if they aren't the same amount.\n",
    "# The string can contain any character.\n",
    "# When \"x\" and \"o\" are not in the string, print True.\n",
    "def X_O(word):\n",
    "    word = word.lower()\n",
    "    if word.count(\"x\") == word.count(\"o\"):\n",
    "        print(\"True\")\n",
    "    elif \"x\" and \"o\" not in word:\n",
    "        print(\"True\")\n",
    "    else:\n",
    "        print(\"False\")\n",
    "\n",
    "X_O(input())"
   ]
  },
  {
   "cell_type": "code",
   "execution_count": null,
   "id": "a9386f0b",
   "metadata": {},
   "outputs": [],
   "source": [
    "#Create a code that takes a number in a variable and prints a negative of that number. Print negative numbers without any change.\n",
    "def return_negative(number):\n",
    "    if number < 0:\n",
    "        print(number)\n",
    "    else:\n",
    "        print(f\"-{number}\")\n",
    "\n",
    "return_negative(int(input()))"
   ]
  },
  {
   "cell_type": "code",
   "execution_count": null,
   "id": "280671a0",
   "metadata": {},
   "outputs": [],
   "source": [
    "#Write a code that stutters a word as if someone is struggling to read it. The first two letters are repeated twice with an ellipsis ... , and then the word is pronounced with a question mark ?.\n",
    "# If the input is less than two characters long, the prints \"oh...\".\n",
    "\n",
    "word = input()\n",
    "if len(word) < 2:\n",
    "    print(\"oh...\")\n",
    "else:\n",
    "    word = list(word)\n",
    "    word.insert(0, word[0])\n",
    "    word.insert(1, word[2])\n",
    "    word.insert(2, \"...\")\n",
    "    word.insert(3, word[0])\n",
    "    word.insert(4, word[1])\n",
    "    word.insert(5, \"...\")\n",
    "    word.append(\"?\")\n",
    "    word = \"\".join(word)\n",
    "    print(word)"
   ]
  },
  {
   "cell_type": "code",
   "execution_count": null,
   "id": "ac0d9091",
   "metadata": {},
   "outputs": [],
   "source": [
    "#shorter way of the previous one\n",
    "word = input()\n",
    "if len(word) < 2:\n",
    "    print(\"oh...\")\n",
    "else:\n",
    "    part = word[:2] + \"...\"\n",
    "    print(f\"{part} {part} {word}?\")"
   ]
  },
  {
   "cell_type": "code",
   "execution_count": null,
   "id": "09c228bb",
   "metadata": {},
   "outputs": [],
   "source": [
    "#Update code that takes a string and prints it as a positive integer. \n",
    "# In that case when the string cannot be converted to a positive integer, prints the string \"Not a number\"\n",
    "def string_int(str1):\n",
    "    if str1.isdigit():\n",
    "        if int(str1) > 0:\n",
    "            print(str1)\n",
    "        else:\n",
    "            print(\"Not a number\")\n",
    "    else:\n",
    "        print(\"Not a number\")\n",
    "    \n",
    "string_int(input())"
   ]
  },
  {
   "cell_type": "code",
   "execution_count": null,
   "id": "80db7a70",
   "metadata": {},
   "outputs": [],
   "source": [
    "#Given two numbers, print True if the sum of both numbers is less than 100. Otherwise print False.\n",
    "num1 = int(input())\n",
    "num2 = int(input())\n",
    "result = num1 + num2\n",
    "if result < 100:\n",
    "    print(\"True\")\n",
    "else:\n",
    "    print(\"False\")"
   ]
  },
  {
   "cell_type": "code",
   "execution_count": null,
   "id": "b72761f5",
   "metadata": {},
   "outputs": [],
   "source": [
    "#Create a code that takes two variables. Both variables are integers, a and b. Print True if one of them is 10 or if their sum is 10.\n",
    "num1 = int(input())\n",
    "num2 = int(input())\n",
    "if num1 == 10 or num2 == 10:\n",
    "    print(\"True\")\n",
    "elif num1 + num2 == 10:\n",
    "    print(\"True\")\n",
    "else:\n",
    "    print(\"False\")"
   ]
  },
  {
   "cell_type": "code",
   "execution_count": null,
   "id": "b9f2b0e5",
   "metadata": {},
   "outputs": [],
   "source": [
    "#Counting the number of digits in the whole number, including:\n",
    "# For example:\n",
    "# number = 123\n",
    "# count_digits == 3\n",
    "# number = -23\n",
    "# count_digits == 2\n",
    "# number = 3\n",
    "# count_digits == 1 \n",
    "# Also please check if the data type is number, whether its not please assign a value to the variable result = \"Wrong data type\"\n",
    "number = input()\n",
    "if number.lstrip(\"-\").isdigit():\n",
    "    number = int(number)\n",
    "    result = len(str(abs(number)))\n",
    "    print(result)\n",
    "else:\n",
    "    result = \"Wrong data type\""
   ]
  },
  {
   "cell_type": "code",
   "execution_count": null,
   "id": "fd027f52",
   "metadata": {},
   "outputs": [],
   "source": [
    "#Create a Python program that asks the user for a numeric grade (0-100) and then uses conditional statements to determine and assign the corresponding letter grade (A, B, C, D, or F) A={90-100} B={80-90} C={70-80} D={60-70} E={50-60} F={0-50}. If the number is less than 0 please assign the message - \"Wrong number\"\n",
    "grade = int(input())\n",
    "if grade < 0:\n",
    "    result = \"Wrong number\"\n",
    "elif 90 <= grade <=100:\n",
    "    result = \"A\"\n",
    "elif 80 <= grade < 90:\n",
    "    result = \"B\"\n",
    "elif 70 <= grade < 80:\n",
    "    result = \"C\"\n",
    "elif 60 <= grade < 70:\n",
    "    result = \"D\"\n",
    "elif 50 <= grade < 60:\n",
    "    result = \"E\"\n",
    "elif 0 <= grade < 50:\n",
    "    result = \"F\"\n",
    "else:\n",
    "    result = \"Wrong number\""
   ]
  },
  {
   "cell_type": "code",
   "execution_count": null,
   "id": "7b8b1f41",
   "metadata": {},
   "outputs": [],
   "source": [
    "#Create a Python program that emulates a simple calculator. It takes variables: number1, number2 and operator (+, -, *, /). Then, based on the operator, perform the corresponding calculation and display the result. If the provided operator doesnt exist provide the message \"Wrong operator\". \n",
    "# *Use only if elif else structure\n",
    "number1 = int(input())\n",
    "number2 = int(input())\n",
    "operator = input()\n",
    "if operator == \"+\":\n",
    "   print(number1 + number2)\n",
    "elif operator == \"-\":\n",
    "    print(number1 - number2)\n",
    "elif operator == \"*\":\n",
    "    print(number1 * number2)\n",
    "elif operator == \"/\":\n",
    "    print(number1 / number2)\n",
    "else:\n",
    "    print(\"Wrong operator\")"
   ]
  },
  {
   "cell_type": "code",
   "execution_count": null,
   "id": "17067f5e",
   "metadata": {},
   "outputs": [],
   "source": [
    "#Sort the numbers only using if else statement\n",
    "# You are provided with 3 variables  num1 num2 num3\n",
    "num1 = int(input())\n",
    "num2 = int(input())\n",
    "num3 = int(input())\n",
    "if num1 <= num2 and num1 <= num3:\n",
    "    if num2 <= num3:\n",
    "        print(num1, num2, num3)\n",
    "    else:\n",
    "        print(num1, num3, num2)\n",
    "elif num2 <= num1 and num2 <=num3:\n",
    "    if num1 <= num3:\n",
    "        print(num2, num1, num3)\n",
    "    else:\n",
    "        print(num2, num3, num1)\n",
    "else: \n",
    "    if num3 <= num1 and num3 <= num2:\n",
    "        if num1 < num2:\n",
    "            print(num3, num1, num2)\n",
    "        else:\n",
    "            print(num3, num2, num1)"
   ]
  },
  {
   "cell_type": "code",
   "execution_count": null,
   "id": "a7efb22a",
   "metadata": {},
   "outputs": [],
   "source": [
    "# Print all even numbers less than 100, using WHILE loop\n",
    "number = 0\n",
    "while number < 100:\n",
    "    print(number, end = \",\")\n",
    "    number += 2"
   ]
  },
  {
   "cell_type": "code",
   "execution_count": 2,
   "id": "d3af4d3d",
   "metadata": {},
   "outputs": [
    {
     "name": "stdout",
     "output_type": "stream",
     "text": [
      "0,2,4,6,8,10,12,14,16,18,20,22,24,26,28,30,32,34,36,38,40,42,44,46,48,50,52,54,56,58,60,62,64,66,68,70,72,74,76,78,80,82,84,86,88,90,92,94,96,98,"
     ]
    }
   ],
   "source": [
    "# Print all even numbers less than 100, using FOR loop\n",
    "for number in range (100):\n",
    "    if number % 2 == 0:\n",
    "        print(number, end = \",\")"
   ]
  },
  {
   "cell_type": "code",
   "execution_count": 1,
   "id": "f1c1f26a",
   "metadata": {},
   "outputs": [
    {
     "name": "stdout",
     "output_type": "stream",
     "text": [
      "1,3,5,7,9,11,13,15,17,19,21,23,25,27,29,31,33,35,37,39,41,43,45,47,49,51,53,55,57,59,61,63,65,67,69,71,73,75,77,79,81,83,85,87,89,91,93,95,97,99,"
     ]
    }
   ],
   "source": [
    "#Print all odd numbers less than 100, using the continue operator\n",
    "for number in range(100):\n",
    "    if number % 2 == 0:\n",
    "        continue\n",
    "    print(number, end =\",\")"
   ]
  },
  {
   "cell_type": "code",
   "execution_count": 3,
   "id": "9fcf21da",
   "metadata": {},
   "outputs": [
    {
     "name": "stdout",
     "output_type": "stream",
     "text": [
      "Yes, the list has odd number \t -> 2\n",
      "Yes, the list has odd number \t -> 4\n",
      "Yes, the list has odd number \t -> 6\n",
      "Yes, the list has odd number \t -> 8\n",
      "Yes, the list has odd number \t -> 10\n"
     ]
    }
   ],
   "source": [
    "my_list = [1, 2, 3, 4, 5, 6, 7, 8, 9, 10]\n",
    "for number in my_list:\n",
    "    if number % 2 == 0:\n",
    "        print(f\"Yes, the list has odd number \\t -> {number}\")"
   ]
  },
  {
   "cell_type": "code",
   "execution_count": 4,
   "id": "623fd052",
   "metadata": {},
   "outputs": [
    {
     "name": "stdout",
     "output_type": "stream",
     "text": [
      "10\n",
      "11\n",
      "12\n",
      "13\n"
     ]
    }
   ],
   "source": [
    "for num in range(10, 14):\n",
    "   for i in range(2, num):\n",
    "       if num%i == 1:\n",
    "          print(num)\n",
    "          break"
   ]
  },
  {
   "cell_type": "code",
   "execution_count": 5,
   "id": "590c5e79",
   "metadata": {},
   "outputs": [
    {
     "name": "stdout",
     "output_type": "stream",
     "text": [
      "10 Chair\n",
      "10 Table\n",
      "20 Chair\n",
      "20 Table\n"
     ]
    }
   ],
   "source": [
    "numbers = [10, 20]\n",
    "items = [\"Chair\", \"Table\"]\n",
    "\n",
    "for x in numbers:\n",
    "  for y in items:\n",
    "    print(x, y)"
   ]
  },
  {
   "cell_type": "code",
   "execution_count": null,
   "id": "b5001b46",
   "metadata": {},
   "outputs": [],
   "source": [
    "var = 10\n",
    "for i in range(10):\n",
    "    for j in range(2, 10, 1):\n",
    "        if var % 2 == 0:\n",
    "            continue\n",
    "            var += 1\n",
    "    var+=1\n",
    "else:\n",
    "    var+=1\n",
    "print(var)"
   ]
  },
  {
   "cell_type": "code",
   "execution_count": null,
   "id": "67889781",
   "metadata": {},
   "outputs": [],
   "source": [
    "#Create a code that prints a list of booleans, from a given number. Iterating through the number one digit at a time, append True if the digit is 1 and False if it is 0.\n",
    "# Notes. Expect numbers with 0 and 1 only.\n",
    "\n",
    "binary_number = input()\n",
    "my_list = []\n",
    "for number in binary_number:\n",
    "    if number == \"1\":\n",
    "        my_list.append(True)\n",
    "    if number == \"0\":\n",
    "        my_list.append(False)\n",
    "print(my_list)"
   ]
  },
  {
   "cell_type": "code",
   "execution_count": null,
   "id": "d2d30eac",
   "metadata": {},
   "outputs": [],
   "source": [
    "#Create a code that takes a string and prints the number (count) of vowels contained within it.\n",
    "# Notes\n",
    "# a, e, i, o, u are considered vowels (not y).\n",
    "# All test cases are one word and only contain letters.\n",
    "word = input()\n",
    "vowels = [\"a\", \"e\", \"i\", \"o\", \"u\"]\n",
    "number_of_vowels = 0\n",
    "for letter in word:\n",
    "    if letter in vowels:\n",
    "        number_of_vowels += 1\n",
    "print(number_of_vowels)"
   ]
  },
  {
   "cell_type": "code",
   "execution_count": null,
   "id": "c6b12369",
   "metadata": {},
   "outputs": [],
   "source": [
    "#An isogram is a word that has no duplicate letters.\n",
    "# Create a code that takes a string and print either True or False depending on whether or not it's an \"isogram\".\n",
    "# Notes.\n",
    "# Ignore letter case (should not be case sensitive).\n",
    "# All test cases contain valid one word strings.\n",
    "\n",
    "word = input()\n",
    "word = word.lower()\n",
    "check_word = set(word)\n",
    "if len(word) == len(set(word)):\n",
    "    print(\"True\")\n",
    "else:\n",
    "    print(\"False\")"
   ]
  },
  {
   "cell_type": "code",
   "execution_count": null,
   "id": "b9781257",
   "metadata": {},
   "outputs": [],
   "source": [
    "#Create a function that returns the mean of all digits.\n",
    "# The mean of all digits is the sum of digits / how many digits there are (e.g. mean of digits in 512 is (5+1+2)/3(number of digits) = 8/3=3).\n",
    "# The mean will always be an integer.\n",
    "\n",
    "n = int(input())\n",
    "numbers = []\n",
    "for d in str(n):\n",
    "    digits = int(d)\n",
    "    numbers.append(digits)\n",
    "result = sum(numbers) / len(numbers)\n",
    "print(round(result))"
   ]
  },
  {
   "cell_type": "code",
   "execution_count": 6,
   "id": "ea3741db",
   "metadata": {},
   "outputs": [
    {
     "name": "stdout",
     "output_type": "stream",
     "text": [
      "1100100\n"
     ]
    }
   ],
   "source": [
    "#convert from decimal to binary\n",
    "decimal = int(input())\n",
    "result = bin(decimal)[2:]\n",
    "print(result)"
   ]
  },
  {
   "cell_type": "code",
   "execution_count": null,
   "id": "6f76004f",
   "metadata": {},
   "outputs": [],
   "source": [
    "my_list = input()\n",
    "new_list = list(my_list)\n",
    "final_list = []\n",
    "for element in new_list:\n",
    "    if element.isdigit():\n",
    "        final_list.append(element)\n",
    "print(final_list)\n",
    "float_list = []\n",
    "for element in final_list:\n",
    "    element = float(element)\n",
    "    float_list.append(element)\n",
    "print(float_list)"
   ]
  },
  {
   "cell_type": "code",
   "execution_count": null,
   "id": "d7f23fd7",
   "metadata": {},
   "outputs": [],
   "source": [
    "#Read a list that contains elements of integer type and print.\n",
    "#Then use a loop to change the type of these elements to a floating type and print.\n",
    "# (Hint: use the built-in float() function).\n",
    "my_list = input()\n",
    "new_list = my_list.split(\",\")\n",
    "final_list = []\n",
    "for element in new_list:\n",
    "    final_list.append(int(element))\n",
    "print(final_list)\n",
    "float_list = []\n",
    "for element in final_list:\n",
    "    float_list.append(float(element))\n",
    "print(float_list)"
   ]
  },
  {
   "cell_type": "code",
   "execution_count": null,
   "id": "c9315a46",
   "metadata": {},
   "outputs": [],
   "source": [
    "#Create a code that takes a list of non-negative integers and strings and makes a new list without the strings.\n",
    "lst = input()\n",
    "result = []\n",
    "for item in lst.split(\",\"):\n",
    "    item = item.strip()\n",
    "    if item.isdigit():\n",
    "        result.append(int(item))\n",
    "print(result)"
   ]
  },
  {
   "cell_type": "code",
   "execution_count": null,
   "id": "7c2bce70",
   "metadata": {},
   "outputs": [],
   "source": [
    "#Create a code that makes a list and finds the list of integers that appear an odd number of times.\n",
    "lst  = input()\n",
    "lst = lst.split(\",\")\n",
    "new_lst = []\n",
    "result = []\n",
    "for element in lst:\n",
    "    element = element.strip()\n",
    "    new_lst.append(element)\n",
    "for element in new_lst:\n",
    "    count = new_lst.count(element)\n",
    "    if count % 2 != 0:\n",
    "        result.append(int(element))\n",
    "result = set(result)\n",
    "result = list(result)"
   ]
  },
  {
   "cell_type": "code",
   "execution_count": null,
   "id": "2e45af25",
   "metadata": {},
   "outputs": [],
   "source": [
    "#Given a list of numbers, create a code that makes the list but with each element's index in the list added to itself. This means you add 0 to the number at index 0, add 1 to the number at index 1, etc...\n",
    "lst = input()\n",
    "lst = lst.split(\",\")\n",
    "new_lst = []\n",
    "result = []\n",
    "for element in lst:\n",
    "    element = element.strip()\n",
    "    new_lst.append(int(element))\n",
    "for index, value in enumerate(new_lst):\n",
    "    n = index + value\n",
    "    result.append(n)\n",
    "print(result)"
   ]
  },
  {
   "cell_type": "code",
   "execution_count": null,
   "id": "6a097a73",
   "metadata": {},
   "outputs": [],
   "source": [
    "#Given a list of numbers and a value n, write a code that determines the probability of choosing a number greater than or equal to n from the list. The probability should be expressed as a percentage, rounded to one decimal place.\n",
    "# Notes. Precent probability of event = 100 * (num of favourable outcomes) / (total num of possible outcomes)\n",
    "lst = input()\n",
    "num = int(input())\n",
    "lst = lst.split(\",\")\n",
    "new_lst = []\n",
    "for element in lst:\n",
    "    element = element.strip()\n",
    "    new_lst.append(int(element))\n",
    "bigger_num_count = 0\n",
    "for element in new_lst:\n",
    "    if element >= num:\n",
    "        bigger_num_count += 1\n",
    "result = 100 * bigger_num_count / len(new_lst)\n",
    "result = round(result, 1)\n",
    "print(result)"
   ]
  },
  {
   "cell_type": "code",
   "execution_count": null,
   "id": "dd8fcd5a",
   "metadata": {},
   "outputs": [],
   "source": [
    "#Given an unsorted list, create a code that assigns the result the nth smallest integer (the smallest integer is the first smallest, the second smallest integer is the second smallest, etc).\n",
    "\n",
    "#Notes\n",
    "# n will always be >= 1.\n",
    "# Each number in the array will be distinct (there will be a clear ordering).\n",
    "# Given an out of bounds parameter (e.g. a list is of size k), and you are asked to find the m > k smallest integer, return None.\n",
    "lst = input()\n",
    "n = int(input())\n",
    "lst = lst.split(\",\")\n",
    "new_lst = []\n",
    "for element in lst:\n",
    "    element = element.strip()\n",
    "    new_lst.append(int(element))\n",
    "if n > len(new_lst):\n",
    "    result = \"None\"\n",
    "else:\n",
    "    for index, value in enumerate(sorted(new_lst)):\n",
    "        if index + 1 == n:\n",
    "            result = value\n",
    "print(result)\n"
   ]
  },
  {
   "cell_type": "code",
   "execution_count": null,
   "id": "fe21043d",
   "metadata": {},
   "outputs": [],
   "source": [
    "#Write python module. All your code will be writed in file module.py. If we run pyhon module.py it must print \"Hello world!\" in terminal. But if we import this file we must be able to call function say_greeting, which obtain one argument name and print in terminal \"Hello {name}\".\n",
    "# Note that your code will be callad once in first test case.\n",
    "\n",
    "def say_greeting(name):\n",
    "        print(f\"Hello {name}\")\n",
    "\n",
    "if __name__ == \"__main__\":\n",
    "    print(\"Hello world!\")\n",
    "    "
   ]
  },
  {
   "cell_type": "code",
   "execution_count": null,
   "id": "81ef40d9",
   "metadata": {},
   "outputs": [],
   "source": [
    "#We have file module.py with such code:\n",
    "# FREEZING_POINT = None\n",
    "# BOILING_POINT = None\n",
    "# def print_water_state(temperature):\n",
    "# if temperature <= FREEZING_POINT:\n",
    "# print(\"Solid\")\n",
    "# elif FREEZING_POINT < temperature < BOILING_POINT:\n",
    "# print(\"Liquid\")\n",
    "# else:\n",
    "# print(\"Gas\")\n",
    "# Use this module in your script to print the state of the water if its temperature is determined with input from the user. We assume that the freezing point is 0 degrees and the boiling point is 100 degrees.\n",
    "# Do not use any function definitions or if statements in your code.\n",
    "import module\n",
    "\n",
    "water_temp = int(input())\n",
    "module.FREEZING_POINT = 0\n",
    "module.BOILING_POINT = 100\n",
    "module.print_water_state(water_temp)"
   ]
  },
  {
   "cell_type": "code",
   "execution_count": null,
   "id": "5b8429db",
   "metadata": {},
   "outputs": [],
   "source": [
    "#Create a program that models a zoo. The program should have a base class Animal that stores the animal's name, species, and number of legs. The class should have a method make_sound that returns a string indicating the sound the animal makes. The make_sound method should be overriden in the subclasses to return a sound specific to each type of animal.\n",
    "# Then, create three subclasses of Animal: Mammal, Bird, and Reptile. Each of these subclasses should inherit the name, species, and number of legs from the Animal class.\n",
    "# For the Mammal class, add a method give_birth and return \"Roar\" for make_sound method.\n",
    "# For the Bird class, add a method lay_eggs and return \"Squawk\" for make_sound method.\n",
    "# For the Reptile class, add a method shed_skin and return \"Hiss\" for make_sound method.\n",
    "class Animal:\n",
    "    def __init__(self, name, species, legs):\n",
    "        self.name = name\n",
    "        self.species = species\n",
    "        self.legs = legs\n",
    "        \n",
    "    def make_sound(self):\n",
    "        return \"the sound is\"\n",
    "    \n",
    "class Mammal(Animal):\n",
    "    def __init__(self, name, species, legs):\n",
    "        super().__init__(name, species, legs)\n",
    "    def make_sound(self):\n",
    "        return \"Roar\"\n",
    "    def give_birth(self):\n",
    "        return f\"Animal: {self.name}, Species:{self.species}, Legs: {self.legs}, Sound:{self.make_sound()}\"\n",
    "\n",
    "class Bird(Animal):\n",
    "    def __init__(self, name, species, legs):\n",
    "        super().__init__(name, species, legs)\n",
    "    def make_sound(self):\n",
    "        return \"Squawk\"\n",
    "    def lay_eggs(self):\n",
    "        return f\"Animal: {self.name}, Species:{self.species}, Legs: {self.legs}, Sound:{self.make_sound()}\"\n",
    "\n",
    "class Reptile(Animal):\n",
    "    def __init__(self, name, species, legs):\n",
    "        super().__init__(name, species, legs)\n",
    "    def make_sound(self):\n",
    "        return \"Hiss\"\n",
    "    def shed_skin(self):\n",
    "        return f\"Animal: {self.name}, Species:{self.species}, Legs: {self.legs}, Sound:{self.make_sound()}\""
   ]
  },
  {
   "cell_type": "code",
   "execution_count": null,
   "id": "3912f786",
   "metadata": {},
   "outputs": [],
   "source": [
    "#Create a class \"BankAccount\" that implements encapsulation. The class should have the following attributes:\n",
    "# account_number (string)\n",
    "# account_holder (string)\n",
    "# balance (float)\n",
    "# The class should have the following methods:\n",
    "# deposit(amount) - a method that allows the account holder to deposit money into the account\n",
    "# withdraw(amount) - a method that allows the account holder to withdraw money from the account; write \"Insufficient funds\" if money doesn't enough\n",
    "# check_balance() - a method that returns the current balance of the account\n",
    "# The class should also have the following restrictions:\n",
    "# account_number should not be accessible from outside the class\n",
    "# balance should not be directly accessible from outside the class, it should only be accessible through the methods deposit() and withdraw()\n",
    "# account_holder should be accessible from outside the class but should not be modifiable\n",
    "class BankAccount:\n",
    "    def __init__(self, account_number, account_holder, balance):\n",
    "        self.__account_number = str(account_number)\n",
    "        self.__account_holder = str(account_holder)\n",
    "        self.__balance = float(balance)\n",
    "\n",
    "    @property\n",
    "    def account_holder(self):\n",
    "        return self.__account_holder \n",
    "    \n",
    "    def deposit(self, amount):\n",
    "        self.__balance = self.__balance + amount\n",
    "        return self.__balance\n",
    "    \n",
    "    def withdraw(self, amount):\n",
    "        if amount > self.__balance:\n",
    "            print (\"Insufficient funds\")\n",
    "            return \"Insufficient funds\"\n",
    "        self.__balance = self.__balance - amount\n",
    "        return self.__balance\n",
    "        \n",
    "    def check_balance(self):\n",
    "        return self.__balance"
   ]
  },
  {
   "cell_type": "code",
   "execution_count": 14,
   "id": "5c05e8d8",
   "metadata": {},
   "outputs": [
    {
     "name": "stdout",
     "output_type": "stream",
     "text": [
      "6\n"
     ]
    }
   ],
   "source": [
    "#With help input obtain from user his age. Age must be natural number.\n",
    "# If user try input incorrect value ask him again. If user typed correct age print this value.\n",
    "# Do not use if in your code, but you can use already created function check_age for validation.\n",
    "def check_age(value):\n",
    "    age = int(value)\n",
    "    assert age > 0, \"Incorrect age\"\n",
    "    return age\n",
    "\n",
    "age = None\n",
    "\n",
    "while age is None:\n",
    "    try:\n",
    "        for part in input().split():\n",
    "            age = check_age(part)\n",
    "            break  \n",
    "    except Exception:\n",
    "        pass  \n",
    "print(age)\n",
    "\n",
    "\n"
   ]
  }
 ],
 "metadata": {
  "kernelspec": {
   "display_name": ".venv",
   "language": "python",
   "name": "python3"
  },
  "language_info": {
   "codemirror_mode": {
    "name": "ipython",
    "version": 3
   },
   "file_extension": ".py",
   "mimetype": "text/x-python",
   "name": "python",
   "nbconvert_exporter": "python",
   "pygments_lexer": "ipython3",
   "version": "3.12.2"
  }
 },
 "nbformat": 4,
 "nbformat_minor": 5
}
