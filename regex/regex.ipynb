{
 "cells": [
  {
   "cell_type": "code",
   "execution_count": null,
   "metadata": {},
   "outputs": [],
   "source": [
    "#RegEx (Regular Expression) is a sequence of characters that forms a search pattern;\n",
    "#RegEx can be used to check if a string contains the specified search pattern\n",
    "#python has a built-in package called re, which can be used to work with Regular Expressions\n",
    "#the re module offers a set of functions that allows us to search a string for a match:\n",
    "#findall\n",
    "#search\n",
    "#split\n",
    "#sub"
   ]
  },
  {
   "cell_type": "code",
   "execution_count": 5,
   "metadata": {},
   "outputs": [
    {
     "name": "stdout",
     "output_type": "stream",
     "text": [
      "['ai', 'ai']\n",
      "[]\n"
     ]
    }
   ],
   "source": [
    "#FINDALL()- returns a list containing all matches\n",
    "import re\n",
    "txt=\"The rain in Spain\"\n",
    "x=re.findall(\"ai\",txt)\n",
    "print(x)\n",
    "\n",
    "# if no match - an empty list is returned:\n",
    "import re\n",
    "txt=\"The rain in Spain\"\n",
    "x=re.findall(\"Portugal\", txt)\n",
    "print(x)"
   ]
  },
  {
   "cell_type": "code",
   "execution_count": 8,
   "metadata": {},
   "outputs": [
    {
     "name": "stdout",
     "output_type": "stream",
     "text": [
      "<re.Match object; span=(0, 3), match='The'>\n",
      "<re.Match object; span=(5, 7), match='ai'>\n",
      "None\n"
     ]
    }
   ],
   "source": [
    "#SEARCH() - searches the string for a match, and returns a Match object if there is a match.\n",
    "#if there is more than one match, only the first occurrence of the match will be returned.\n",
    "#if no matches are found, the value None is returned\n",
    "import re\n",
    "txt=\"The rain in Spain\"\n",
    "x=re.search(\"The\", txt)\n",
    "print(x)\n",
    "\n",
    "import re\n",
    "txt=\"The rain in Spain\"\n",
    "x=re.search(\"ai\", txt)\n",
    "print(x)\n",
    "\n",
    "import re\n",
    "txt=\"The rain in Spain\"\n",
    "x=re.search(\"and\", txt)\n",
    "print(x)"
   ]
  },
  {
   "cell_type": "code",
   "execution_count": 15,
   "metadata": {},
   "outputs": [
    {
     "name": "stdout",
     "output_type": "stream",
     "text": [
      "['The', 'rain', 'in', 'Spain']\n",
      "['The', 'rain,in,Spain']\n"
     ]
    }
   ],
   "source": [
    "#SPLIT() - returns a list where the string has been split at each match:\n",
    "import re\n",
    "txt=\"The,rain,in,Spain\"\n",
    "x=re.split(\",\", txt)\n",
    "print(x)\n",
    "\n",
    "#it's possible to split the string at the first occurence, for example:\n",
    "import re\n",
    "txt=\"The,rain,in,Spain\"\n",
    "x=re.split(\",\", txt, 1)\n",
    "print(x)"
   ]
  },
  {
   "cell_type": "code",
   "execution_count": 23,
   "metadata": {},
   "outputs": [
    {
     "name": "stdout",
     "output_type": "stream",
     "text": [
      "The,,,rain,,,in,,,Spain\n",
      "The,,,rain,in,Spain\n"
     ]
    }
   ],
   "source": [
    "#SUB()- replaces the matches with the text of your choice:\n",
    "import re\n",
    "txt=\"The,rain,in,Spain\"\n",
    "x=re.sub(\",\",\",,,\", txt)\n",
    "print(x)\n",
    "#you can control the number of replacements by specifying the count parameter:\n",
    "import re\n",
    "txt=\"The,rain,in,Spain\"\n",
    "x=re.sub(\",\",\",,,\", txt,1)\n",
    "print(x)"
   ]
  },
  {
   "cell_type": "code",
   "execution_count": 24,
   "metadata": {},
   "outputs": [
    {
     "name": "stdout",
     "output_type": "stream",
     "text": [
      "['h', 'e', 'a', 'i', 'i', 'a', 'i']\n"
     ]
    }
   ],
   "source": [
    "#[]\t- set of characters\n",
    "#find all lower case characters alphabetically between \"a\" and \"m\":\n",
    "import re\n",
    "txt=\"The rain in Spain\"\n",
    "x=re.findall(\"[a-m]\",txt)\n",
    "print(x)"
   ]
  },
  {
   "cell_type": "code",
   "execution_count": 1,
   "metadata": {},
   "outputs": [
    {
     "name": "stdout",
     "output_type": "stream",
     "text": [
      "['5', '9']\n"
     ]
    },
    {
     "name": "stderr",
     "output_type": "stream",
     "text": [
      "<>:4: SyntaxWarning: invalid escape sequence '\\d'\n",
      "<>:4: SyntaxWarning: invalid escape sequence '\\d'\n",
      "/var/folders/3t/w6f2y69j3vlglkycbqlt61j80000gq/T/ipykernel_17712/1188249017.py:4: SyntaxWarning: invalid escape sequence '\\d'\n",
      "  x = re.findall (\"\\d\", txt)\n"
     ]
    }
   ],
   "source": [
    "# \"\\\" - signals a special sequence (can also be used to escape special characters)\n",
    "import re\n",
    "txt = \"That will be 59 dollars\"\n",
    "x = re.findall (\"\\d\", txt)\n",
    "print (x)"
   ]
  },
  {
   "cell_type": "code",
   "execution_count": 2,
   "metadata": {},
   "outputs": [
    {
     "name": "stdout",
     "output_type": "stream",
     "text": [
      "['rain']\n"
     ]
    }
   ],
   "source": [
    "# \".\" - any character (except newline character)\n",
    "import re\n",
    "txt=\"The rain in Spain\"\n",
    "x=re.findall(\"r..n\",txt)\n",
    "print(x)"
   ]
  },
  {
   "cell_type": "code",
   "execution_count": 3,
   "metadata": {},
   "outputs": [
    {
     "name": "stdout",
     "output_type": "stream",
     "text": [
      "Yes\n"
     ]
    }
   ],
   "source": [
    "#\"^\" - starts with:\n",
    "import re\n",
    "txt=\"The rain in Spain\"\n",
    "x=re.findall(\"^The\",txt)\n",
    "if x:\n",
    "    print (\"Yes\")\n",
    "else:\n",
    "    print (\"No match\")\n"
   ]
  },
  {
   "cell_type": "code",
   "execution_count": 6,
   "metadata": {},
   "outputs": [
    {
     "name": "stdout",
     "output_type": "stream",
     "text": [
      "Yes, the string ends with 'Spain'\n"
     ]
    }
   ],
   "source": [
    "#\"$\" - ends with:\n",
    "import re\n",
    "txt=\"The rain in Spain\"\n",
    "x=re.findall(\"Spain$\",txt)\n",
    "if x:\n",
    "    print (\"Yes, the string ends with 'Spain'\")\n",
    "else:\n",
    "    print (\"No match\")"
   ]
  },
  {
   "cell_type": "code",
   "execution_count": 7,
   "metadata": {},
   "outputs": [
    {
     "name": "stdout",
     "output_type": "stream",
     "text": [
      "['hello']\n"
     ]
    }
   ],
   "source": [
    "#\"*\" - zero or more occurences:\n",
    "#Search for a sequence that starts with \"he\", followed by 0 or more  (any) characters, and an \"o\":\n",
    "import re\n",
    "txt = \"hello planet\"\n",
    "x = re.findall(\"he.*o\", txt)\n",
    "print(x)"
   ]
  },
  {
   "cell_type": "code",
   "execution_count": 8,
   "metadata": {},
   "outputs": [
    {
     "name": "stdout",
     "output_type": "stream",
     "text": [
      "['hello']\n"
     ]
    }
   ],
   "source": [
    "#\"+\" - one or more characters:\n",
    "##Search for a sequence that starts with \"he\", followed by 1 or more  (any) characters, and an \"o\"\n",
    "import re\n",
    "txt = \"hello planet\"\n",
    "x = re.findall(\"he.+o\", txt)\n",
    "print(x)"
   ]
  },
  {
   "cell_type": "code",
   "execution_count": 9,
   "metadata": {},
   "outputs": [
    {
     "name": "stdout",
     "output_type": "stream",
     "text": [
      "['hello']\n"
     ]
    }
   ],
   "source": [
    "#\"?\" - zero or one occurences:\n",
    "#Search for a sequence that starts with \"he\", followed by 0 or 1  (any) character, and \"lo\"\n",
    "import re\n",
    "txt = \"hello planet\"\n",
    "x = re.findall(\"he.?lo\", txt)\n",
    "print(x)"
   ]
  },
  {
   "cell_type": "code",
   "execution_count": 10,
   "metadata": {},
   "outputs": [
    {
     "name": "stdout",
     "output_type": "stream",
     "text": [
      "['hello']\n"
     ]
    }
   ],
   "source": [
    "#\"{}\" - exactly the specified number of occurrences:\n",
    "#Search for a sequence that starts with \"he\", followed excactly 2 (any) characters, and an \"o\":\n",
    "import re\n",
    "txt = \"hello planet\"\n",
    "x = re.findall(\"he.{2}o\", txt)\n",
    "print(x)\n"
   ]
  },
  {
   "cell_type": "code",
   "execution_count": 11,
   "metadata": {},
   "outputs": [
    {
     "name": "stdout",
     "output_type": "stream",
     "text": [
      "['falls']\n"
     ]
    }
   ],
   "source": [
    "#\"|\" - either or\n",
    "#Check if the string contains either \"falls\" or \"stays\":\n",
    "import re\n",
    "txt = \"The rain in Spain falls mainly in the plain!\"\n",
    "x = re.findall(\"falls|stays\", txt)\n",
    "print(x)"
   ]
  },
  {
   "cell_type": "code",
   "execution_count": 13,
   "metadata": {},
   "outputs": [
    {
     "name": "stdout",
     "output_type": "stream",
     "text": [
      "[' ', ' ', ' ']\n"
     ]
    },
    {
     "name": "stderr",
     "output_type": "stream",
     "text": [
      "<>:5: SyntaxWarning: invalid escape sequence '\\s'\n",
      "<>:5: SyntaxWarning: invalid escape sequence '\\s'\n",
      "/var/folders/3t/w6f2y69j3vlglkycbqlt61j80000gq/T/ipykernel_17712/3559812100.py:5: SyntaxWarning: invalid escape sequence '\\s'\n",
      "  x = re.findall(\"\\s\", txt)\n"
     ]
    }
   ],
   "source": [
    "# \\s - Returns a match where the string contains a white space character:\n",
    "#return a match at every white-space character:\n",
    "import re\n",
    "txt = \"The rain in Spain\"\n",
    "x = re.findall(\"\\s\", txt)\n",
    "print (x)"
   ]
  }
 ],
 "metadata": {
  "kernelspec": {
   "display_name": ".venv",
   "language": "python",
   "name": "python3"
  },
  "language_info": {
   "codemirror_mode": {
    "name": "ipython",
    "version": 3
   },
   "file_extension": ".py",
   "mimetype": "text/x-python",
   "name": "python",
   "nbconvert_exporter": "python",
   "pygments_lexer": "ipython3",
   "version": "3.12.2"
  }
 },
 "nbformat": 4,
 "nbformat_minor": 2
}
