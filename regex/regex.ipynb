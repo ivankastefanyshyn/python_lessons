{
 "cells": [
  {
   "cell_type": "code",
   "execution_count": null,
   "id": "d8b9b4b1",
   "metadata": {},
   "outputs": [],
   "source": [
    "#RegEx, or Regular Expression, is a sequence of characters that forms a search pattern.\n",
    "#RegEx can be used to check if a string contains the specified search pattern.\n",
    "#re - built-in package, which can be used to work with Regular Expressions.\n",
    "#import re"
   ]
  },
  {
   "cell_type": "code",
   "execution_count": null,
   "id": "37d293b8",
   "metadata": {},
   "outputs": [
    {
     "name": "stdout",
     "output_type": "stream",
     "text": [
      "Match found: The\n"
     ]
    }
   ],
   "source": [
    "#match()- searches for matches from the beginning of a string while\n",
    "#!!!re.search() searches for matches anywhere in the string.\n",
    "import re\n",
    "\n",
    "txt = \"The rain in Spain\"\n",
    "result = re.match(\"The\", txt)\n",
    "if result:\n",
    "    print(\"Match found:\", result.group())\n",
    "else:\n",
    "    print(\"No match\")"
   ]
  },
  {
   "cell_type": "code",
   "execution_count": null,
   "id": "e6d36d06",
   "metadata": {},
   "outputs": [
    {
     "name": "stdout",
     "output_type": "stream",
     "text": [
      "ai\n",
      "None\n"
     ]
    }
   ],
   "source": [
    "#search() function searches the string for a match, and returns a Match object if there is a match.\n",
    "#If no matches are found, the value None is returned:\n",
    "import re\n",
    "\n",
    "txt = \"The rain in Spain\"\n",
    "x = re.search(\"ai\", txt)\n",
    "print(x.group())\n",
    "x = re.search(\"Portugal\", txt)\n",
    "print(x)"
   ]
  },
  {
   "cell_type": "code",
   "execution_count": 21,
   "id": "0841c399",
   "metadata": {},
   "outputs": [
    {
     "name": "stdout",
     "output_type": "stream",
     "text": [
      "['ai', 'ai']\n",
      "[]\n"
     ]
    }
   ],
   "source": [
    "#findall() function returns a list containing all matches.\n",
    "# The list contains the matches in the order they are found.\n",
    "# If no matches are found, an empty list is returned:\n",
    "\n",
    "import re\n",
    "txt = \"The rain in Spain\"\n",
    "x = re.findall(\"ai\", txt)\n",
    "print(x)\n",
    "x = re.findall(\"Portugal\", txt)\n",
    "print(x)"
   ]
  },
  {
   "cell_type": "code",
   "execution_count": null,
   "id": "4a98872e",
   "metadata": {},
   "outputs": [
    {
     "name": "stdout",
     "output_type": "stream",
     "text": [
      "['The', 'rain', 'in', 'Spain']\n",
      "['The', 'rain', 'in Spain']\n"
     ]
    }
   ],
   "source": [
    "#split() function returns a list where the string has been split at each match\n",
    "import re\n",
    "\n",
    "txt = \"The rain in Spain\"\n",
    "x = re.split(\" \", txt)\n",
    "print(x)\n",
    "\n",
    "#You can control the number of occurrences by specifying the maxsplit parameter\n",
    "import re\n",
    "\n",
    "txt = \"The rain in Spain\"\n",
    "x = re.split(\" \", txt, 2)\n",
    "print(x)"
   ]
  },
  {
   "cell_type": "code",
   "execution_count": 14,
   "id": "1d78a085",
   "metadata": {},
   "outputs": [
    {
     "name": "stdout",
     "output_type": "stream",
     "text": [
      "The*rain*in*Spain\n",
      "The*rain*in Spain\n"
     ]
    }
   ],
   "source": [
    "#sub() function replaces the matches with the text of your choice\n",
    "import re\n",
    "\n",
    "txt = \"The rain in Spain\"\n",
    "x = re.sub(\" \", \"*\", txt)\n",
    "print(x)\n",
    "\n",
    "#You can control the number of replacements by specifying the count parameter:\n",
    "import re\n",
    "\n",
    "txt = \"The rain in Spain\"\n",
    "x = re.sub(\" \", \"*\", txt, 2)\n",
    "print(x)"
   ]
  },
  {
   "cell_type": "code",
   "execution_count": 22,
   "id": "957acf79",
   "metadata": {},
   "outputs": [
    {
     "name": "stdout",
     "output_type": "stream",
     "text": [
      "Found: ['in', 'in', 'in', 'in', 'in', 'in']\n"
     ]
    }
   ],
   "source": [
    "#compile() - its primary purpose is to compile a regular expression pattern into a regular expression object. \n",
    "#This object then exposes methods like search(), match(), findall(), sub(), etc., which can be called on the object to perform various operations against target strings.\n",
    "\n",
    "import re\n",
    "\n",
    "txt = \"The rain in Spain falls mainly in the plain.\"\n",
    "pattern = re.compile(\"in\")\n",
    "matches = pattern.findall(txt)\n",
    "print(\"Found:\", matches)"
   ]
  },
  {
   "cell_type": "code",
   "execution_count": 25,
   "id": "7f4e3635",
   "metadata": {},
   "outputs": [
    {
     "name": "stdout",
     "output_type": "stream",
     "text": [
      "Found: rain\n",
      "Start: 4\n",
      "End: 8\n",
      "Span: (4, 8)\n"
     ]
    }
   ],
   "source": [
    "#Match object - object containing information about the search and the result.\n",
    "#If there is no match, the value None will be returned, instead of the Match Object\n",
    "# Match object has properties and methods used to retrieve information about the search, and the result: match.group(), match.start(), match.end(), match.span()\n",
    "import re\n",
    "\n",
    "txt = \"The rain in Spain\"\n",
    "match = re.search(\"rain\", txt)\n",
    "\n",
    "if match:\n",
    "    print(\"Found:\", match.group())\n",
    "    print(\"Start:\", match.start())\n",
    "    print(\"End:\", match.end())\n",
    "    print(\"Span:\", match.span())"
   ]
  },
  {
   "cell_type": "code",
   "execution_count": null,
   "id": "10df8704",
   "metadata": {},
   "outputs": [],
   "source": [
    "#Metacharacters are characters with a special meaning\n",
    "#there is a plenty of them"
   ]
  },
  {
   "cell_type": "code",
   "execution_count": null,
   "id": "44d06c22",
   "metadata": {},
   "outputs": [
    {
     "name": "stdout",
     "output_type": "stream",
     "text": [
      "['h', 'e', 'a', 'i', 'i', 'a', 'i']\n"
     ]
    }
   ],
   "source": [
    "#\"[]\" - set of characters\n",
    "#F.E., find all lower case characters alphabetically between \"a\" and \"m\":\n",
    "import re\n",
    "\n",
    "txt = \"The rain in Spain\" \n",
    "x = re.findall(\"[a-m]\", txt)\n",
    "print(x)\n",
    "\n"
   ]
  },
  {
   "cell_type": "code",
   "execution_count": 29,
   "id": "6d7c925a",
   "metadata": {},
   "outputs": [
    {
     "name": "stdout",
     "output_type": "stream",
     "text": [
      "['5', '9']\n"
     ]
    }
   ],
   "source": [
    "# \\ - signals a special sequence (can also be used to escape special characters)\n",
    "# F.E., find all digit characters:\n",
    "import re\n",
    "\n",
    "txt = \"That will be 59 dollars\"\n",
    "x = re.findall(r\"\\d\", txt)\n",
    "print(x)"
   ]
  },
  {
   "cell_type": "code",
   "execution_count": 30,
   "id": "441a2077",
   "metadata": {},
   "outputs": [
    {
     "name": "stdout",
     "output_type": "stream",
     "text": [
      "['hello']\n"
     ]
    }
   ],
   "source": [
    "# . - Any character (except newline character)\n",
    "#F.E., search for a sequence that starts with \"he\", followed by two (any) characters, and an \"o\":\n",
    "import re\n",
    "\n",
    "txt = \"hello planet\"\n",
    "x = re.findall(\"he..o\", txt)\n",
    "print(x)"
   ]
  },
  {
   "cell_type": "code",
   "execution_count": 31,
   "id": "268633a1",
   "metadata": {},
   "outputs": [
    {
     "name": "stdout",
     "output_type": "stream",
     "text": [
      "Yes, the string starts with 'hello'\n"
     ]
    }
   ],
   "source": [
    "# ^ - starts with\n",
    "#F.E., check if the string starts with 'hello':\n",
    "import re\n",
    "\n",
    "txt = \"hello planet\"\n",
    "x = re.findall(\"^hello\", txt)\n",
    "if x:\n",
    "  print(\"Yes, the string starts with 'hello'\")\n",
    "else:\n",
    "  print(\"No match\")"
   ]
  },
  {
   "cell_type": "code",
   "execution_count": 32,
   "id": "f394ea3a",
   "metadata": {},
   "outputs": [
    {
     "name": "stdout",
     "output_type": "stream",
     "text": [
      "Yes, the string ends with 'planet'\n"
     ]
    }
   ],
   "source": [
    "# $ - ends with\n",
    "#F.E., check if the string ends with 'planet':\n",
    "import re\n",
    "\n",
    "txt = \"hello planet\"\n",
    "x = re.findall(\"planet$\", txt)\n",
    "if x:\n",
    "  print(\"Yes, the string ends with 'planet'\")\n",
    "else:\n",
    "  print(\"No match\")\n"
   ]
  },
  {
   "cell_type": "code",
   "execution_count": 33,
   "id": "d2c92d75",
   "metadata": {},
   "outputs": [
    {
     "name": "stdout",
     "output_type": "stream",
     "text": [
      "['hello']\n"
     ]
    }
   ],
   "source": [
    "# * - zero or more occurrences\n",
    "#F.E., search for a sequence that starts with \"he\", followed by 0 or more  (any) characters, and an \"o\":\n",
    "import re\n",
    "\n",
    "txt = \"hello planet\"\n",
    "x = re.findall(\"he.*o\", txt)\n",
    "print(x)\n"
   ]
  },
  {
   "cell_type": "code",
   "execution_count": 36,
   "id": "1cdd60c0",
   "metadata": {},
   "outputs": [
    {
     "name": "stdout",
     "output_type": "stream",
     "text": [
      "['hello']\n"
     ]
    }
   ],
   "source": [
    "# + - one or more occurrences\n",
    "#F.E., search for a sequence that starts with \"he\", followed by 1 or more  (any) characters, and an \"o\":\n",
    "import re\n",
    "txt = \"hello planet\"\n",
    "x = re.findall(\"he.+o\", txt)\n",
    "print(x)"
   ]
  },
  {
   "cell_type": "code",
   "execution_count": 39,
   "id": "e5ea6a7a",
   "metadata": {},
   "outputs": [
    {
     "name": "stdout",
     "output_type": "stream",
     "text": [
      "[]\n",
      "['hello']\n"
     ]
    }
   ],
   "source": [
    "# ? - zero or one occurrences\n",
    "#F.E., search for a sequence that starts with \"he\", followed by 0 or 1  (any) character, and an \"o\":\n",
    "import re\n",
    "txt = \"hello planet\"\n",
    "x = re.findall(\"he.?o\", txt)\n",
    "print(x)\n",
    "x = re.findall(\"hel.?o\", txt)\n",
    "print(x)"
   ]
  },
  {
   "cell_type": "code",
   "execution_count": 40,
   "id": "bb76b879",
   "metadata": {},
   "outputs": [
    {
     "name": "stdout",
     "output_type": "stream",
     "text": [
      "['hello']\n"
     ]
    }
   ],
   "source": [
    "# {} - exactly the specified number of occurrences\n",
    "#F.E., search for a sequence that starts with \"he\", followed excactly 2 (any) characters, and an \"o\":\n",
    "import re\n",
    "\n",
    "txt = \"hello planet\"\n",
    "x = re.findall(\"he.{2}o\", txt)\n",
    "print(x)"
   ]
  },
  {
   "cell_type": "code",
   "execution_count": null,
   "id": "639d15e4",
   "metadata": {},
   "outputs": [],
   "source": [
    "#Flags\n",
    "#You can add flags to the pattern when using regular expressions."
   ]
  },
  {
   "cell_type": "code",
   "execution_count": 45,
   "id": "c90c54f7",
   "metadata": {},
   "outputs": [
    {
     "name": "stdout",
     "output_type": "stream",
     "text": [
      "['l', 'a', 'n', 'd']\n",
      "['Å', 'l', 'a', 'n', 'd']\n",
      "['l', 'a', 'n', 'd']\n"
     ]
    }
   ],
   "source": [
    "#re.ASCII(re.A) - Returns only ASCII matches\t\n",
    "import re\n",
    "\n",
    "txt = \"Åland\"\n",
    "#Find all ASCII matches:\n",
    "print(re.findall(r\"\\w\", txt, re.ASCII))\n",
    "\n",
    "#Without the flag, the example would return all character:\n",
    "print(re.findall(r\"\\w\", txt))\n",
    "\n",
    "\n",
    "#Same result using the shorthand re.A flag:\n",
    "print(re.findall(r\"\\w\", txt, re.A))\n",
    "\n"
   ]
  },
  {
   "cell_type": "code",
   "execution_count": 46,
   "id": "37b12f41",
   "metadata": {},
   "outputs": [
    {
     "name": "stdout",
     "output_type": "stream",
     "text": [
      "LITERAL 115\n",
      "LITERAL 112\n",
      "LITERAL 97\n",
      "LITERAL 105\n",
      "LITERAL 110\n",
      "\n",
      " 0. INFO 16 0b11 5 5 (to 17)\n",
      "      prefix_skip 5\n",
      "      prefix [0x73, 0x70, 0x61, 0x69, 0x6e] ('spain')\n",
      "      overlap [0, 0, 0, 0, 0]\n",
      "17: LITERAL 0x73 ('s')\n",
      "19. LITERAL 0x70 ('p')\n",
      "21. LITERAL 0x61 ('a')\n",
      "23. LITERAL 0x69 ('i')\n",
      "25. LITERAL 0x6e ('n')\n",
      "27. SUCCESS\n",
      "[]\n"
     ]
    }
   ],
   "source": [
    "# re.DEBUG\t- returns debug information\t\n",
    "import re\n",
    "\n",
    "txt = \"The rain in Spain\"\n",
    "\n",
    "#Use a case-insensitive search when finding a match for Spain in the text:\n",
    "\n",
    "print(re.findall(\"spain\", txt, re.DEBUG))\n",
    "\n"
   ]
  },
  {
   "cell_type": "code",
   "execution_count": 47,
   "id": "b57823ed",
   "metadata": {},
   "outputs": [
    {
     "name": "stdout",
     "output_type": "stream",
     "text": [
      "['me\\nis']\n",
      "[]\n",
      "['me\\nis']\n"
     ]
    }
   ],
   "source": [
    "#re.DOTALL\t(re.S) - makes the . character match all characters (including newline character)\n",
    "import re\n",
    "\n",
    "txt = \"\"\"Hi\n",
    "my\n",
    "name\n",
    "is\n",
    "Sally\"\"\"\n",
    "\n",
    "#Search for a sequence that starts with \"me\", followed by one character, even a newline character, and continues with \"is\":\n",
    "print(re.findall(\"me.is\", txt, re.DOTALL))\n",
    "\n",
    "#This example would return no match without the re.DOTALL flag:\n",
    "print(re.findall(\"me.is\", txt))\n",
    "\n",
    "\n",
    "#Same result with the shorthand re.S flag:\n",
    "print(re.findall(\"me.is\", txt, re.S))"
   ]
  },
  {
   "cell_type": "code",
   "execution_count": 48,
   "id": "825cbea5",
   "metadata": {},
   "outputs": [
    {
     "name": "stdout",
     "output_type": "stream",
     "text": [
      "['Spain']\n",
      "['Spain']\n"
     ]
    }
   ],
   "source": [
    "#re.IGNORECASE\t(re.I) - Case-insensitive matching\t\n",
    "import re\n",
    "\n",
    "txt = \"The rain in Spain\"\n",
    "\n",
    "#Use a case-insensitive search when finding a match for Spain in the text:\n",
    "print(re.findall(\"spain\", txt, re.IGNORECASE))\n",
    "\n",
    "\n",
    "#Same result using the shorthand re.I flag:\n",
    "print(re.findall(\"spain\", txt, re.I))\n"
   ]
  },
  {
   "cell_type": "code",
   "execution_count": 49,
   "id": "76723f00",
   "metadata": {},
   "outputs": [
    {
     "name": "stdout",
     "output_type": "stream",
     "text": [
      "['ain']\n",
      "[]\n",
      "['ain']\n"
     ]
    }
   ],
   "source": [
    "#re.MULTILINE\t(re.M) - returns only matches at the beginning of each line\n",
    "import re\n",
    "\n",
    "txt = \"\"\"There\n",
    "aint much\n",
    "rain in \n",
    "Spain\"\"\"\n",
    "\n",
    "#Search for the sequence \"ain\", at the beginning of a line:\n",
    "print(re.findall(\"^ain\", txt, re.MULTILINE))\n",
    "\n",
    "#This example would return no matches without the re.MULTILINE flag, because the ^ character without re.MULTILINE only get a match at the very beginning of the text:\n",
    "print(re.findall(\"^ain\", txt))\n",
    "\n",
    "\n",
    "#Same result with the shorthand re.M flag:\n",
    "print(re.findall(\"^ain\", txt, re.M))"
   ]
  },
  {
   "cell_type": "code",
   "execution_count": null,
   "id": "278521b9",
   "metadata": {},
   "outputs": [],
   "source": [
    "# - re.NOFLAG - specifies that no flag is set for this pattern"
   ]
  },
  {
   "cell_type": "code",
   "execution_count": 51,
   "id": "62400aed",
   "metadata": {},
   "outputs": [
    {
     "name": "stdout",
     "output_type": "stream",
     "text": [
      "['Å', 'l', 'a', 'n', 'd']\n",
      "['Å', 'l', 'a', 'n', 'd']\n"
     ]
    }
   ],
   "source": [
    "#re.UNICODE\t(re.U) - Returns Unicode matches\n",
    "import re\n",
    "\n",
    "txt = \"Åland\"\n",
    "\n",
    "#Find all UNICODE matches:\n",
    "print(re.findall(r\"\\w\", txt, re.UNICODE))\n",
    "\n",
    "\n",
    "#Same result using the shorthand re.U flag:\n",
    "print(re.findall(r\"\\w\", txt, re.U))"
   ]
  },
  {
   "cell_type": "code",
   "execution_count": 52,
   "id": "43922a8e",
   "metadata": {},
   "outputs": [
    {
     "name": "stdout",
     "output_type": "stream",
     "text": [
      "['rain', 'Spain', 'mainly', 'plain']\n",
      "[]\n",
      "['rain', 'Spain', 'mainly', 'plain']\n"
     ]
    }
   ],
   "source": [
    "# - re.VERBOSE\t(re.X)\n",
    "import re\n",
    "\n",
    "text = \"The rain in Spain falls mainly on the plain\"\n",
    "\n",
    "#Find and return words that contains the phrase \"ain\":\n",
    "\n",
    "pattern = \"\"\"\n",
    "[A-Za-z]* #starts with any letter\n",
    "ain+      #contains 'ain'\n",
    "[a-z]*    #followed by any small letter\n",
    "\"\"\"\n",
    "\n",
    "print(re.findall(pattern, text, re.VERBOSE))\n",
    "\n",
    "#The example would return nothing without the re.VERBOSE flag\n",
    "print(re.findall(pattern, text))\n",
    "\n",
    "\n",
    "#Same result with the shorthand re.X flag:\n",
    "print(re.findall(pattern, text, re.X))\n"
   ]
  },
  {
   "cell_type": "code",
   "execution_count": null,
   "id": "300ba054",
   "metadata": {},
   "outputs": [],
   "source": [
    "#Special Sequences\n",
    "#special sequence is a \\ followed by one of the characters in the list below, and has a special meaning:"
   ]
  },
  {
   "cell_type": "code",
   "execution_count": 54,
   "id": "71092575",
   "metadata": {},
   "outputs": [
    {
     "name": "stdout",
     "output_type": "stream",
     "text": [
      "['The']\n",
      "Yes, there is a match!\n"
     ]
    }
   ],
   "source": [
    "#\\A - returns a match if the specified characters are at the beginning of the string\n",
    "import re\n",
    "\n",
    "txt = \"The rain in Spain\"\n",
    "#Check if the string starts with \"The\":\n",
    "x = re.findall(r\"\\AThe\", txt)\n",
    "print(x)\n",
    "\n",
    "if x:\n",
    "  print(\"Yes, there is a match!\")\n",
    "else:\n",
    "  print(\"No match\")\n"
   ]
  },
  {
   "cell_type": "code",
   "execution_count": 56,
   "id": "7704ee7a",
   "metadata": {},
   "outputs": [
    {
     "name": "stdout",
     "output_type": "stream",
     "text": [
      "[]\n",
      "No match\n",
      "['ain', 'ain']\n",
      "Yes, there is at least one match!\n"
     ]
    }
   ],
   "source": [
    "# \\b - returns a match where the specified characters are at the beginning or at the end of a word\n",
    "import re\n",
    "\n",
    "txt = \"The rain in Spain\"\n",
    "#Check if \"ain\" is present at the beginning of a WORD:\n",
    "x = re.findall(r\"\\bain\", txt)\n",
    "print(x)\n",
    "if x:\n",
    "  print(\"Yes, there is at least one match!\")\n",
    "else:\n",
    "  print(\"No match\")\n",
    "\n",
    "import re\n",
    "\n",
    "txt = \"The rain in Spain\"\n",
    "#Check if \"ain\" is present at the end of a WORD:\n",
    "x = re.findall(r\"ain\\b\", txt)\n",
    "print(x)\n",
    "if x:\n",
    "  print(\"Yes, there is at least one match!\")\n",
    "else:\n",
    "  print(\"No match\")\n",
    "\n"
   ]
  },
  {
   "cell_type": "code",
   "execution_count": 58,
   "id": "72374079",
   "metadata": {},
   "outputs": [
    {
     "name": "stdout",
     "output_type": "stream",
     "text": [
      "['ain', 'ain']\n",
      "Yes, there is at least one match!\n",
      "[]\n",
      "No match\n"
     ]
    }
   ],
   "source": [
    "# \\B - returns a match where the specified characters are present, but NOT at the beginning (or at the end) of a word\n",
    "import re\n",
    "\n",
    "txt = \"The rain in Spain\"\n",
    "#Check if \"ain\" is present, but NOT at the beginning of a word:\n",
    "x = re.findall(r\"\\Bain\", txt)\n",
    "print(x)\n",
    "if x:\n",
    "  print(\"Yes, there is at least one match!\")\n",
    "else:\n",
    "  print(\"No match\")\n",
    "\n",
    "import re\n",
    "txt = \"The rain in Spain\"\n",
    "#Check if \"ain\" is present, but NOT at the end of a word:\n",
    "x = re.findall(r\"ain\\B\", txt)\n",
    "print(x)\n",
    "if x:\n",
    "  print(\"Yes, there is at least one match!\")\n",
    "else:\n",
    "  print(\"No match\")\n"
   ]
  },
  {
   "cell_type": "code",
   "execution_count": 60,
   "id": "c0b9a03e",
   "metadata": {},
   "outputs": [
    {
     "name": "stdout",
     "output_type": "stream",
     "text": [
      "[]\n",
      "No match\n"
     ]
    }
   ],
   "source": [
    "#\\d\t- returns a match where the string contains digits (numbers from 0-9)\n",
    "import re\n",
    "\n",
    "txt = \"The rain in Spain\"\n",
    "#Check if the string contains any digits (numbers from 0-9):\n",
    "x = re.findall(r\"\\d\", txt)\n",
    "print(x)\n",
    "if x:\n",
    "  print(\"Yes, there is at least one match!\")\n",
    "else:\n",
    "  print(\"No match\")\n"
   ]
  },
  {
   "cell_type": "code",
   "execution_count": 62,
   "id": "1f80496b",
   "metadata": {},
   "outputs": [
    {
     "name": "stdout",
     "output_type": "stream",
     "text": [
      "['T', 'h', 'e', ' ', 'r', 'a', 'i', 'n', ' ', 'i', 'n', ' ', 'S', 'p', 'a', 'i', 'n']\n",
      "Yes, there is at least one match!\n"
     ]
    }
   ],
   "source": [
    "#\\D\t- returns a match where the string DOES NOT contain digits\n",
    "import re\n",
    "\n",
    "txt = \"The rain in Spain\"\n",
    "#Return a match at every no-digit character:\n",
    "x = re.findall(r\"\\D\", txt)\n",
    "print(x)\n",
    "if x:\n",
    "  print(\"Yes, there is at least one match!\")\n",
    "else:\n",
    "  print(\"No match\")"
   ]
  },
  {
   "cell_type": "code",
   "execution_count": 64,
   "id": "c241390f",
   "metadata": {},
   "outputs": [
    {
     "name": "stdout",
     "output_type": "stream",
     "text": [
      "[' ', ' ', ' ']\n",
      "Yes, there is at least one match!\n"
     ]
    }
   ],
   "source": [
    "#\\s\t- returns a match where the string contains a white space character\n",
    "import re\n",
    "\n",
    "txt = \"The rain in Spain\"\n",
    "#Return a match at every white-space character:\n",
    "x = re.findall(r\"\\s\", txt)\n",
    "print(x)\n",
    "if x:\n",
    "  print(\"Yes, there is at least one match!\")\n",
    "else:\n",
    "  print(\"No match\")"
   ]
  },
  {
   "cell_type": "code",
   "execution_count": 66,
   "id": "7e5ce190",
   "metadata": {},
   "outputs": [
    {
     "name": "stdout",
     "output_type": "stream",
     "text": [
      "['T', 'h', 'e', 'r', 'a', 'i', 'n', 'i', 'n', 'S', 'p', 'a', 'i', 'n']\n",
      "Yes, there is at least one match!\n"
     ]
    }
   ],
   "source": [
    "#\\S\t- returns a match where the string DOES NOT contain a white space character\n",
    "import re\n",
    "\n",
    "txt = \"The rain in Spain\"\n",
    "#Return a match at every NON white-space character:\n",
    "x = re.findall(r\"\\S\", txt)\n",
    "print(x)\n",
    "if x:\n",
    "  print(\"Yes, there is at least one match!\")\n",
    "else:\n",
    "  print(\"No match\")"
   ]
  },
  {
   "cell_type": "code",
   "execution_count": 68,
   "id": "fcbbdc64",
   "metadata": {},
   "outputs": [
    {
     "name": "stdout",
     "output_type": "stream",
     "text": [
      "['T', 'h', 'e', 'r', 'a', 'i', 'n', 'i', 'n', 'S', 'p', 'a', 'i', 'n']\n",
      "Yes, there is at least one match!\n"
     ]
    }
   ],
   "source": [
    "#\\w\t - returns a match where the string contains any word characters (characters from a to Z, digits from 0-9, and the underscore _ character)\n",
    "import re\n",
    "\n",
    "txt = \"The rain in Spain\"\n",
    "#Return a match at every word character (characters from a to Z, digits from 0-9, and the underscore _ character):\n",
    "x = re.findall(r\"\\w\", txt)\n",
    "print(x)\n",
    "if x:\n",
    "  print(\"Yes, there is at least one match!\")\n",
    "else:\n",
    "  print(\"No match\")\n"
   ]
  },
  {
   "cell_type": "code",
   "execution_count": 70,
   "id": "f1fd4dec",
   "metadata": {},
   "outputs": [
    {
     "name": "stdout",
     "output_type": "stream",
     "text": [
      "[' ', ' ', ' ']\n",
      "Yes, there is at least one match!\n"
     ]
    }
   ],
   "source": [
    "# \\W - returns a match where the string DOES NOT contain any word characters\n",
    "import re\n",
    "\n",
    "txt = \"The rain in Spain\"\n",
    "#Return a match at every NON word character (characters NOT between a and Z. Like \"!\", \"?\" white-space etc.):\n",
    "x = re.findall(r\"\\W\", txt)\n",
    "print(x)\n",
    "if x:\n",
    "  print(\"Yes, there is at least one match!\")\n",
    "else:\n",
    "  print(\"No match\")\n"
   ]
  },
  {
   "cell_type": "code",
   "execution_count": 72,
   "id": "ab3cfb03",
   "metadata": {},
   "outputs": [
    {
     "name": "stdout",
     "output_type": "stream",
     "text": [
      "['Spain']\n",
      "Yes, there is a match!\n"
     ]
    }
   ],
   "source": [
    "#\\Z\t- returns a match if the specified characters are at the end of the string\n",
    "import re\n",
    "\n",
    "txt = \"The rain in Spain\"\n",
    "#Check if the string ends with \"Spain\":\n",
    "x = re.findall(r\"Spain\\Z\", txt)\n",
    "print(x)\n",
    "if x:\n",
    "  print(\"Yes, there is a match!\")\n",
    "else:\n",
    "  print(\"No match\")\n"
   ]
  },
  {
   "cell_type": "code",
   "execution_count": null,
   "id": "60a74cd1",
   "metadata": {},
   "outputs": [],
   "source": [
    "#Set - set of characters inside a pair of square brackets [] with a special meaning"
   ]
  },
  {
   "cell_type": "code",
   "execution_count": null,
   "id": "96aed7e6",
   "metadata": {},
   "outputs": [
    {
     "name": "stdout",
     "output_type": "stream",
     "text": [
      "['r', 'a', 'n', 'n', 'a', 'n']\n",
      "Yes, there is at least one match!\n"
     ]
    }
   ],
   "source": [
    "#[arn] - returns a match where one of the specified characters (a, r, or n) is present\n",
    "import re\n",
    "\n",
    "txt = \"The rain in Spain\"\n",
    "#Check if the string has any a, r, or n characters:\n",
    "x = re.findall(\"[arn]\", txt)\n",
    "print(x)\n",
    "if x:\n",
    "  print(\"Yes, there is at least one match!\")\n",
    "else:\n",
    "  print(\"No match\")\n"
   ]
  },
  {
   "cell_type": "code",
   "execution_count": 74,
   "id": "e9a04912",
   "metadata": {},
   "outputs": [
    {
     "name": "stdout",
     "output_type": "stream",
     "text": [
      "['h', 'e', 'a', 'i', 'n', 'i', 'n', 'a', 'i', 'n']\n",
      "Yes, there is at least one match!\n"
     ]
    }
   ],
   "source": [
    "#[a-n] - returns a match for any lower case character, alphabetically between a and n\n",
    "import re\n",
    "\n",
    "txt = \"The rain in Spain\"\n",
    "#Check if the string has any characters between a and n:\n",
    "x = re.findall(\"[a-n]\", txt)\n",
    "print(x)\n",
    "if x:\n",
    "  print(\"Yes, there is at least one match!\")\n",
    "else:\n",
    "  print(\"No match\")\n"
   ]
  },
  {
   "cell_type": "code",
   "execution_count": 75,
   "id": "14edd199",
   "metadata": {},
   "outputs": [
    {
     "name": "stdout",
     "output_type": "stream",
     "text": [
      "['T', 'h', 'e', ' ', 'i', ' ', 'i', ' ', 'S', 'p', 'i']\n",
      "Yes, there is at least one match!\n"
     ]
    }
   ],
   "source": [
    "#[^arn]\t - returns a match for any character EXCEPT a, r, and n\n",
    "import re\n",
    "\n",
    "txt = \"The rain in Spain\"\n",
    "#Check if the string has other characters than a, r, or n:\n",
    "x = re.findall(\"[^arn]\", txt)\n",
    "print(x)\n",
    "if x:\n",
    "  print(\"Yes, there is at least one match!\")\n",
    "else:\n",
    "  print(\"No match\")"
   ]
  },
  {
   "cell_type": "code",
   "execution_count": 76,
   "id": "ad4042ce",
   "metadata": {},
   "outputs": [
    {
     "name": "stdout",
     "output_type": "stream",
     "text": [
      "[]\n",
      "No match\n"
     ]
    }
   ],
   "source": [
    "#[0123]\t- returns a match where any of the specified digits (0, 1, 2, or 3) are present\n",
    "import re\n",
    "\n",
    "txt = \"The rain in Spain\"\n",
    "#Check if the string has any 0, 1, 2, or 3 digits:\n",
    "x = re.findall(\"[0123]\", txt)\n",
    "print(x)\n",
    "if x:\n",
    "  print(\"Yes, there is at least one match!\")\n",
    "else:\n",
    "  print(\"No match\")"
   ]
  },
  {
   "cell_type": "code",
   "execution_count": 77,
   "id": "d6d18ad2",
   "metadata": {},
   "outputs": [
    {
     "name": "stdout",
     "output_type": "stream",
     "text": [
      "['8', '1', '1', '4', '5']\n",
      "Yes, there is at least one match!\n"
     ]
    }
   ],
   "source": [
    "#[0-9]\t- Returns a match for any digit between 0 and 9\t\n",
    "import re\n",
    "\n",
    "txt = \"8 times before 11:45 AM\"\n",
    "#Check if the string has any digits:\n",
    "x = re.findall(\"[0-9]\", txt)\n",
    "print(x)\n",
    "if x:\n",
    "  print(\"Yes, there is at least one match!\")\n",
    "else:\n",
    "  print(\"No match\")\n"
   ]
  },
  {
   "cell_type": "code",
   "execution_count": 78,
   "id": "8162bcdb",
   "metadata": {},
   "outputs": [
    {
     "name": "stdout",
     "output_type": "stream",
     "text": [
      "['11', '45']\n",
      "Yes, there is at least one match!\n"
     ]
    }
   ],
   "source": [
    "#[0-5][0-9]\t - returns a match for any two-digit numbers from 00 and 59\t\n",
    "import re\n",
    "\n",
    "txt = \"8 times before 11:45 AM\"\n",
    "#Check if the string has any two-digit numbers, from 00 to 59:\n",
    "x = re.findall(\"[0-5][0-9]\", txt)\n",
    "print(x)\n",
    "if x:\n",
    "  print(\"Yes, there is at least one match!\")\n",
    "else:\n",
    "  print(\"No match\")\n",
    "\n"
   ]
  },
  {
   "cell_type": "code",
   "execution_count": 79,
   "id": "e46644b8",
   "metadata": {},
   "outputs": [
    {
     "name": "stdout",
     "output_type": "stream",
     "text": [
      "['t', 'i', 'm', 'e', 's', 'b', 'e', 'f', 'o', 'r', 'e', 'A', 'M']\n",
      "Yes, there is at least one match!\n"
     ]
    }
   ],
   "source": [
    "#[a-zA-Z]\t- returns a match for any character alphabetically between a and z, lower case OR upper case\n",
    "import re\n",
    "\n",
    "txt = \"8 times before 11:45 AM\"\n",
    "#Check if the string has any characters from a to z lower case, and A to Z upper case:\n",
    "x = re.findall(\"[a-zA-Z]\", txt)\n",
    "print(x)\n",
    "if x:\n",
    "  print(\"Yes, there is at least one match!\")\n",
    "else:\n",
    "  print(\"No match\")"
   ]
  },
  {
   "cell_type": "code",
   "execution_count": 80,
   "id": "703b7fe6",
   "metadata": {},
   "outputs": [
    {
     "name": "stdout",
     "output_type": "stream",
     "text": [
      "[]\n",
      "No match\n"
     ]
    }
   ],
   "source": [
    "#[+]\t- in sets, +, *, ., |, (), $,{} has no special meaning, so [+] means: return a match for any + character in the string\t\n",
    "import re\n",
    "\n",
    "txt = \"8 times before 11:45 AM\"\n",
    "#Check if the string has any + characters:\n",
    "x = re.findall(\"[+]\", txt)\n",
    "print(x)\n",
    "if x:\n",
    "  print(\"Yes, there is at least one match!\")\n",
    "else:\n",
    "  print(\"No match\")\n"
   ]
  }
 ],
 "metadata": {
  "kernelspec": {
   "display_name": ".venv",
   "language": "python",
   "name": "python3"
  },
  "language_info": {
   "codemirror_mode": {
    "name": "ipython",
    "version": 3
   },
   "file_extension": ".py",
   "mimetype": "text/x-python",
   "name": "python",
   "nbconvert_exporter": "python",
   "pygments_lexer": "ipython3",
   "version": "3.12.2"
  }
 },
 "nbformat": 4,
 "nbformat_minor": 5
}
