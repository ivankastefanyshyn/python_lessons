{
 "cells": [
  {
   "cell_type": "code",
   "execution_count": 14,
   "metadata": {},
   "outputs": [],
   "source": [
    "#function is a block of code that performs a specific task when the function is called (invoked)\n",
    "\n",
    "#FUNCTIONS - when needed?\n",
    "# if a particular fragment of the code begins to appear in more than one place, consider the possibility of isolating it in the form of a function\n",
    "\n",
    "#if a piece of code becomes so large that reading and understating it may cause a problem, consider dividing it into separate, smaller problems, and implement each of them in the form of a separate function."
   ]
  },
  {
   "cell_type": "code",
   "execution_count": 15,
   "metadata": {},
   "outputs": [],
   "source": [
    "#Where do the functions come from?\n",
    "#Python itself (built-in functions)\n",
    "#Modules\n",
    "#Code"
   ]
  },
  {
   "cell_type": "code",
   "execution_count": 16,
   "metadata": {},
   "outputs": [],
   "source": [
    "def function_name ():\n",
    "    function_body\n",
    "\n",
    "#it always starts with the keyword def\n",
    "#next after def goes the name of the function\n",
    "# after the function name, there's a place for a pair of parentheses\n",
    "#the line has to be ended with a colon\n",
    "#the line directly after def begins the function body ‒ a couple (at least one) of necessarily nested instructions, which will be executed every time the function is invoked"
   ]
  },
  {
   "cell_type": "code",
   "execution_count": 17,
   "metadata": {},
   "outputs": [
    {
     "name": "stdout",
     "output_type": "stream",
     "text": [
      "Enter a value: \n",
      "We start here.\n",
      "We end here.\n"
     ]
    }
   ],
   "source": [
    "def message ():\n",
    "    print(\"Enter a value: \")\n",
    "message ()\n",
    "print(\"We start here.\")\n",
    "print(\"We end here.\")"
   ]
  },
  {
   "cell_type": "code",
   "execution_count": 18,
   "metadata": {},
   "outputs": [
    {
     "name": "stdout",
     "output_type": "stream",
     "text": [
      "Hello\n",
      "Hello Ivanna\n"
     ]
    }
   ],
   "source": [
    "#you can  define a function which doesn't take any arguments, e.g.:\n",
    "def message ():\n",
    "    print(\"Hello\")\n",
    "message()\n",
    "\n",
    "#you can define a function which takes arguments, too, just like the one-parameter function below\n",
    "def hello (name):\n",
    "    print(\"Hello\", name)\n",
    "hello(\"Ivanna\")"
   ]
  },
  {
   "cell_type": "code",
   "execution_count": 19,
   "metadata": {},
   "outputs": [
    {
     "name": "stdout",
     "output_type": "stream",
     "text": [
      "Enter the number: 5\n",
      "Enter telephone number 11\n",
      "Enter price number 5\n",
      "Enter number number number\n"
     ]
    }
   ],
   "source": [
    "#PARAMETER\n",
    "#parameter is actually a variable, but there are two important factors that make parameters different and special:\n",
    "#1. parameters exist only inside functions in which they have been defined, and the only place where the parameter can be defined is a space between a pair of parentheses in the def statement;\n",
    "#2. assigning a value to the parameter is done at the time of the function's invocation, by specifying the corresponding argument.\n",
    "\n",
    "#!!!parameters live inside functions\n",
    "#!!!arguments exist outside functions\n",
    "#!!!you must provide as many arguments as there are defined parameters.\n",
    "def message (number):\n",
    "    print(\"Enter the number:\", number)\n",
    "message(5)\n",
    "\n",
    "def message_1 (what, number):\n",
    "    print(\"Enter\", what, \"number\", number)\n",
    "message_1(\"telephone\", 11)\n",
    "message_1(\"price\", 5)\n",
    "message_1(\"number\", \"number\")"
   ]
  },
  {
   "cell_type": "code",
   "execution_count": 20,
   "metadata": {},
   "outputs": [
    {
     "name": "stdout",
     "output_type": "stream",
     "text": [
      "Hello, my name is Luke Skywalker\n",
      "Hello, my name is Jesse Quick\n",
      "Hello, my name is Clark Kent\n",
      "\n",
      "Hello, my name is Skywalker Luke\n",
      "Hello, my name is Quick Jesse\n",
      "Hello, my name is Kent Clark\n"
     ]
    }
   ],
   "source": [
    "#POSITIONAL ARGUMENTS\n",
    "#technique, which assigns the ith (first, second, and so on) argument to the ith (first, second, and so on) function parameter\n",
    "\n",
    "def introduction(first_name, last_name):\n",
    "    print(\"Hello, my name is\", first_name, last_name)\n",
    " \n",
    "introduction(\"Luke\", \"Skywalker\")\n",
    "introduction(\"Jesse\", \"Quick\")\n",
    "introduction(\"Clark\", \"Kent\")\n",
    "\n",
    "print()\n",
    "#if we want reverse order:\n",
    "def introduction(first_name, last_name):\n",
    "    print(\"Hello, my name is\", first_name, last_name)\n",
    " \n",
    "introduction(\"Skywalker\", \"Luke\")\n",
    "introduction(\"Quick\", \"Jesse\")\n",
    "introduction(\"Kent\", \"Clark\")"
   ]
  },
  {
   "cell_type": "code",
   "execution_count": 21,
   "metadata": {},
   "outputs": [
    {
     "name": "stdout",
     "output_type": "stream",
     "text": [
      "Hello, my name is Ivanna Stefanyshyn\n"
     ]
    }
   ],
   "source": [
    "#KEYWORD ARGUMENTS\n",
    "#the meaning of the argument is dictated by its name, not by its position\n",
    "def introduction(first_name, last_name):\n",
    "    print(\"Hello, my name is\", first_name, last_name)\n",
    "introduction(first_name = \"Ivanna\", last_name = \"Stefanyshyn\")"
   ]
  },
  {
   "cell_type": "code",
   "execution_count": 22,
   "metadata": {},
   "outputs": [],
   "source": [
    "#Mixing positional and keyword arguments\n",
    "#ONLY ONE RULE - you have to put positional arguments before keyword arguments."
   ]
  },
  {
   "cell_type": "code",
   "execution_count": 23,
   "metadata": {},
   "outputs": [
    {
     "name": "stdout",
     "output_type": "stream",
     "text": [
      "Hello, my name is Henry Smith\n",
      "\n",
      "\n",
      "Hello, my name is Jane Doe\n"
     ]
    }
   ],
   "source": [
    "#default (predefined) values\n",
    "#it happens at times that a particular parameter's values are in use more often than others. They may have their default (predefined) values taken into consideration when their corresponding arguments have been omitted.\n",
    "def introduction(first_name, last_name=\"Smith\"):\n",
    "     print(\"Hello, my name is\", first_name, last_name)\n",
    "introduction(\"Henry\")\n",
    "print()\n",
    "print()\n",
    "def introduction(first_name, last_name=\"Smith\"):\n",
    "     print(\"Hello, my name is\", first_name, last_name)\n",
    "introduction(\"Jane\", \"Doe\")"
   ]
  },
  {
   "cell_type": "code",
   "execution_count": 24,
   "metadata": {},
   "outputs": [],
   "source": [
    "#FUNCTION:\n",
    "#1 - can cause some kind of effect (produce some text and send it to the console)\n",
    "#2 - can evaluate a value and return the result. For that we have the return instruction"
   ]
  },
  {
   "cell_type": "code",
   "execution_count": 25,
   "metadata": {},
   "outputs": [
    {
     "name": "stdout",
     "output_type": "stream",
     "text": [
      "Three...\n",
      "Two...\n",
      "One...\n",
      "Happy New Year!\n"
     ]
    }
   ],
   "source": [
    "#RETURN WITHOUT AN EXPRESSION\n",
    "def happy_new_year(wishes = True):\n",
    "    print(\"Three...\")\n",
    "    print(\"Two...\")\n",
    "    print(\"One...\")\n",
    "    if not wishes:\n",
    "        return\n",
    "    print(\"Happy New Year!\")\n",
    "happy_new_year()"
   ]
  },
  {
   "cell_type": "code",
   "execution_count": 26,
   "metadata": {},
   "outputs": [
    {
     "name": "stdout",
     "output_type": "stream",
     "text": [
      "Three...\n",
      "Two...\n",
      "One...\n"
     ]
    }
   ],
   "source": [
    "def happy_new_year(wishes = True):\n",
    "    print(\"Three...\")\n",
    "    print(\"Two...\")\n",
    "    print(\"One...\")\n",
    "    if not wishes:\n",
    "        return\n",
    "    print(\"Happy New Year!\")\n",
    "happy_new_year(False)"
   ]
  },
  {
   "cell_type": "code",
   "execution_count": 27,
   "metadata": {},
   "outputs": [
    {
     "data": {
      "text/plain": [
       "123"
      ]
     },
     "execution_count": 27,
     "metadata": {},
     "output_type": "execute_result"
    }
   ],
   "source": [
    "#RETURN WITH AN EXPRESSION\n",
    "def function():\n",
    "    return expression\n",
    "\n",
    "#HAS 2 CONSEQUENCES:\n",
    "#it causes the immediate termination of the function's execution;\n",
    "#function will evaluate the expression's value and will return it as the function's result\n",
    "\n",
    "def boring_function():\n",
    "    return 123\n",
    "boring_function()\n",
    "\n",
    "#!!!The return instruction, enriched with the expression (the expression is very simple here), \"transports\" the expression's value to the place where the function has been invoked."
   ]
  },
  {
   "cell_type": "code",
   "execution_count": 28,
   "metadata": {},
   "outputs": [
    {
     "name": "stdout",
     "output_type": "stream",
     "text": [
      "'Boredom Mode' ON.\n",
      "This lesson is interesting!\n",
      "This lesson is boring...\n"
     ]
    }
   ],
   "source": [
    "#return can be ignored like here:\n",
    "def boring_function():\n",
    "    print(\"'Boredom Mode' ON.\")\n",
    "    return 123\n",
    "boring_function()\n",
    "print(\"This lesson is interesting!\")\n",
    "print(\"This lesson is boring...\")\n",
    "\n"
   ]
  },
  {
   "cell_type": "code",
   "execution_count": 29,
   "metadata": {},
   "outputs": [],
   "source": [
    "#NONE value\n",
    "#its data doesn't represent any reasonable value ‒ actually, it's not a value at all; hence, it mustn't take part in any expressions (print(None + 2) - such a snippet will cause an error)"
   ]
  },
  {
   "cell_type": "code",
   "execution_count": 30,
   "metadata": {},
   "outputs": [
    {
     "name": "stdout",
     "output_type": "stream",
     "text": [
      "Sorry, you don't carry any value\n",
      "True\n",
      "\n",
      "\n",
      "None\n"
     ]
    }
   ],
   "source": [
    "#There are only two kinds of circumstances when None can be safely used:\n",
    "# when you assign it to a variable (or return it as a function's result)\n",
    "# when you compare it with a variable to diagnose its internal state.\n",
    "value = None\n",
    "if value is None:\n",
    "    print (\"Sorry, you don't carry any value\")\n",
    "\n",
    "###if a function doesn't return a certain value using a return expression clause, it is assumed that it implicitly returns None.\n",
    "def strange_function (n):\n",
    "    if n % 2 == 0:\n",
    "        return True\n",
    "print (strange_function(2))\n",
    "print()\n",
    "print()\n",
    "def strange_function (n):\n",
    "    if n % 2 == 0:\n",
    "        return True\n",
    "print(strange_function(3))"
   ]
  },
  {
   "cell_type": "code",
   "execution_count": 31,
   "metadata": {},
   "outputs": [
    {
     "data": {
      "text/plain": [
       "12"
      ]
     },
     "execution_count": 31,
     "metadata": {},
     "output_type": "execute_result"
    }
   ],
   "source": [
    "#List as a function's argument\n",
    "def list_sum(lst):\n",
    "    s = 0\n",
    "    for elem in lst:\n",
    "        s = s + elem\n",
    "    return s\n",
    "list_sum([5,4,3])"
   ]
  },
  {
   "cell_type": "code",
   "execution_count": 32,
   "metadata": {},
   "outputs": [
    {
     "data": {
      "text/plain": [
       "[4, 3, 2, 1, 0]"
      ]
     },
     "execution_count": 32,
     "metadata": {},
     "output_type": "execute_result"
    }
   ],
   "source": [
    "#List as a function's result\n",
    "def strange_list_fun(n):\n",
    "    strange_list = []\n",
    "    for i in range(0, n):\n",
    "        strange_list.insert(0, i)\n",
    "    return strange_list\n",
    "strange_list_fun(5)\n"
   ]
  },
  {
   "cell_type": "code",
   "execution_count": 33,
   "metadata": {},
   "outputs": [
    {
     "name": "stdout",
     "output_type": "stream",
     "text": [
      "1900 ->OK\n",
      "2000 ->OK\n",
      "2016 ->OK\n",
      "1987 ->OK\n"
     ]
    }
   ],
   "source": [
    "#4.3.4 LAB A leap year: writing your own functions\n",
    "#Your task is to write and test a function which takes one argument (a year) and returns True if the year is a leap year, or False otherwise.\n",
    "def is_year_leap(year):\n",
    "    if year % 4 != 0:\n",
    "        return False\n",
    "    elif year % 100 != 0:\n",
    "        return True \n",
    "    elif year % 400 != 0:\n",
    "        return False\n",
    "    else:\n",
    "        return True\n",
    "is_year_leap(1900)\n",
    "\n",
    "#testing\n",
    "test_data = [1900, 2000, 2016, 1987]\n",
    "test_results = [False, True, True, False]\n",
    "for i in range(len(test_data)):\n",
    "    yr = test_data[i]\n",
    "    print(yr, \"->\", end = \"\")\n",
    "    result = is_year_leap(yr)\n",
    "    if result == test_results[i]:\n",
    "        print(\"OK\")\n",
    "    else:\n",
    "        print(\"Failed\")\n"
   ]
  },
  {
   "cell_type": "code",
   "execution_count": 34,
   "metadata": {},
   "outputs": [
    {
     "data": {
      "text/plain": [
       "[1, 4, 9, 16, 25]"
      ]
     },
     "execution_count": 34,
     "metadata": {},
     "output_type": "execute_result"
    }
   ],
   "source": [
    "def list_updater(lst):\n",
    "    updated_list = []\n",
    "    for elem in lst:\n",
    "        elem = elem ** 2\n",
    "        updated_list.append(elem)\n",
    "    return updated_list\n",
    "x = [1,2,3,4,5]\n",
    "list_updater(x)"
   ]
  },
  {
   "cell_type": "code",
   "execution_count": 35,
   "metadata": {},
   "outputs": [],
   "source": [
    "#FUNCTIONS AND SCOPES\n",
    "#scope of a name (e.g., a variable name) is the part of a code where the name is properly recognizable."
   ]
  },
  {
   "cell_type": "code",
   "execution_count": 36,
   "metadata": {},
   "outputs": [
    {
     "name": "stdout",
     "output_type": "stream",
     "text": [
      "[1, 2, 3, 4, 5]\n"
     ]
    }
   ],
   "source": [
    "#for example, the scope of a function's parameter is the function itself. The parameter is inaccessible outside the function.\n",
    "def scope_test():\n",
    "    x = 123\n",
    "\n",
    "scope_test()\n",
    "print(x)\n",
    "\n",
    "#We have an error here"
   ]
  },
  {
   "cell_type": "code",
   "execution_count": 37,
   "metadata": {},
   "outputs": [
    {
     "name": "stdout",
     "output_type": "stream",
     "text": [
      "Do I know that variable? 1\n",
      "1\n"
     ]
    }
   ],
   "source": [
    "#question is: is a variable created outside any function visible inside the functions?\n",
    "#answer is: a variable existing outside a function has scope inside the function's body.\n",
    "def my_function():\n",
    "    print(\"Do I know that variable?\", var)\n",
    "\n",
    "var = 1\n",
    "my_function()\n",
    "print(var)\n"
   ]
  },
  {
   "cell_type": "code",
   "execution_count": 38,
   "metadata": {},
   "outputs": [
    {
     "name": "stdout",
     "output_type": "stream",
     "text": [
      "Do I know that variable? 2\n",
      "1\n"
     ]
    }
   ],
   "source": [
    "#BUT - there is a very important exception to this rule!\n",
    "def my_function():\n",
    "    var = 2\n",
    "    print(\"Do I know that variable?\", var)\n",
    "\n",
    "var = 1\n",
    "my_function()\n",
    "print(var)\n",
    "\n",
    "#!!! a variable existing outside a function has scope inside the function's body, excluding those which define a variable of the same name.\n",
    "#!!! it also means that the scope of a variable existing outside a function is supported only when getting its value (reading)."
   ]
  },
  {
   "cell_type": "code",
   "execution_count": 39,
   "metadata": {},
   "outputs": [
    {
     "name": "stdout",
     "output_type": "stream",
     "text": [
      "Do I know that variable? 2\n",
      "2\n"
     ]
    }
   ],
   "source": [
    "#Functions and scopes: the global keyword\n",
    "#??? is function able to modify a variable defined outside it?\n",
    "#!!!there's a special Python method which can extend a variable's scope in a way which includes the function's body (even if you want not only to read the values, but also to modify them).\n",
    "# keyword \"global\"\n",
    "global name\n",
    "\n",
    "#using this keyword inside a function with the name (or names separated with commas) of a variable (or variables), forces Python to refrain from creating a new variable inside the function ‒ the one accessible from outside will be used instead.\n",
    "def my_function():\n",
    "    global var\n",
    "    var = 2\n",
    "    print(\"Do I know that variable?\", var)\n",
    "\n",
    "\n",
    "var = 1\n",
    "my_function()\n",
    "print(var)"
   ]
  },
  {
   "cell_type": "code",
   "execution_count": 40,
   "metadata": {},
   "outputs": [
    {
     "name": "stdout",
     "output_type": "stream",
     "text": [
      "I got 1\n",
      "I have 2\n",
      "1\n"
     ]
    }
   ],
   "source": [
    "#how the function interacts with its arguments?\n",
    "#changing the parameter's value doesn't propagate outside the function (in any case, not when the variable is a scalar, like in the example).\n",
    "#this also means that a function receives the argument's value, not the argument itself. This is true for scalars.\n",
    "\n",
    "def my_function(n):\n",
    "    print(\"I got\", n)\n",
    "    n += 1\n",
    "    print(\"I have\", n)\n",
    "\n",
    "\n",
    "var = 1\n",
    "my_function(var)\n",
    "print(var)"
   ]
  },
  {
   "cell_type": "code",
   "execution_count": 41,
   "metadata": {},
   "outputs": [
    {
     "name": "stdout",
     "output_type": "stream",
     "text": [
      "Print #1: [2, 3]\n",
      "Print #2: [2, 3]\n",
      "Print #3: [0, 1]\n",
      "Print #4: [2, 3]\n",
      "Print #5: [2, 3]\n"
     ]
    }
   ],
   "source": [
    "#What about lists?\n",
    "def my_function(my_list_1):\n",
    "    print(\"Print #1:\", my_list_1)\n",
    "    print(\"Print #2:\", my_list_2)\n",
    "    my_list_1 = [0, 1]\n",
    "    print(\"Print #3:\", my_list_1)\n",
    "    print(\"Print #4:\", my_list_2)\n",
    " \n",
    " \n",
    "my_list_2 = [2, 3]\n",
    "my_function(my_list_2)\n",
    "print(\"Print #5:\", my_list_2)"
   ]
  },
  {
   "cell_type": "code",
   "execution_count": 42,
   "metadata": {},
   "outputs": [
    {
     "name": "stdout",
     "output_type": "stream",
     "text": [
      "Print #1: [2, 3]\n",
      "Print #2: [2, 3]\n",
      "Print #3: [3]\n",
      "Print #4: [3]\n",
      "Print #5: [3]\n"
     ]
    }
   ],
   "source": [
    "def my_function(my_list_1):\n",
    "    print(\"Print #1:\", my_list_1)\n",
    "    print(\"Print #2:\", my_list_2)\n",
    "    del my_list_1[0] # Pay attention to this line.\n",
    "    print(\"Print #3:\", my_list_1)\n",
    "    print(\"Print #4:\", my_list_2)\n",
    " \n",
    " \n",
    "my_list_2 = [2, 3]\n",
    "my_function(my_list_2)\n",
    "print(\"Print #5:\", my_list_2)\n",
    "\n",
    "#!!!if the argument is a list, then changing the value of the corresponding parameter doesn't affect the list (remember: variables containing lists are stored in a different way than scalars)\n",
    "# !!!but if you change a list identified by the parameter (note: the list, not the parameter!), the list will reflect the change."
   ]
  },
  {
   "cell_type": "code",
   "execution_count": 43,
   "metadata": {},
   "outputs": [
    {
     "data": {
      "text/plain": [
       "19.43301326017375"
      ]
     },
     "execution_count": 43,
     "metadata": {},
     "output_type": "execute_result"
    }
   ],
   "source": [
    "#Evaluating BMI\n",
    "def bmi(weight, height):\n",
    "    return weight/height ** 2\n",
    "\n",
    "bmi(51.0, 1.62)"
   ]
  },
  {
   "cell_type": "code",
   "execution_count": 44,
   "metadata": {},
   "outputs": [
    {
     "name": "stdout",
     "output_type": "stream",
     "text": [
      "None\n"
     ]
    }
   ],
   "source": [
    "#Complicated evaluating BMI\n",
    "def bmi(weight, height):\n",
    "    if height < 1.0 or height > 2.5 or weight < 20 or weight > 200:\n",
    "        return None\n",
    "    \n",
    "    return weight / height ** 2\n",
    "\n",
    "print(bmi(250, 0.5))"
   ]
  },
  {
   "cell_type": "code",
   "execution_count": 45,
   "metadata": {},
   "outputs": [
    {
     "name": "stdout",
     "output_type": "stream",
     "text": [
      "True\n",
      "False\n"
     ]
    }
   ],
   "source": [
    "#TRIANGLE: sum of two arbitrary sides has to be longer than the third side.\n",
    "def is_a_traingle(a, b, c):\n",
    "    if a + b <= c:\n",
    "        return False\n",
    "    if a + c <= b:\n",
    "        return False\n",
    "    if b + c <= a:\n",
    "        return False\n",
    "    return True\n",
    "print(is_a_traingle(1,1,1))\n",
    "print(is_a_traingle(1,1,3))"
   ]
  },
  {
   "cell_type": "code",
   "execution_count": 46,
   "metadata": {},
   "outputs": [],
   "source": [
    "#sequence type - \n",
    "# 1. is a type of data in Python which is able to store more than one value (or less than one, as a sequence may be empty)\n",
    "# 2. these values can be sequentially browsed, element by element.\n",
    "\n",
    "#EXAMPLES: list, dictionary"
   ]
  },
  {
   "cell_type": "code",
   "execution_count": 47,
   "metadata": {},
   "outputs": [],
   "source": [
    "#mutability − is a property of any Python data that describes its readiness to be freely changed during program execution. \n",
    "# Python has 2 kinds of data: mutable and immutable.\n",
    "#Mutable: list, dictionary, set\n",
    "#Immutable: tuple, string, number, boolean"
   ]
  },
  {
   "cell_type": "code",
   "execution_count": 48,
   "metadata": {},
   "outputs": [],
   "source": [
    "#TUPLE - immutable sequence type\n",
    "#it can behave like a list, but it can't be modified in situ."
   ]
  },
  {
   "cell_type": "code",
   "execution_count": 49,
   "metadata": {},
   "outputs": [
    {
     "name": "stdout",
     "output_type": "stream",
     "text": [
      "(1, 2, 4, 8)\n",
      "(1.0, 0.5, 0.25, 0.125)\n"
     ]
    }
   ],
   "source": [
    "#How to create a tuple?\n",
    "# 1 - to use parenthesis:\n",
    "tuple_1 = (1, 2, 4, 8)\n",
    "# 2 -  to create just from a set of values separated by commas:\n",
    "tuple_2 = 1., .5, .25, .125\n",
    "print(tuple_1)\n",
    "print(tuple_2)\n"
   ]
  },
  {
   "cell_type": "code",
   "execution_count": 50,
   "metadata": {},
   "outputs": [],
   "source": [
    "#you acn create an empty tuple:\n",
    "empty_tuple = ()\n",
    "#you can create one-element tuple (you must end the value with a comma)\n",
    "one_element_tuple_1 = (1, )\n",
    "one_element_tuple_2 = 1.,\n"
   ]
  },
  {
   "cell_type": "code",
   "execution_count": 51,
   "metadata": {},
   "outputs": [
    {
     "name": "stdout",
     "output_type": "stream",
     "text": [
      "sky\n",
      "sky\n",
      "moon\n",
      "star\n",
      "777\n",
      "4\n"
     ]
    }
   ],
   "source": [
    "# What you can do with a tuple?\n",
    "\n",
    "my_tuple = (\"sky\", \"moon\", \"star\", 777)\n",
    "# get the elements of a tuple in order to read them over:\n",
    "print(my_tuple[0])\n",
    "\n",
    "\n",
    "#iterate: \n",
    "for elem in my_tuple:\n",
    "    print(elem)\n",
    "\n",
    "\n",
    "#len() function \n",
    "print(len(my_tuple))\n",
    "\n",
    "#+ operator can join tuples together \n",
    "\n",
    "#* operator can multiply tuples, just like lists\n",
    "\n",
    "#in and not in operators work in the same way as in lists."
   ]
  },
  {
   "cell_type": "code",
   "execution_count": 52,
   "metadata": {},
   "outputs": [
    {
     "name": "stdout",
     "output_type": "stream",
     "text": [
      "(2,) (3, 123) (1,)\n"
     ]
    }
   ],
   "source": [
    "#tuple has ability to appear on the left side of the assignment operator.\n",
    "\n",
    "#!!!tuple's elements can be variables, not only literals.\n",
    "var = 123\n",
    " \n",
    "t1 = (1, )\n",
    "t2 = (2, )\n",
    "t3 = (3, var)\n",
    " \n",
    "t1, t2, t3 = t2, t3, t1\n",
    " \n",
    "print(t1, t2, t3)"
   ]
  },
  {
   "cell_type": "code",
   "execution_count": 53,
   "metadata": {},
   "outputs": [
    {
     "name": "stdout",
     "output_type": "stream",
     "text": [
      "(1, 2, 'day')\n",
      "(1, 2, 3)\n"
     ]
    }
   ],
   "source": [
    "#there is a buil-in function Tuple to be able to create a tuple:\n",
    "my_tuple = tuple((1, 2, \"day\"))\n",
    "print(my_tuple)\n",
    "#you can convert a list into a tuple and vice versa:\n",
    "my_list = [1,2,3]\n",
    "my_tuple = tuple(my_list)\n",
    "print(my_tuple)"
   ]
  },
  {
   "cell_type": "code",
   "execution_count": 54,
   "metadata": {},
   "outputs": [
    {
     "name": "stdout",
     "output_type": "stream",
     "text": [
      "{'spring': 'march', 'summer': 'june', 'autumn': 'september'}\n",
      "{}\n"
     ]
    }
   ],
   "source": [
    "#DICTIONARY\n",
    "#is not a sequence type\n",
    "#is mutable\n",
    "#list of pairs is surrounded by curly braces, while the pairs themselves are separated by commas, and the keys and values by colons.\n",
    "\n",
    "dictionary = {\"spring\": \"march\", \"summer\": \"june\", \"autumn\": \"september\"}\n",
    "empty_dictionary = {}\n",
    "print(dictionary)\n",
    "print(empty_dictionary)"
   ]
  },
  {
   "cell_type": "code",
   "execution_count": 55,
   "metadata": {},
   "outputs": [],
   "source": [
    "#key-value pairs:\n",
    "#keys and values can be numbers, strings etc\n",
    "#each key must be unique − it's not possible to have more than one key of the same value\n",
    "#key may be any immutable type of object: it can be a number (integer or float), or even a string, but not a list"
   ]
  },
  {
   "cell_type": "code",
   "execution_count": 56,
   "metadata": {},
   "outputs": [
    {
     "name": "stdout",
     "output_type": "stream",
     "text": [
      "3\n"
     ]
    }
   ],
   "source": [
    "#len() function in dictionary:\n",
    "dictionary = {\"spring\": \"march\", \"summer\": \"june\", \"autumn\": \"september\"}\n",
    "print(len(dictionary))"
   ]
  },
  {
   "cell_type": "code",
   "execution_count": 57,
   "metadata": {},
   "outputs": [
    {
     "name": "stdout",
     "output_type": "stream",
     "text": [
      "march\n"
     ]
    },
    {
     "ename": "KeyError",
     "evalue": "'winter'",
     "output_type": "error",
     "traceback": [
      "\u001b[0;31m---------------------------------------------------------------------------\u001b[0m",
      "\u001b[0;31mKeyError\u001b[0m                                  Traceback (most recent call last)",
      "Cell \u001b[0;32mIn[57], line 8\u001b[0m\n\u001b[1;32m      6\u001b[0m dictionary \u001b[38;5;241m=\u001b[39m {\u001b[38;5;124m\"\u001b[39m\u001b[38;5;124mspring\u001b[39m\u001b[38;5;124m\"\u001b[39m: \u001b[38;5;124m\"\u001b[39m\u001b[38;5;124mmarch\u001b[39m\u001b[38;5;124m\"\u001b[39m, \u001b[38;5;124m\"\u001b[39m\u001b[38;5;124msummer\u001b[39m\u001b[38;5;124m\"\u001b[39m: \u001b[38;5;124m\"\u001b[39m\u001b[38;5;124mjune\u001b[39m\u001b[38;5;124m\"\u001b[39m, \u001b[38;5;124m\"\u001b[39m\u001b[38;5;124mautumn\u001b[39m\u001b[38;5;124m\"\u001b[39m: \u001b[38;5;124m\"\u001b[39m\u001b[38;5;124mseptember\u001b[39m\u001b[38;5;124m\"\u001b[39m}\n\u001b[1;32m      7\u001b[0m \u001b[38;5;28mprint\u001b[39m(dictionary[\u001b[38;5;124m\"\u001b[39m\u001b[38;5;124mspring\u001b[39m\u001b[38;5;124m\"\u001b[39m])\n\u001b[0;32m----> 8\u001b[0m \u001b[38;5;28mprint\u001b[39m(\u001b[43mdictionary\u001b[49m\u001b[43m[\u001b[49m\u001b[38;5;124;43m\"\u001b[39;49m\u001b[38;5;124;43mwinter\u001b[39;49m\u001b[38;5;124;43m\"\u001b[39;49m\u001b[43m]\u001b[49m) \u001b[38;5;66;03m#will cause an error\u001b[39;00m\n",
      "\u001b[0;31mKeyError\u001b[0m: 'winter'"
     ]
    }
   ],
   "source": [
    "#how to use a dictionary?\n",
    "#if you want to get any of the values, you have to deliver a valid key value;\n",
    "#if the key is a string, you have to specify it as a string;\n",
    "#keys are case-sensitive: 'Suzy' is something different from 'suzy'.\n",
    "#you mustn't use a non-existent key\n",
    "dictionary = {\"spring\": \"march\", \"summer\": \"june\", \"autumn\": \"september\"}\n",
    "print(dictionary[\"spring\"])\n",
    "print(dictionary[\"winter\"]) #will cause an error\n"
   ]
  },
  {
   "cell_type": "code",
   "execution_count": null,
   "metadata": {},
   "outputs": [
    {
     "name": "stdout",
     "output_type": "stream",
     "text": [
      "spring -> march\n",
      "summer -> june\n",
      "autumn -> september\n",
      "winter is not in a dictionary\n",
      "march is not in a dictionary\n"
     ]
    }
   ],
   "source": [
    "# in and not in operators\n",
    "dictionary = {\n",
    "    \"spring\": \"march\", \n",
    "    \"summer\": \"june\", \n",
    "    \"autumn\": \"september\"\n",
    "    }\n",
    "seasons = [\"spring\", \"summer\", \"autumn\", \"winter\", \"march\"]\n",
    "for season in seasons:\n",
    "    if season in dictionary:\n",
    "        print(season, \"->\", dictionary[season])\n",
    "    else:\n",
    "        print(season, \"is not in a dictionary\")"
   ]
  },
  {
   "cell_type": "code",
   "execution_count": null,
   "metadata": {},
   "outputs": [],
   "source": [
    "#can dictionaries be browsed using the for loop, like lists or tuples?\n",
    "\n",
    "#no, because a dictionary is not a sequence type − the for loop is useless with it.\n",
    "\n",
    "#yes, because there are simple and very effective tools that can adapt any dictionary to the for loop requirements\n",
    "\n"
   ]
  },
  {
   "cell_type": "code",
   "execution_count": null,
   "metadata": {},
   "outputs": [
    {
     "name": "stdout",
     "output_type": "stream",
     "text": [
      "spring -> march\n",
      "summer -> june\n",
      "autumn -> september\n",
      "dict_keys(['spring', 'summer', 'autumn'])\n"
     ]
    }
   ],
   "source": [
    "#keys() method - \n",
    "#method returns an iterable object consisting of all the keys gathered within the dictionary. \n",
    "dictionary = {\n",
    "    \"spring\": \"march\", \n",
    "    \"summer\": \"june\", \n",
    "    \"autumn\": \"september\"\n",
    "    }\n",
    "for key in dictionary.keys():\n",
    "    print(key, \"->\", dictionary[key])\n",
    "\n",
    "print(dictionary.keys())"
   ]
  },
  {
   "cell_type": "code",
   "execution_count": null,
   "metadata": {},
   "outputs": [
    {
     "name": "stdout",
     "output_type": "stream",
     "text": [
      "dict_values(['march', 'june', 'september'])\n"
     ]
    }
   ],
   "source": [
    "#values() method\n",
    "#which works similarly to keys(), but returns values\n",
    "dictionary = {\n",
    "    \"spring\": \"march\", \n",
    "    \"summer\": \"june\", \n",
    "    \"autumn\": \"september\"\n",
    "    }\n",
    "print(dictionary.values())"
   ]
  },
  {
   "cell_type": "code",
   "execution_count": null,
   "metadata": {},
   "outputs": [
    {
     "name": "stdout",
     "output_type": "stream",
     "text": [
      "spring -> march\n",
      "summer -> june\n",
      "autumn -> september\n",
      "dict_items([('spring', 'march'), ('summer', 'june'), ('autumn', 'september')])\n"
     ]
    }
   ],
   "source": [
    "#items() method\n",
    "#method returns tuples, where each tuple is a key-value pair.\n",
    "dictionary = {\n",
    "    \"spring\": \"march\", \n",
    "    \"summer\": \"june\", \n",
    "    \"autumn\": \"september\"\n",
    "    }\n",
    "for season, month in dictionary.items():\n",
    "    print(season, \"->\", month)\n",
    "\n",
    "print(dictionary.items())"
   ]
  },
  {
   "cell_type": "code",
   "execution_count": null,
   "metadata": {},
   "outputs": [
    {
     "name": "stdout",
     "output_type": "stream",
     "text": [
      "{'spring': 'march', 'summer': 'june', 'autumn': 'SEPTEMBER'}\n"
     ]
    }
   ],
   "source": [
    "#Modifying and adding values in dictionary\n",
    "dictionary = {\n",
    "    \"spring\": \"march\", \n",
    "    \"summer\": \"june\", \n",
    "    \"autumn\": \"september\"\n",
    "    }\n",
    "dictionary[\"autumn\"] = \"SEPTEMBER\"\n",
    "print(dictionary)\n"
   ]
  },
  {
   "cell_type": "code",
   "execution_count": null,
   "metadata": {},
   "outputs": [
    {
     "name": "stdout",
     "output_type": "stream",
     "text": [
      "['autumn', 'spring', 'summer']\n"
     ]
    }
   ],
   "source": [
    "#sorting dictionaries\n",
    "dictionary = {\n",
    "    \"spring\": \"march\", \n",
    "    \"summer\": \"june\", \n",
    "    \"autumn\": \"september\"\n",
    "    }\n",
    "print(sorted(dictionary))"
   ]
  },
  {
   "cell_type": "code",
   "execution_count": null,
   "metadata": {},
   "outputs": [
    {
     "name": "stdout",
     "output_type": "stream",
     "text": [
      "{'spring': 'march', 'summer': 'june', 'autumn': 'september', 'winter': 'december'}\n"
     ]
    }
   ],
   "source": [
    "#Adding a new key\n",
    "dictionary = {\n",
    "    \"spring\": \"march\", \n",
    "    \"summer\": \"june\", \n",
    "    \"autumn\": \"september\"\n",
    "    }\n",
    "dictionary[\"winter\"] = \"december\"\n",
    "print(dictionary)"
   ]
  },
  {
   "cell_type": "code",
   "execution_count": null,
   "metadata": {},
   "outputs": [
    {
     "name": "stdout",
     "output_type": "stream",
     "text": [
      "{'spring': 'march', 'summer': 'june', 'autumn': 'september', 'winter': 'december'}\n"
     ]
    }
   ],
   "source": [
    "#update() method:\n",
    "dictionary = {\n",
    "    \"spring\": \"march\", \n",
    "    \"summer\": \"june\", \n",
    "    \"autumn\": \"september\"\n",
    "    }\n",
    "dictionary.update({\"winter\": \"december\"})\n",
    "print(dictionary)\n"
   ]
  },
  {
   "cell_type": "code",
   "execution_count": null,
   "metadata": {},
   "outputs": [
    {
     "name": "stdout",
     "output_type": "stream",
     "text": [
      "{'spring': 'march', 'summer': 'june'}\n"
     ]
    }
   ],
   "source": [
    "#Removing a key\n",
    "dictionary = {\n",
    "    \"spring\": \"march\", \n",
    "    \"summer\": \"june\", \n",
    "    \"autumn\": \"september\"\n",
    "    }\n",
    "del dictionary[\"autumn\"]\n",
    "print(dictionary)"
   ]
  },
  {
   "cell_type": "code",
   "execution_count": null,
   "metadata": {},
   "outputs": [
    {
     "name": "stdout",
     "output_type": "stream",
     "text": [
      "{'spring': 'march', 'summer': 'june'}\n"
     ]
    }
   ],
   "source": [
    "#popitem() method:\n",
    "#removes the last item in a dictionary\n",
    "dictionary = {\n",
    "    \"spring\": \"march\", \n",
    "    \"summer\": \"june\", \n",
    "    \"autumn\": \"september\"\n",
    "    }\n",
    "dictionary.popitem()\n",
    "print(dictionary)\n",
    "\n"
   ]
  },
  {
   "cell_type": "code",
   "execution_count": null,
   "metadata": {},
   "outputs": [
    {
     "name": "stdout",
     "output_type": "stream",
     "text": [
      "John Norway\n"
     ]
    }
   ],
   "source": [
    "myDict = {\"name\": \"John\", \"country\": \"Norway\"}\n",
    "x = \" \".join(myDict.values())\n",
    "\n",
    "print(x)\n"
   ]
  }
 ],
 "metadata": {
  "kernelspec": {
   "display_name": ".venv",
   "language": "python",
   "name": "python3"
  },
  "language_info": {
   "codemirror_mode": {
    "name": "ipython",
    "version": 3
   },
   "file_extension": ".py",
   "mimetype": "text/x-python",
   "name": "python",
   "nbconvert_exporter": "python",
   "pygments_lexer": "ipython3",
   "version": "3.12.2"
  }
 },
 "nbformat": 4,
 "nbformat_minor": 2
}
