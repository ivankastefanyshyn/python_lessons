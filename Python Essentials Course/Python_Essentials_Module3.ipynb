{
 "cells": [
  {
   "cell_type": "code",
   "execution_count": null,
   "metadata": {},
   "outputs": [],
   "source": [
    "#Questions in Python\n",
    "#To ask questions, Python uses a set of very special operators\n",
    "#!!!\n",
    "# = assignment operator\n",
    "# == is the question: are these values equal?"
   ]
  },
  {
   "cell_type": "code",
   "execution_count": 2,
   "metadata": {},
   "outputs": [
    {
     "name": "stdout",
     "output_type": "stream",
     "text": [
      "True\n",
      "False\n"
     ]
    }
   ],
   "source": [
    "# the equal to operator (==)\n",
    "# == (equal to) operator compares the values of two operands. \n",
    "# If they are equal, the result of the comparison is True. \n",
    "# If they are not equal, the result of the comparison is False\n",
    "var = 0\n",
    "print(var == 0)\n",
    "var = 1\n",
    "print(var == 0)"
   ]
  },
  {
   "cell_type": "code",
   "execution_count": 4,
   "metadata": {},
   "outputs": [
    {
     "name": "stdout",
     "output_type": "stream",
     "text": [
      "False\n",
      "True\n"
     ]
    }
   ],
   "source": [
    "#not equal to operator (!=)\n",
    "#compares the values of two operands, too. \n",
    "#If they are equal, the result of the comparison is False. \n",
    "#If they are not equal, the result of the comparison is True.\n",
    "var = 0\n",
    "print (var != 0)\n",
    "var = 1\n",
    "print (var != 0)"
   ]
  },
  {
   "cell_type": "code",
   "execution_count": 5,
   "metadata": {},
   "outputs": [
    {
     "name": "stdout",
     "output_type": "stream",
     "text": [
      "False\n"
     ]
    }
   ],
   "source": [
    "#  > (greater than) operator\n",
    "a = 2\n",
    "b = 4\n",
    "print (a > b)"
   ]
  },
  {
   "cell_type": "code",
   "execution_count": null,
   "metadata": {},
   "outputs": [],
   "source": [
    "# Also there are:\n",
    "# >= (greater than or equal to) operator\n",
    "# < (less than) operator \n",
    "# <= (less than or equal to) operator\n"
   ]
  },
  {
   "cell_type": "code",
   "execution_count": null,
   "metadata": {},
   "outputs": [],
   "source": [
    "#Priority:\n",
    "# +, - (unary)\n",
    "# **\n",
    "# *, /, //, %\n",
    "# +, -\n",
    "# <, <=, >, >=\n",
    "# ==, !=\n"
   ]
  },
  {
   "cell_type": "code",
   "execution_count": 6,
   "metadata": {},
   "outputs": [
    {
     "name": "stdout",
     "output_type": "stream",
     "text": [
      "False\n"
     ]
    }
   ],
   "source": [
    "# 3.1.6 LAB Variables ‒ Questions and answers\n",
    "n = int(input(\"Enter the number\"))\n",
    "print (n >= 100)\n"
   ]
  },
  {
   "cell_type": "code",
   "execution_count": null,
   "metadata": {},
   "outputs": [],
   "source": [
    "#Making use of the answers\n",
    "# you can use the answer you get to make a decision about the future of the program.\n",
    "# you need a special instruction for this purpose - it's called a conditional instruction (or conditional statement)."
   ]
  },
  {
   "cell_type": "code",
   "execution_count": null,
   "metadata": {},
   "outputs": [],
   "source": [
    "#How does that statement work?\n",
    "#If the true_or_not expression represents the truth (i.e., its value is not equal to zero), the indented statement(s) will be executed\n",
    "#if the true_or_not expression does not represent the truth (i.e., its value is equal to zero), the indented statement(s) will be omitted (ignored), and the next executed instruction will be the one after the original indentation level"
   ]
  },
  {
   "cell_type": "code",
   "execution_count": null,
   "metadata": {},
   "outputs": [],
   "source": [
    "#if statement\n",
    "#conditionally executed statements have to be indented.\n",
    "if sheep_counter >= 120:\n",
    "    make_a_bed()\n",
    "    take_a_shower()\n",
    "    sleep_and_dream()\n",
    "feed_the_sheepdogs()\n",
    "#!!!making a bed, taking a shower and falling asleep and dreaming are all executed conditionally – when sheep_counter reaches the desired limit.\n",
    "#!!!Feeding the sheepdogs, however, is always done (i.e., the feed_the_sheepdogs() function is not indented and does not belong to the if block, which means it is always executed.)"
   ]
  },
  {
   "cell_type": "code",
   "execution_count": null,
   "metadata": {},
   "outputs": [],
   "source": [
    "#if-else statement\n",
    "if true_or_false_condition:\n",
    "    perform_if_condition_true\n",
    "else:\n",
    "    perform_if_condition_false\n",
    "#!!!if the condition evaluates to True (its value is not equal to zero), the perform_if_condition_true statement is executed, and the conditional statement comes to an end;\n",
    "#!!!if the condition evaluates to False (it is equal to zero), the perform_if_condition_false statement is executed, and the conditional statement comes to an end.\n",
    "if the_weather_is_good:\n",
    "    go_for_a_walk()\n",
    "else:\n",
    "    go_to_a_theater()\n",
    "have_lunch()\n",
    "#!!!If the weather is good, we'll go for a walk. Otherwise, we'll go to a theater. No matter if the weather is good or bad, we'll have lunch afterwards (after the walk or after going to the theater)."
   ]
  },
  {
   "cell_type": "code",
   "execution_count": null,
   "metadata": {},
   "outputs": [],
   "source": [
    "#Nested if-else statements\n",
    "if the_weather_is_good:\n",
    "    if nice_restaurant_is_found:\n",
    "        have_lunch()\n",
    "    else:\n",
    "        eat_a_sandwich()\n",
    "else:\n",
    "    if tickets_are_available:\n",
    "        go_to_the_theater()\n",
    "    else:\n",
    "        go_shopping()\n",
    "#!!!this use of the if statement is known as nesting; remember that every else refers to the if which lies at the same indentation level; you need to know this to determine how the ifs and elses pair up"
   ]
  },
  {
   "cell_type": "code",
   "execution_count": null,
   "metadata": {},
   "outputs": [],
   "source": [
    "#elif statement\n",
    "#elif is used to check more than just one condition, and to stop when the first statement which is true is found\n",
    "if the_weather_is_good:\n",
    "    go_for_a_walk()\n",
    "elif tickets_are_available:\n",
    "    go_to_the_theater()\n",
    "elif table_is_available:\n",
    "    go_for_lunch()\n",
    "else:\n",
    "    play_chess_at_home()\n",
    "#you mustn't use else without a preceding if;\n",
    "#else is always the last branch of the cascade, regardless of whether you've used elif or not;\n",
    "#else is an optional part of the cascade, and may be omitted;\n",
    "#if there is an else branch in the cascade, only one of all the branches is executed;\n",
    "#if there is no else branch, it's possible that none of the available branches is executed.\n"
   ]
  },
  {
   "cell_type": "code",
   "execution_count": 7,
   "metadata": {},
   "outputs": [
    {
     "name": "stdout",
     "output_type": "stream",
     "text": [
      "The largest number is: 200\n"
     ]
    }
   ],
   "source": [
    "number1 = 100\n",
    "number2 = 200\n",
    "if number1 > number2:\n",
    "    larger_number = number1\n",
    "else:\n",
    "    larger_number = number2\n",
    "print(\"The largest number is:\", larger_number)"
   ]
  },
  {
   "cell_type": "code",
   "execution_count": 8,
   "metadata": {},
   "outputs": [
    {
     "name": "stdout",
     "output_type": "stream",
     "text": [
      "The largest number is: 400\n"
     ]
    }
   ],
   "source": [
    "number1 = 400\n",
    "number2 = 200\n",
    "number3 = 100\n",
    "largest_number = number1\n",
    "if number2 > largest_number:\n",
    "    largest_number = number2\n",
    "if number3 > largest_number:\n",
    "    largest_number = number3\n",
    "print(\"The largest number is:\", largest_number)   "
   ]
  },
  {
   "cell_type": "code",
   "execution_count": 12,
   "metadata": {},
   "outputs": [
    {
     "name": "stdout",
     "output_type": "stream",
     "text": [
      "Spathiphyllum! Not pelargonium\n"
     ]
    }
   ],
   "source": [
    "#3.1.10 LAB Comparison operators and conditional execution\n",
    "plant = input(\"Enter the name of the plant\")\n",
    "if plant == \"Spathiphyllum\":\n",
    "    print(\"Yes - Spathiphyllum is the best plant ever!\")\n",
    "elif plant == \"spathiphyllum\":\n",
    "    print(\"No, I want a big Spathiphyllum!\")\n",
    "else:\n",
    "    print(\"Spathiphyllum! Not\", plant)"
   ]
  },
  {
   "cell_type": "code",
   "execution_count": 7,
   "metadata": {},
   "outputs": [
    {
     "name": "stdout",
     "output_type": "stream",
     "text": [
      "The tax is: 1244.0 thalers\n"
     ]
    }
   ],
   "source": [
    "#3.1.11 LAB Essentials of the if-else statement \n",
    "income = float(input(\"Enter the annual income: \"))\n",
    "if income < 85528:\n",
    "    tax = income * 0.18 - 556.02\n",
    "if income > 85528:\n",
    "    tax = 14839.02 + 0.32 * (income - 85528)\n",
    "if tax < 0.0:\n",
    "    tax = 0\n",
    "tax = round(tax, 0)\n",
    "print(\"The tax is:\", tax, \"thalers\")"
   ]
  },
  {
   "cell_type": "code",
   "execution_count": 9,
   "metadata": {},
   "outputs": [
    {
     "name": "stdout",
     "output_type": "stream",
     "text": [
      "common year\n"
     ]
    }
   ],
   "source": [
    "#3.1.12 LAB Essentials of the if-elif-else statement\n",
    "year = int(input(\"Enter a year: \"))\n",
    "if year < 1582:\n",
    "    print(\"Not within the Gregorian calendar period\")\n",
    "else:\n",
    "    if year % 4 != 0:\n",
    "        print(\"common year\")\n",
    "    elif year % 100 != 0:\n",
    "        print (\"leap year\")\n",
    "    elif year % 400 != 0:\n",
    "        print (\"common year\")\n",
    "    else:\n",
    "        print (\"leap year\")"
   ]
  },
  {
   "cell_type": "code",
   "execution_count": 11,
   "metadata": {},
   "outputs": [
    {
     "name": "stdout",
     "output_type": "stream",
     "text": [
      "x is equal to 10\n"
     ]
    }
   ],
   "source": [
    "#a single if statement\n",
    "if x == 10: # condition\n",
    "    print(\"x is equal to 10\")  # Executed if the condition is True."
   ]
  },
  {
   "cell_type": "code",
   "execution_count": 12,
   "metadata": {},
   "outputs": [
    {
     "name": "stdout",
     "output_type": "stream",
     "text": [
      "x is greater than 5\n",
      "x is equal to 10\n"
     ]
    }
   ],
   "source": [
    "#a series of if statements, e.g.\n",
    "#each if statement is tested separately.\n",
    "x = 10\n",
    " \n",
    "if x > 5: # condition one\n",
    "    print(\"x is greater than 5\")  # Executed if condition one is True.\n",
    " \n",
    "if x < 10: # condition two\n",
    "    print(\"x is less than 10\")  # Executed if condition two is True.\n",
    " \n",
    "if x == 10: # condition three\n",
    "    print(\"x is equal to 10\")  # Executed if condition three is True.\n",
    "\n",
    "\n",
    "\n"
   ]
  },
  {
   "cell_type": "code",
   "execution_count": null,
   "metadata": {},
   "outputs": [],
   "source": [
    "#an if-else statement, e.g.\n",
    "x = 10\n",
    " \n",
    "if x < 10: # condition\n",
    "    print(\"x is less than 10\")  # Executed if the condition is True.\n",
    " \n",
    "else:\n",
    "    print(\"x is greater than or equal to 10\")  # Executed if the condition is False.\n",
    "\n"
   ]
  },
  {
   "cell_type": "code",
   "execution_count": 13,
   "metadata": {},
   "outputs": [
    {
     "name": "stdout",
     "output_type": "stream",
     "text": [
      "x is greater than 5\n",
      "x is equal to 10\n"
     ]
    }
   ],
   "source": [
    "#a series of if statements followed by an else, e.g.:\n",
    "# Each if is tested separately. The body of else is executed if the last if is False.\n",
    "x = 10\n",
    " \n",
    "if x > 5: # condition one\n",
    "    print(\"x is greater than 5\")  # Executed if condition one is True.\n",
    " \n",
    "if x < 10: # condition two\n",
    "    print(\"x is less than 10\")  # Executed if condition two is True.\n",
    " \n",
    "if x == 10: # condition three\n",
    "     print(\"x is equal to 10\")  # Executed if condition three is True.\n",
    "\n",
    "else:\n",
    "    print (\"nothing\")"
   ]
  },
  {
   "cell_type": "code",
   "execution_count": 14,
   "metadata": {},
   "outputs": [
    {
     "name": "stdout",
     "output_type": "stream",
     "text": [
      "x == 10\n",
      "x > 5\n"
     ]
    }
   ],
   "source": [
    "#The if-elif-else statement, e.g.:\n",
    "# If the condition for if is False, the program checks the conditions of the subsequent elif blocks - the first elif block that is True is executed. If all the conditions are False, the else block will be executed.\n",
    "x = 10\n",
    " \n",
    "if x == 10: # True\n",
    "    print(\"x == 10\")\n",
    " \n",
    "if x > 15: # False\n",
    "    print(\"x > 15\")\n",
    " \n",
    "elif x > 10: # False\n",
    "    print(\"x > 10\")\n",
    " \n",
    "elif x > 5: # True\n",
    "    print(\"x > 5\")\n",
    " \n",
    "else:\n",
    "    print(\"else will not be executed\")"
   ]
  },
  {
   "cell_type": "code",
   "execution_count": 15,
   "metadata": {},
   "outputs": [
    {
     "name": "stdout",
     "output_type": "stream",
     "text": [
      "nested: x == 10\n"
     ]
    }
   ],
   "source": [
    "#Nested conditional statements, e.g.:\n",
    "x = 10\n",
    " \n",
    "if x > 5: # True\n",
    "    if x == 6: # False\n",
    "        print(\"nested: x == 6\")\n",
    "    elif x == 10: # True\n",
    "        print(\"nested: x == 10\")\n",
    "    else:\n",
    "        print(\"nested: else\")\n",
    "else:\n",
    "    print(\"else\")"
   ]
  },
  {
   "cell_type": "code",
   "execution_count": null,
   "metadata": {},
   "outputs": [],
   "source": [
    "#LOOP - performing a certain part of the code\n",
    "#WHILE and IF - difference:\n",
    "#when the condition is met, IF performs its statements only once\n",
    "#WHILE repeats the execution as long as the condition evaluates to True"
   ]
  },
  {
   "cell_type": "code",
   "execution_count": null,
   "metadata": {},
   "outputs": [],
   "source": [
    "#WHILE LOOP:\n",
    "#if you want to execute more than one statement inside one while loop, you must indent all the instructions in the same way;\n",
    "#an instruction or set of instructions executed inside the while loop is called the LOOP'S BODY;\n",
    "#if the condition is False (equal to zero) as early as when it is tested for the first time, the body is not executed even once\n",
    "#the body should be able to change the condition's value, because if the condition is True at the beginning, the body might run continuously to infinity"
   ]
  },
  {
   "cell_type": "code",
   "execution_count": null,
   "metadata": {},
   "outputs": [],
   "source": [
    "#An infinite loop = endless loop\n",
    "while True:\n",
    "    print(\"I'm stuck inside a loop.\")\n",
    "#This loop will infinitely print \"I'm stuck inside a loop.\" on the screen."
   ]
  },
  {
   "cell_type": "code",
   "execution_count": 1,
   "metadata": {},
   "outputs": [
    {
     "name": "stdout",
     "output_type": "stream",
     "text": [
      "Inside the loop 5\n",
      "Inside the loop 4\n",
      "Inside the loop 3\n",
      "Inside the loop 2\n",
      "Inside the loop 1\n",
      "Outside the loop 0\n"
     ]
    }
   ],
   "source": [
    "counter = 5\n",
    "while counter != 0:\n",
    "    print (\"Inside the loop\", counter)\n",
    "    counter = counter - 1\n",
    "print (\"Outside the loop\", counter)"
   ]
  },
  {
   "cell_type": "code",
   "execution_count": 4,
   "metadata": {},
   "outputs": [
    {
     "name": "stdout",
     "output_type": "stream",
     "text": [
      "Well done, muggle! You are free now.\n"
     ]
    }
   ],
   "source": [
    "#3.2.4 LAB Guess the secret number\n",
    "secret_number = 777\n",
    "enter_number = int(input(\"Enter the number\"))\n",
    "while enter_number != secret_number:\n",
    "    print(\"Ha ha! You're stuck in my loop!\")\n",
    "else: \n",
    "    print (\"Well done, muggle! You are free now.\")"
   ]
  },
  {
   "cell_type": "code",
   "execution_count": null,
   "metadata": {},
   "outputs": [],
   "source": [
    "#FOR LOOP\n",
    "#FOR loop is designed to do more complicated tasks – it can \"browse\" large collections of data item by item.\n",
    "#imagine that a loop's body needs to be executed exactly one hundred times. If you would like to use the WHILE LOOP to do it, it may look like this:\n",
    "i = 0\n",
    "while i < 100:\n",
    "    # do_something()\n",
    "    i += 1\n",
    "\n",
    "#FOR LOOP:\n",
    "for i in range(100):\n",
    "    # do_something()\n",
    "    pass"
   ]
  },
  {
   "cell_type": "code",
   "execution_count": null,
   "metadata": {},
   "outputs": [],
   "source": [
    "#FOR LOOP analysis:\n",
    "#the for keyword opens the for loop; note – there's no condition after it; you don't have to think about conditions, as they're checked internally, without any intervention;\n",
    "#any variable after the for keyword is the control variable of the loop; it counts the loop's turns, and does it automatically;\n",
    "#the in keyword introduces a syntax element describing the range of possible values being assigned to the control variable;\n",
    "#the range() function is responsible for generating all the desired values of the control variable"
   ]
  },
  {
   "cell_type": "code",
   "execution_count": null,
   "metadata": {},
   "outputs": [
    {
     "name": "stdout",
     "output_type": "stream",
     "text": [
      "The value of i is currently 0\n",
      "The value of i is currently 1\n",
      "The value of i is currently 2\n",
      "The value of i is currently 3\n",
      "The value of i is currently 4\n",
      "The value of i is currently 5\n",
      "The value of i is currently 6\n",
      "The value of i is currently 7\n",
      "The value of i is currently 8\n",
      "The value of i is currently 9\n"
     ]
    }
   ],
   "source": [
    "for i in range(10):\n",
    "    print(\"The value of i is currently\", i)\n",
    "\n",
    "#Note:\n",
    "#the loop has been executed ten times (it's the range() function's argument)\n",
    "#the last control variable's value is 9 (not 10, as it starts from 0, not from 1)\n"
   ]
  },
  {
   "cell_type": "code",
   "execution_count": null,
   "metadata": {},
   "outputs": [
    {
     "name": "stdout",
     "output_type": "stream",
     "text": [
      "The value of i is currently 2\n",
      "The value of i is currently 3\n",
      "The value of i is currently 4\n",
      "The value of i is currently 5\n",
      "The value of i is currently 6\n",
      "The value of i is currently 7\n"
     ]
    }
   ],
   "source": [
    "#the range() function invocation may be equipped with two arguments, not just one:\n",
    "for i in range(2, 8):\n",
    "    print(\"The value of i is currently\", i)\n",
    "\n",
    "#Note:\n",
    "#the first argument determines the initial (first) value of the control variable.\n",
    "#the last argument shows the first value the control variable will not be assigned.\n",
    "\n",
    "#!!! range() function accepts only integers as its arguments, and generates sequences of integers."
   ]
  },
  {
   "cell_type": "code",
   "execution_count": null,
   "metadata": {},
   "outputs": [
    {
     "name": "stdout",
     "output_type": "stream",
     "text": [
      "The value of i is currently 2\n",
      "The value of i is currently 5\n"
     ]
    }
   ],
   "source": [
    "#for loop and the range() function with three arguments\n",
    "#the first argument passed to the range() function tells us what the starting number of the sequence is\n",
    "#the second argument tells the function where to stop the sequence\n",
    "#the third argument is an increment – it's a value added to control the variable at every loop turn (as you may suspect, the default value of the increment is 1).\n",
    "for i in range(2, 8, 3):\n",
    "    print(\"The value of i is currently\", i)"
   ]
  },
  {
   "cell_type": "code",
   "execution_count": 10,
   "metadata": {},
   "outputs": [],
   "source": [
    "#if the set generated by the range() function is empty, the loop won't execute its body at all.\n",
    "# Just like here – there will be no output:\n",
    "for i in range(1, 1):\n",
    "    print(\"The value of i is currently\", i)"
   ]
  },
  {
   "cell_type": "code",
   "execution_count": 11,
   "metadata": {},
   "outputs": [],
   "source": [
    "#the set generated by the range() has to be sorted in ascending order.\n",
    "#Thus, there will be no output here, either:\n",
    "for i in range(2, 1):\n",
    "    print(\"The value of i is currently\", i)\n"
   ]
  },
  {
   "cell_type": "code",
   "execution_count": null,
   "metadata": {},
   "outputs": [
    {
     "name": "stdout",
     "output_type": "stream",
     "text": [
      "3 to the power of 0 is 3\n",
      "3 to the power of 1 is 9\n",
      "3 to the power of 2 is 27\n",
      "3 to the power of 3 is 81\n",
      "3 to the power of 4 is 243\n",
      "3 to the power of 5 is 729\n",
      "3 to the power of 6 is 2187\n",
      "3 to the power of 7 is 6561\n",
      "3 to the power of 8 is 19683\n",
      "3 to the power of 9 is 59049\n",
      "3 to the power of 10 is 177147\n",
      "3 to the power of 11 is 531441\n",
      "3 to the power of 12 is 1594323\n",
      "3 to the power of 13 is 4782969\n",
      "3 to the power of 14 is 14348907\n",
      "3 to the power of 15 is 43046721\n"
     ]
    }
   ],
   "source": [
    "#program whose task is to write some of the first powers of three:\n",
    "power = 1\n",
    "for expo in range(16):\n",
    "    power = power * 3\n",
    "    print(\"3 to the power of\", expo, \"is\", power)\n"
   ]
  },
  {
   "cell_type": "code",
   "execution_count": null,
   "metadata": {},
   "outputs": [],
   "source": [
    "#3.2.7 LAB Essentials of the for loop – counting mississippily"
   ]
  },
  {
   "cell_type": "code",
   "execution_count": 16,
   "metadata": {},
   "outputs": [
    {
     "name": "stdout",
     "output_type": "stream",
     "text": [
      "1 Mississippi\n",
      "2 Mississippi\n",
      "3 Mississippi\n",
      "4 Mississippi\n",
      "5 Mississippi\n",
      "Ready or not, here I come\n"
     ]
    }
   ],
   "source": [
    "import time\n",
    "\n",
    "for i in range (1, 6):\n",
    "    print(i, \"Mississippi\")\n",
    "    time.sleep(1)\n",
    "\n",
    "print(\"Ready or not, here I come\")\n"
   ]
  },
  {
   "cell_type": "code",
   "execution_count": null,
   "metadata": {},
   "outputs": [],
   "source": [
    "#The break and continue statements\n",
    "#break – exits the loop immediately, and unconditionally ends the loop's operation; the program begins to execute the nearest instruction after the loop's body;\n",
    "#continue – behaves as if the program has suddenly reached the end of the body; the next turn is started and the condition expression is tested immediately."
   ]
  },
  {
   "cell_type": "code",
   "execution_count": 18,
   "metadata": {},
   "outputs": [
    {
     "name": "stdout",
     "output_type": "stream",
     "text": [
      "Inside the loop 1\n",
      "Inside the loop 2\n",
      "Outside the loop\n"
     ]
    }
   ],
   "source": [
    "#break - example\n",
    "for i in range(1,6):\n",
    "    if i == 3:\n",
    "        break\n",
    "    print(\"Inside the loop\", i)\n",
    "print(\"Outside the loop\")"
   ]
  },
  {
   "cell_type": "code",
   "execution_count": 19,
   "metadata": {},
   "outputs": [
    {
     "name": "stdout",
     "output_type": "stream",
     "text": [
      "Inside the loop 1\n",
      "Inside the loop 2\n",
      "Inside the loop 4\n",
      "Inside the loop 5\n",
      "Outside the loop\n"
     ]
    }
   ],
   "source": [
    "# continue - example\n",
    "for i in range(1, 6):\n",
    "    if i == 3:\n",
    "        continue\n",
    "    print(\"Inside the loop\", i)\n",
    "print(\"Outside the loop\")\n"
   ]
  },
  {
   "cell_type": "code",
   "execution_count": 26,
   "metadata": {},
   "outputs": [
    {
     "name": "stdout",
     "output_type": "stream",
     "text": [
      "You've successfully left the loop!\n"
     ]
    }
   ],
   "source": [
    "#3.2.9 LAB The break statement – Stuck in a loop\n",
    "while True:\n",
    "    word = input(\"You're stuck in an infinite loop!\\nEnter the secret word to leave the loop: \")\n",
    "    if word == \"chupacabra\":\n",
    "        break\n",
    "print(\"You've successfully left the loop!\")"
   ]
  },
  {
   "cell_type": "code",
   "execution_count": 33,
   "metadata": {},
   "outputs": [
    {
     "name": "stdout",
     "output_type": "stream",
     "text": [
      "G\n",
      "R\n",
      "G\n",
      "R\n",
      "Y\n"
     ]
    }
   ],
   "source": [
    "#3.2.10 LAB The continue statement – the Ugly Vowel Eater\n",
    "user_word = input(\"Enter the word:\")\n",
    "user_word = user_word.upper()\n",
    "for l in user_word:\n",
    "    if l == \"A\":\n",
    "        continue\n",
    "    elif l == \"E\":\n",
    "        continue\n",
    "    elif l == \"I\":\n",
    "        continue\n",
    "    elif l == \"O\":\n",
    "        continue\n",
    "    elif l == \"U\":\n",
    "        continue\n",
    "    else:\n",
    "        print(l)"
   ]
  },
  {
   "cell_type": "code",
   "execution_count": 39,
   "metadata": {},
   "outputs": [
    {
     "name": "stdout",
     "output_type": "stream",
     "text": [
      "GM\n"
     ]
    }
   ],
   "source": [
    "#3.2.11 LAB The continue statement – the Pretty Vowel Eater\n",
    "word_without_vowels = \"\"\n",
    "user_word = input(\"Enter the word:\")\n",
    "user_word = user_word.upper()\n",
    "for l in user_word:\n",
    "    if l == \"A\":\n",
    "        continue\n",
    "    elif l == \"E\":\n",
    "        continue\n",
    "    elif l == \"I\":\n",
    "        continue\n",
    "    elif l == \"O\":\n",
    "        continue\n",
    "    elif l == \"U\":\n",
    "        continue\n",
    "    else:\n",
    "        word_without_vowels = word_without_vowels + l\n",
    "print(word_without_vowels)"
   ]
  },
  {
   "cell_type": "code",
   "execution_count": null,
   "metadata": {},
   "outputs": [
    {
     "name": "stdout",
     "output_type": "stream",
     "text": [
      "1\n",
      "2\n",
      "3\n",
      "4\n",
      "else 5\n"
     ]
    }
   ],
   "source": [
    "#The while loop and the else branch\n",
    "#The loop's else branch is always executed once, regardless of whether the loop has entered its body or not.\n",
    "\n",
    "i = 1\n",
    "while i < 5:\n",
    "    print(i)\n",
    "    i = i + 1\n",
    "else:\n",
    "    print(\"else\", i)\n",
    "\n"
   ]
  },
  {
   "cell_type": "code",
   "execution_count": 6,
   "metadata": {},
   "outputs": [
    {
     "name": "stdout",
     "output_type": "stream",
     "text": [
      "else 8\n"
     ]
    }
   ],
   "source": [
    "#when the lopp isn't executed itss body even once:\n",
    "i = 8\n",
    "while i < 5:\n",
    "    print(i)\n",
    "    i = i + 1\n",
    "else:\n",
    "    print(\"else\", i)"
   ]
  },
  {
   "cell_type": "code",
   "execution_count": null,
   "metadata": {},
   "outputs": [
    {
     "name": "stdout",
     "output_type": "stream",
     "text": [
      "0\n",
      "1\n",
      "2\n",
      "3\n",
      "4\n",
      "else 4\n"
     ]
    }
   ],
   "source": [
    "#The for loop and the else branch\n",
    "for i in range(5):\n",
    "    print(i)\n",
    "else:\n",
    "    print(\"else\", i)\n",
    "\n",
    "#!!!The i variable retains its last value."
   ]
  },
  {
   "cell_type": "code",
   "execution_count": 2,
   "metadata": {},
   "outputs": [
    {
     "name": "stdout",
     "output_type": "stream",
     "text": [
      "else: 111\n"
     ]
    }
   ],
   "source": [
    "##when the lopp isn't executed itss body even once:\n",
    "i = 111\n",
    "for i in range(2, 1):\n",
    "    print(i)\n",
    "else:\n",
    "    print(\"else:\", i)"
   ]
  },
  {
   "cell_type": "code",
   "execution_count": 7,
   "metadata": {},
   "outputs": [
    {
     "name": "stdout",
     "output_type": "stream",
     "text": [
      "The height of the pyramid: 44\n"
     ]
    }
   ],
   "source": [
    "#3.2.14 LAB Essentials of the while loop\n",
    "blocks = int(input(\"Enter the number of blocks: \"))\n",
    "height = 0\n",
    "in_layer = 1\n",
    "while in_layer <= blocks:\n",
    "    height = height + 1\n",
    "    blocks = blocks - in_layer\n",
    "    in_layer = in_layer + 1\n",
    "\n",
    "print(\"The height of the pyramid:\", height)"
   ]
  },
  {
   "cell_type": "code",
   "execution_count": 12,
   "metadata": {},
   "outputs": [
    {
     "name": "stdout",
     "output_type": "stream",
     "text": [
      "1\n",
      "3\n",
      "5\n",
      "7\n",
      "9\n"
     ]
    }
   ],
   "source": [
    "#Create a for loop that counts from 0 to 10, and prints odd numbers to the screen. Use the skeleton below:\n",
    "for i in range(1, 11):\n",
    "    if i % 2 != 0:\n",
    "        print(i)\n"
   ]
  },
  {
   "cell_type": "code",
   "execution_count": 16,
   "metadata": {},
   "outputs": [
    {
     "name": "stdout",
     "output_type": "stream",
     "text": [
      "1\n",
      "3\n",
      "5\n",
      "7\n",
      "9\n"
     ]
    }
   ],
   "source": [
    "#Create a while loop that counts from 0 to 10, and prints odd numbers to the screen. Use the skeleton below:\n",
    "x = 1\n",
    "while x < 11:\n",
    "    if x % 2 != 0:\n",
    "        print(x)\n",
    "    x = x + 1"
   ]
  },
  {
   "cell_type": "code",
   "execution_count": 19,
   "metadata": {},
   "outputs": [
    {
     "name": "stdout",
     "output_type": "stream",
     "text": [
      "john.smith"
     ]
    }
   ],
   "source": [
    "#Create a program with a for loop and a break statement. The program should iterate over characters in an email address, exit the loop when it reaches the @ symbol, and print the part before @ on one line. Use the skeleton below:\n",
    "for char in \"john.smith@pythoninstitute.org\":\n",
    "    if char == \"@\":\n",
    "        break\n",
    "    print(char, end = \"\")"
   ]
  },
  {
   "cell_type": "code",
   "execution_count": 28,
   "metadata": {},
   "outputs": [
    {
     "name": "stdout",
     "output_type": "stream",
     "text": [
      "x165x318x651x"
     ]
    }
   ],
   "source": [
    "#Create a program with a for loop and a continue statement. The program should iterate over a string of digits, replace each 0 with x, and print the modified string to the screen. Use the skeleton below:\n",
    "for digit in \"0165031806510\":\n",
    "    if digit == \"0\":\n",
    "        print(\"x\", end = \"\")\n",
    "        continue\n",
    "    print(digit, end = \"\")\n"
   ]
  },
  {
   "cell_type": "code",
   "execution_count": null,
   "metadata": {},
   "outputs": [],
   "source": [
    "# and operator - is a logical conjunction operator in Python\n"
   ]
  },
  {
   "cell_type": "code",
   "execution_count": null,
   "metadata": {},
   "outputs": [],
   "source": [
    "#or operator - is a logical disjunction operator in Python \n",
    "#has lower priority than and operator"
   ]
  },
  {
   "cell_type": "code",
   "execution_count": 3,
   "metadata": {},
   "outputs": [
    {
     "name": "stdout",
     "output_type": "stream",
     "text": [
      "True\n",
      "True\n",
      "False\n",
      "False\n"
     ]
    }
   ],
   "source": [
    "#not operator - unary operator performing a logical negation\n",
    "#Its operation is simple: it turns truth into falsehood and falsehood into truth.\n",
    "var = 1\n",
    "print(var > 0)\n",
    "print(not (var <= 0))\n",
    "\n",
    "var = 2\n",
    "print (var < 1)\n",
    "print (not(var > 1))"
   ]
  },
  {
   "cell_type": "code",
   "execution_count": null,
   "metadata": {},
   "outputs": [],
   "source": [
    "# Logical values vs. single bits\n",
    "# Logical operators take their arguments as a whole regardless of how many bits they contain. The operators are aware only of the value: zero (when all the bits are reset) means False; not zero (when at least one bit is set) means True.\n",
    "# However, there are four operators that allow you to manipulate single bits of data. They are called bitwise operators.\n",
    "# & (ampersand) ‒ bitwise conjunction;\n",
    "# | (bar) ‒ bitwise disjunction;\n",
    "# ~ (tilde) ‒ bitwise negation;\n",
    "# ^ (caret) ‒ bitwise exclusive or (xor).\n",
    "\n",
    "#!!!The difference in the operation of the logical and bit operators is important: the logical operators do not penetrate into the bit level of its argument. They're only interested in the final integer value.\n",
    "# \n",
    "# \n",
    "# !!!Bitwise operators are stricter: they deal with every bit separately"
   ]
  },
  {
   "cell_type": "code",
   "execution_count": null,
   "metadata": {},
   "outputs": [],
   "source": [
    "# SCALARS - variables that are able to store exactly one given value at a time.\n",
    "# but there are multi-value variables.\n",
    "# for example, LIST\n"
   ]
  },
  {
   "cell_type": "code",
   "execution_count": null,
   "metadata": {},
   "outputs": [],
   "source": [
    "#LIST\n",
    "numbers = [10, 5, 7, 2, 1]\n",
    "#list starts with an open square bracket and ends with a closed square bracket\n",
    "#the space between the brackets is filled with five numbers separated by commas\n",
    "# elements inside a list may have different types - integers, floats and even lists.\n",
    "#elements in a list are always numbered starting from zero"
   ]
  },
  {
   "cell_type": "code",
   "execution_count": null,
   "metadata": {},
   "outputs": [
    {
     "name": "stdout",
     "output_type": "stream",
     "text": [
      "Original list contents: [10, 5, 7, 2, 1]\n",
      "New list contents [111, 5, 7, 2, 1]\n",
      "Original list contents: [10, 5, 7, 2, 1]\n",
      "New list contents: [10, 1, 7, 2, 1]\n"
     ]
    }
   ],
   "source": [
    "#Indexing lists\n",
    "#value inside the brackets which selects one element of the list is called an index\n",
    "#operation of selecting an element from the list is known as indexing.\n",
    "\n",
    "numbers = [10, 5, 7, 2, 1]\n",
    "print (\"Original list contents:\", numbers)\n",
    "\n",
    "#let's assign a new value of 111 to the first element in the list.\n",
    "numbers[0] = 111\n",
    "print(\"New list contents\", numbers)\n",
    "\n",
    "#now we want the value of the fifth element to be copied to the second element\n",
    "numbers1 = [10, 5, 7, 2, 1]\n",
    "print(\"Original list contents:\", numbers1)\n",
    "numbers1[1] = numbers1[4]\n",
    "print(\"New list contents:\", numbers1)"
   ]
  },
  {
   "cell_type": "code",
   "execution_count": null,
   "metadata": {},
   "outputs": [
    {
     "name": "stdout",
     "output_type": "stream",
     "text": [
      "10\n",
      "5\n"
     ]
    }
   ],
   "source": [
    "#Accessing list content\n",
    "#Each of the list's elements may be accessed separately. For example, it can be printed:\n",
    "numbers = [10, 5, 7, 2, 1]\n",
    "print(numbers[0])"
   ]
  },
  {
   "cell_type": "code",
   "execution_count": null,
   "metadata": {},
   "outputs": [
    {
     "name": "stdout",
     "output_type": "stream",
     "text": [
      "5\n"
     ]
    }
   ],
   "source": [
    "#The len() function\n",
    "numbers = [10, 5, 7, 2, 1]\n",
    "print(len(numbers))\n",
    "\n",
    "#length of a list may vary during execution. \n",
    "# New elements may be added to the list, while others may be removed from it.\n",
    "# so - list is a very dynamic entity.\n",
    "#len() takes the list's name as an argument, and returns the number of elements currently stored inside the list (in other words ‒ the list's length)."
   ]
  },
  {
   "cell_type": "code",
   "execution_count": 13,
   "metadata": {},
   "outputs": [
    {
     "name": "stdout",
     "output_type": "stream",
     "text": [
      "[10, 5, 7, 2]\n",
      "4\n"
     ]
    }
   ],
   "source": [
    "# Removing elements from a list - instruction(not a function) del\n",
    "#You have to point to the element to be removed ‒ it'll vanish from the list, and the list's length will be reduced by one.\n",
    "numbers = [10, 5, 7, 2, 1]\n",
    "del numbers [-1]\n",
    "print (numbers)\n",
    "print(len(numbers))\n",
    "\n"
   ]
  },
  {
   "cell_type": "code",
   "execution_count": 14,
   "metadata": {},
   "outputs": [
    {
     "name": "stdout",
     "output_type": "stream",
     "text": [
      "2\n"
     ]
    }
   ],
   "source": [
    "#negative indices are legal\n",
    "#element with an index equal to -1 is the last one in the list.\n",
    "#similarly, the element with an index equal to -2 is the one before last in the list.\n",
    "numbers = [111, 7, 2, 1]\n",
    "print(numbers[-2])"
   ]
  },
  {
   "cell_type": "code",
   "execution_count": 25,
   "metadata": {},
   "outputs": [
    {
     "name": "stdout",
     "output_type": "stream",
     "text": [
      "[1, 2, 100, 4, 5]\n",
      "[1, 2, 100, 4]\n",
      "4\n"
     ]
    }
   ],
   "source": [
    "#3.4.6 LAB The basics of lists\n",
    "hat_list = [1, 2, 3, 4, 5]\n",
    "\n",
    "#write a line of code that prompts the user to replace the middle number in the list with an integer number entered by the user (Step 1)\n",
    "hat_list[2] = int(input(\"Enter the number:\"))\n",
    "print(hat_list)\n",
    "\n",
    "#write a line of code that removes the last element from the list (Step 2)\n",
    "del hat_list[-1]\n",
    "print(hat_list)\n",
    "\n",
    "#write a line of code that prints the length of the existing list (Step 3).\n",
    "\n",
    "print(len(hat_list))"
   ]
  },
  {
   "cell_type": "code",
   "execution_count": null,
   "metadata": {},
   "outputs": [],
   "source": [
    "    #Functions vs. methods\n",
    "#!!!method is owned by the data it works for.\n",
    "#!!!function is owned by the whole code.\n",
    "result = data.method(arg)\n",
    "result = function(arg)"
   ]
  },
  {
   "cell_type": "code",
   "execution_count": null,
   "metadata": {},
   "outputs": [
    {
     "name": "stdout",
     "output_type": "stream",
     "text": [
      "[111, 7, 2, 1, 4]\n"
     ]
    }
   ],
   "source": [
    "#append() \n",
    "#append() - takes its argument's value and puts it at the end of the list which owns the method: list.append(value)\n",
    "numbers = [111, 7, 2, 1]\n",
    "numbers.append(4)\n",
    "print(numbers)\n",
    "\n",
    "\n"
   ]
  },
  {
   "cell_type": "code",
   "execution_count": 2,
   "metadata": {},
   "outputs": [
    {
     "name": "stdout",
     "output_type": "stream",
     "text": [
      "[111, 222, 7, 2, 1]\n"
     ]
    }
   ],
   "source": [
    "#insert()\n",
    "# insert() method is a bit smarter ‒ it can add a new element at any place in the list, not only at the end: list.insert(location, value)\n",
    "#It takes two arguments:\n",
    "# the first shows the required location of the element to be inserted; note: all the existing elements that occupy locations to the right of the new element (including the one at the indicated position) are shifted to the right, in order to make space for the new element;\n",
    "# the second is the element to be inserted\n",
    "numbers = [111, 7, 2, 1]\n",
    "numbers.insert(1,222)\n",
    "print(numbers)"
   ]
  },
  {
   "cell_type": "code",
   "execution_count": null,
   "metadata": {},
   "outputs": [
    {
     "name": "stdout",
     "output_type": "stream",
     "text": [
      "[0, 1, 2, 3, 4]\n"
     ]
    }
   ],
   "source": [
    "#You can start a list's life by making it empty (this is done with an empty pair of square brackets) and then adding new elements to it as needed.\n",
    "my_list = []\n",
    "for i in range(5):\n",
    "    my_list.append(i)\n",
    "print(my_list)\n"
   ]
  },
  {
   "cell_type": "code",
   "execution_count": null,
   "metadata": {},
   "outputs": [
    {
     "name": "stdout",
     "output_type": "stream",
     "text": [
      "[4, 3, 2, 1, 0]\n"
     ]
    }
   ],
   "source": [
    "my_list = []\n",
    "for i in range(5):\n",
    "    my_list.insert(0, i)\n",
    "print(my_list)\n",
    "#!!! so if insert(0) - we have a reverse order"
   ]
  },
  {
   "cell_type": "code",
   "execution_count": 7,
   "metadata": {},
   "outputs": [
    {
     "name": "stdout",
     "output_type": "stream",
     "text": [
      "27\n"
     ]
    }
   ],
   "source": [
    "my_list = [10, 1, 8, 3, 5]\n",
    "total = 0\n",
    "for i in my_list:\n",
    "    total = total + i\n",
    "print(total)"
   ]
  },
  {
   "cell_type": "code",
   "execution_count": 13,
   "metadata": {},
   "outputs": [
    {
     "name": "stdout",
     "output_type": "stream",
     "text": [
      "['John Lennon', 'Paul McCartney', 'George Harrison']\n",
      "['John Lennon', 'Paul McCartney', 'George Harrison', 'Stu Sutcliffe', 'Pete Best']\n",
      "['John Lennon', 'Paul McCartney', 'George Harrison']\n",
      "['Ringo Starr', 'John Lennon', 'Paul McCartney', 'George Harrison']\n"
     ]
    }
   ],
   "source": [
    "#  3.4.11 LAB The basics of lists ‒ the Beatles\n",
    "#step 1: create an empty list named beatles;\n",
    "beatles = []\n",
    "#step 2: use the append() method to add the following members of the band to the list: John Lennon, Paul McCartney, and George Harrison;\n",
    "beatles.append(\"John Lennon\")\n",
    "beatles.append(\"Paul McCartney\")\n",
    "beatles.append(\"George Harrison\")\n",
    "print(beatles)\n",
    "#step 3: use the for loop and the append() method to prompt the user to add the following members of the band to the list: Stu Sutcliffe, and Pete Best;\n",
    "for members in range(2):\n",
    "    beatles.append(input(\"New band member:\"))\n",
    "print(beatles)\n",
    "#step 4: use the del instruction to remove Stu Sutcliffe and Pete Best from the list;\n",
    "del beatles[-1]\n",
    "del beatles[-1]\n",
    "print(beatles)\n",
    "#step 5: use the insert() method to add Ringo Starr to the beginning of the list.\n",
    "beatles.insert(0, \"Ringo Starr\")\n",
    "print(beatles)"
   ]
  },
  {
   "cell_type": "code",
   "execution_count": null,
   "metadata": {},
   "outputs": [],
   "source": [
    "#SO!!!\n",
    "#LIST - type of data in Python used to store multiple objects.\n",
    "#ordered\n",
    "#mutable\n",
    "#can be indexed\n",
    "#can be updated\n",
    "#can be nested\n",
    "#List elements and lists can be deleted\n",
    "#List can be iterated through using the for loop"
   ]
  },
  {
   "cell_type": "code",
   "execution_count": 2,
   "metadata": {},
   "outputs": [
    {
     "name": "stdout",
     "output_type": "stream",
     "text": [
      "[2, 4, 6, 8, 10]\n",
      "<class 'list'>\n",
      "[1, 2, 3, 4, 5]\n"
     ]
    }
   ],
   "source": [
    "#sorting the lists:\n",
    "my_list = [8, 10, 6, 2, 4]\n",
    "print(sorted(my_list))\n",
    "print(type(my_list))\n",
    "\n",
    "#OR\n",
    "lst = [5, 3, 1, 2, 4]\n",
    "lst.sort()\n",
    "print(lst)"
   ]
  },
  {
   "cell_type": "code",
   "execution_count": 1,
   "metadata": {},
   "outputs": [
    {
     "name": "stdout",
     "output_type": "stream",
     "text": [
      "[4, 2, 1, 3, 5]\n"
     ]
    }
   ],
   "source": [
    "#reverse() method - to reverse the list\n",
    "lst = [5, 3, 1, 2, 4]\n",
    "lst.reverse()\n",
    "print(lst)"
   ]
  },
  {
   "cell_type": "code",
   "execution_count": null,
   "metadata": {},
   "outputs": [],
   "source": [
    "list_1 = [1]\n",
    "list_2 = list_1\n",
    "list_1[0] = 2\n",
    "print(list_2)\n",
    "\n",
    "#!!!name of an ordinary variable is the name of its content\n",
    "#!!!name of a list is the name of a memory location where the list is stored\n",
    "#The assignment: list_2 = list_1 copies the name of the array, not its contents. \n",
    "# In effect, the two names (list_1 and list_2) identify the same location in the computer memory. \n",
    "# Modifying one of them affects the other, and vice versa."
   ]
  },
  {
   "cell_type": "code",
   "execution_count": null,
   "metadata": {},
   "outputs": [
    {
     "name": "stdout",
     "output_type": "stream",
     "text": [
      "[1]\n",
      "[8, 6]\n"
     ]
    }
   ],
   "source": [
    "#Powerful SLICES\n",
    "#slice - is an element of Python syntax that allows you to make a brand new copy of a list, or parts of a list.\n",
    "list_1 = [1]\n",
    "list_2 = list_1[:]\n",
    "list_1[0] = 2\n",
    "print(list_2)\n",
    "\n",
    "#This inconspicuous part of the code described as [:] is able to produce a brand new list.\n",
    "#One of the most general forms of the slice looks as follows: my_list[start:end]\n",
    "#start is the index of the first element included in the slice;\n",
    "#end is the index of the first element not included in the slice.\n",
    "#slice of this form makes a new (target) list, taking elements from the source list\n",
    "my_list = [10, 8, 6, 4, 2]\n",
    "new_list = my_list[1:3]\n",
    "print(new_list)\n"
   ]
  },
  {
   "cell_type": "code",
   "execution_count": 8,
   "metadata": {},
   "outputs": [
    {
     "name": "stdout",
     "output_type": "stream",
     "text": [
      "[1]\n",
      "[8, 6]\n"
     ]
    }
   ],
   "source": [
    "# Copying the entire list.\n",
    "list_1 = [1]\n",
    "list_2 = list_1[:]\n",
    "list_1[0] = 2\n",
    "print(list_2)\n",
    "\n",
    "# Copying some part of the list.\n",
    "my_list = [10, 8, 6, 4, 2]\n",
    "new_list = my_list[1:3]\n",
    "print(new_list)"
   ]
  },
  {
   "cell_type": "code",
   "execution_count": 9,
   "metadata": {},
   "outputs": [
    {
     "name": "stdout",
     "output_type": "stream",
     "text": [
      "[]\n"
     ]
    }
   ],
   "source": [
    "#if the start specifies an element lying further than the one described by the end (from the list's beginning), the slice will be empty:\n",
    "my_list = [10, 8, 6, 4, 2]\n",
    "new_list = my_list[-1:1]\n",
    "print(new_list)"
   ]
  },
  {
   "cell_type": "code",
   "execution_count": null,
   "metadata": {},
   "outputs": [],
   "source": [
    "#If you omit the start in your slice, it is assumed that you want to get a slice beginning at the element with index 0: my_list[:end]\n",
    "#if you omit the end in your slice, it is assumed that you want the slice to end at the element with the index len(my_list): my_list[start:]\n",
    "#omitting both start and end makes a copy of the whole list: [:]\n"
   ]
  },
  {
   "cell_type": "code",
   "execution_count": 12,
   "metadata": {},
   "outputs": [
    {
     "name": "stdout",
     "output_type": "stream",
     "text": [
      "[10, 4, 2]\n",
      "[]\n"
     ]
    },
    {
     "ename": "NameError",
     "evalue": "name 'my_list' is not defined",
     "output_type": "error",
     "traceback": [
      "\u001b[0;31m---------------------------------------------------------------------------\u001b[0m",
      "\u001b[0;31mNameError\u001b[0m                                 Traceback (most recent call last)",
      "Cell \u001b[0;32mIn[12], line 15\u001b[0m\n\u001b[1;32m     13\u001b[0m my_list \u001b[38;5;241m=\u001b[39m [\u001b[38;5;241m10\u001b[39m, \u001b[38;5;241m8\u001b[39m, \u001b[38;5;241m6\u001b[39m, \u001b[38;5;241m4\u001b[39m, \u001b[38;5;241m2\u001b[39m]\n\u001b[1;32m     14\u001b[0m \u001b[38;5;28;01mdel\u001b[39;00m my_list\n\u001b[0;32m---> 15\u001b[0m \u001b[38;5;28mprint\u001b[39m(\u001b[43mmy_list\u001b[49m)\n",
      "\u001b[0;31mNameError\u001b[0m: name 'my_list' is not defined"
     ]
    }
   ],
   "source": [
    "#del instruction\n",
    "#is able to delete more than just a list's elements at once ‒ it can delete slices too:\n",
    "my_list = [10, 8, 6, 4, 2]\n",
    "del my_list[1:3]\n",
    "print(my_list)\n",
    "\n",
    "#Deleting all the elements at once is possible too:\n",
    "my_list = [10, 8, 6, 4, 2]\n",
    "del my_list[:]\n",
    "print(my_list)\n",
    "\n",
    "#delete the list itself, not its content:\n",
    "my_list = [10, 8, 6, 4, 2]\n",
    "del my_list\n",
    "print(my_list)"
   ]
  },
  {
   "cell_type": "code",
   "execution_count": 13,
   "metadata": {},
   "outputs": [
    {
     "name": "stdout",
     "output_type": "stream",
     "text": [
      "False\n",
      "True\n",
      "True\n"
     ]
    }
   ],
   "source": [
    "#The in and not in operators - are able to look through the list in order to check whether a specific value is stored inside the list or not\n",
    "\n",
    "#elem in my_list - checks if a given element (its left argument) is currently stored somewhere inside the list (the right argument) ‒ the operator returns True in this case.\n",
    "\n",
    "#elem not in my_list - checks if a given element (its left argument) is absent in a list ‒ the operator returns True in this case.\n",
    "my_list = [0, 3, 12, 8, 2]\n",
    "print(5 in my_list)\n",
    "print(5 not in my_list)\n",
    "print(12 in my_list)"
   ]
  },
  {
   "cell_type": "code",
   "execution_count": 15,
   "metadata": {},
   "outputs": [
    {
     "name": "stdout",
     "output_type": "stream",
     "text": [
      "20\n"
     ]
    }
   ],
   "source": [
    "#find the greater value in the list:\n",
    "my_list = [17, 3, 11, 5, 1, 9, 7, 20, 13]\n",
    "largest = my_list[0]\n",
    "for i in my_list:\n",
    "    if i > largest:\n",
    "        largest = i\n",
    "print(largest)"
   ]
  },
  {
   "cell_type": "code",
   "execution_count": 20,
   "metadata": {},
   "outputs": [
    {
     "name": "stdout",
     "output_type": "stream",
     "text": [
      "element is found at index 5\n"
     ]
    }
   ],
   "source": [
    "#find the location of a given element inside a list:\n",
    "my_list = [1, 2, 3, 4, 5, 6, 7, 8, 9, 10]\n",
    "to_find = 5\n",
    "found = False\n",
    "for i in my_list:\n",
    "    found = i == to_find\n",
    "    if found:\n",
    "        break\n",
    "if found:\n",
    "    print(\"element is found at index\", i)\n",
    "else: \n",
    "    print(\"absent\")"
   ]
  },
  {
   "cell_type": "code",
   "execution_count": 21,
   "metadata": {},
   "outputs": [
    {
     "name": "stdout",
     "output_type": "stream",
     "text": [
      "4\n"
     ]
    }
   ],
   "source": [
    "#Let's assume that you've chosen the following numbers in the lottery: 3, 7, 11, 42, 34, 49.\n",
    "# The numbers that have been drawn are: 5, 11, 9, 42, 3, 49.\n",
    "# The question is: how many numbers have you hit?\n",
    "drawn = [5, 11, 9, 42, 3, 49]\n",
    "bets = [3, 7, 11, 42, 34, 49]\n",
    "hits = 0\n",
    "for n in bets:\n",
    "    if n in drawn:\n",
    "        hits = hits + 1\n",
    "print(hits) "
   ]
  },
  {
   "cell_type": "code",
   "execution_count": 23,
   "metadata": {},
   "outputs": [
    {
     "name": "stdout",
     "output_type": "stream",
     "text": [
      "[1, 2, 4, 6, 9]\n"
     ]
    }
   ],
   "source": [
    "#3.6.6 LAB Operating with lists ‒ basics\n",
    "my_list = [1, 2, 4, 4, 1, 4, 2, 6, 2, 9]\n",
    "unique_list = []\n",
    "for number in my_list:\n",
    "    if number not in unique_list:\n",
    "        unique_list.append(number)\n",
    "print(unique_list)"
   ]
  },
  {
   "cell_type": "code",
   "execution_count": null,
   "metadata": {},
   "outputs": [
    {
     "name": "stdout",
     "output_type": "stream",
     "text": [
      "[0, 1, 4, 9, 16, 25, 36, 49, 64, 81]\n",
      "[1, 2, 4, 8, 16, 32, 64, 128]\n"
     ]
    }
   ],
   "source": [
    "#list comprehension examples:\n",
    "\n",
    "\n",
    "squares = [x ** 2 for x in range(10)]\n",
    "print(squares)\n",
    "#the snippet produces a ten-element list filled with squares of ten integer numbers starting from zero (0, 1, 4, 9, 16, 25, 36, 49, 64, 81)\n",
    "\n",
    "twos = [2 ** i for i in range(8)]\n",
    "print(twos)\n",
    "#the snippet creates an eight-element array containing the first eight powers of two (1, 2, 4, 8, 16, 32, 64, 128)"
   ]
  },
  {
   "cell_type": "code",
   "execution_count": 14,
   "metadata": {},
   "outputs": [
    {
     "name": "stdout",
     "output_type": "stream",
     "text": [
      "1\n",
      "2\n",
      "3\n"
     ]
    }
   ],
   "source": [
    "my_list = [1, 2, 3]\n",
    "for v in range(len(my_list)):\n",
    "    print(my_list[v])    "
   ]
  }
 ],
 "metadata": {
  "kernelspec": {
   "display_name": ".venv",
   "language": "python",
   "name": "python3"
  },
  "language_info": {
   "codemirror_mode": {
    "name": "ipython",
    "version": 3
   },
   "file_extension": ".py",
   "mimetype": "text/x-python",
   "name": "python",
   "nbconvert_exporter": "python",
   "pygments_lexer": "ipython3",
   "version": "3.12.2"
  }
 },
 "nbformat": 4,
 "nbformat_minor": 2
}
