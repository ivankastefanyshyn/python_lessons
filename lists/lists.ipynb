{
 "cells": [
  {
   "cell_type": "code",
   "execution_count": 1,
   "metadata": {},
   "outputs": [
    {
     "name": "stdout",
     "output_type": "stream",
     "text": [
      "['apple', 'banana', 'cherry']\n"
     ]
    }
   ],
   "source": [
    "#List items are ordered, changeable, and allow duplicate values.\n",
    "#List items are indexed, the first item has index [0]; -1 refers to the last item, -2 refers to the second last item etc.\n",
    "mylist = [\"apple\", \"banana\", \"cherry\"]\n",
    "print(mylist)"
   ]
  },
  {
   "cell_type": "code",
   "execution_count": 3,
   "metadata": {},
   "outputs": [
    {
     "name": "stdout",
     "output_type": "stream",
     "text": [
      "3\n"
     ]
    }
   ],
   "source": [
    "#List Length - To determine how many items a list has, use the len() function\n",
    "thislist = [\"apple\", \"banana\", \"cherry\"]\n",
    "print(len(thislist))"
   ]
  },
  {
   "cell_type": "code",
   "execution_count": 4,
   "metadata": {},
   "outputs": [
    {
     "name": "stdout",
     "output_type": "stream",
     "text": [
      "['apple', 'banana', 'cherry']\n",
      "[1, 5, 7, 9, 3]\n",
      "[True, False, False]\n"
     ]
    }
   ],
   "source": [
    "#List items can be of any data type:\n",
    "list1 = [\"apple\", \"banana\", \"cherry\"]\n",
    "list2 = [1, 5, 7, 9, 3]\n",
    "list3 = [True, False, False]\n",
    "print(list1)\n",
    "print(list2)\n",
    "print(list3)"
   ]
  },
  {
   "cell_type": "code",
   "execution_count": 5,
   "metadata": {},
   "outputs": [
    {
     "name": "stdout",
     "output_type": "stream",
     "text": [
      "<class 'list'>\n"
     ]
    }
   ],
   "source": [
    "#type()\n",
    "mylist = [\"apple\", \"banana\", \"cherry\"]\n",
    "print(type(mylist))"
   ]
  },
  {
   "cell_type": "code",
   "execution_count": 6,
   "metadata": {},
   "outputs": [
    {
     "name": "stdout",
     "output_type": "stream",
     "text": [
      "['apple', 'banana', 'cherry']\n"
     ]
    }
   ],
   "source": [
    "#It is also possible to use the list() constructor when creating a new list\n",
    "thislist = list((\"apple\", \"banana\", \"cherry\"))\n",
    "print(thislist)"
   ]
  },
  {
   "cell_type": "code",
   "execution_count": 10,
   "metadata": {},
   "outputs": [
    {
     "name": "stdout",
     "output_type": "stream",
     "text": [
      "apple\n",
      "avocado\n",
      "['apple', 'banana']\n",
      "['banana', 'cherry', 'pear', 'avocado']\n"
     ]
    }
   ],
   "source": [
    "#Access items\n",
    "mylist = [\"apple\", \"banana\", \"cherry\", \"pear\", \"avocado\"]\n",
    "print(mylist[0])\n",
    "print(mylist[-1])\n",
    "print(mylist[:2])\n",
    "print(mylist[1:])"
   ]
  },
  {
   "cell_type": "code",
   "execution_count": 1,
   "metadata": {},
   "outputs": [
    {
     "name": "stdout",
     "output_type": "stream",
     "text": [
      "['avocado', 'banana', 'cherry']\n"
     ]
    }
   ],
   "source": [
    "#Change Item Value\n",
    "thislist = [\"apple\", \"banana\", \"cherry\"]\n",
    "thislist[0]=\"avocado\"\n",
    "print(thislist)"
   ]
  },
  {
   "cell_type": "code",
   "execution_count": 2,
   "metadata": {},
   "outputs": [
    {
     "name": "stdout",
     "output_type": "stream",
     "text": [
      "['watermelon', 'kiwi', 'cherry', 'pear', 'avocado']\n"
     ]
    }
   ],
   "source": [
    "#Change a Range of Item Values\n",
    "mylist = [\"apple\", \"banana\", \"cherry\", \"pear\", \"avocado\"]\n",
    "mylist[0:2]=[\"watermelon\", \"kiwi\"]\n",
    "print(mylist)\n"
   ]
  },
  {
   "cell_type": "code",
   "execution_count": 3,
   "metadata": {},
   "outputs": [
    {
     "name": "stdout",
     "output_type": "stream",
     "text": [
      "['grapes', 'apple', 'banana', 'cherry', 'pear', 'avocado']\n"
     ]
    }
   ],
   "source": [
    "#The insert() method inserts an item at the specified index\n",
    "mylist = [\"apple\", \"banana\", \"cherry\", \"pear\", \"avocado\"]\n",
    "mylist.insert(0, \"grapes\")\n",
    "print(mylist)"
   ]
  },
  {
   "cell_type": "code",
   "execution_count": 4,
   "metadata": {},
   "outputs": [
    {
     "name": "stdout",
     "output_type": "stream",
     "text": [
      "['apple', 'banana', 'cherry', 'pear', 'avocado', 'grapes']\n"
     ]
    }
   ],
   "source": [
    "#append() method - adds an item to the end of the list\n",
    "mylist = [\"apple\", \"banana\", \"cherry\", \"pear\", \"avocado\"]\n",
    "mylist.append(\"grapes\")\n",
    "print(mylist)"
   ]
  },
  {
   "cell_type": "code",
   "execution_count": 5,
   "metadata": {},
   "outputs": [
    {
     "name": "stdout",
     "output_type": "stream",
     "text": [
      "['tomato', 'banana', 'apple', 'pear', 'kiwi']\n"
     ]
    }
   ],
   "source": [
    "#extend() method - append elements from another list to the current list\n",
    "fruits=[\"apple\", \"pear\", \"kiwi\"]\n",
    "favourite=[\"tomato\",\"banana\"]\n",
    "favourite.extend(fruits)\n",
    "print(favourite)"
   ]
  },
  {
   "cell_type": "code",
   "execution_count": 6,
   "metadata": {},
   "outputs": [
    {
     "name": "stdout",
     "output_type": "stream",
     "text": [
      "['pear', 'kiwi']\n"
     ]
    }
   ],
   "source": [
    "#remove() method removes the specified item\n",
    "fruits=[\"apple\", \"pear\", \"kiwi\"]\n",
    "fruits.remove(\"apple\")\n",
    "print(fruits)"
   ]
  },
  {
   "cell_type": "code",
   "execution_count": 8,
   "metadata": {},
   "outputs": [
    {
     "name": "stdout",
     "output_type": "stream",
     "text": [
      "['apple', 'kiwi']\n"
     ]
    }
   ],
   "source": [
    "#The pop() method removes the specified index\n",
    "#If not specify the index, the pop() method removes the last item\n",
    "fruits=[\"apple\", \"pear\", \"kiwi\"]\n",
    "fruits.pop(1)\n",
    "print(fruits)"
   ]
  },
  {
   "cell_type": "code",
   "execution_count": 10,
   "metadata": {},
   "outputs": [
    {
     "name": "stdout",
     "output_type": "stream",
     "text": [
      "['pear', 'kiwi']\n"
     ]
    }
   ],
   "source": [
    "#The del keyword also removes the specified index\n",
    "fruits=[\"apple\", \"pear\", \"kiwi\"]\n",
    "del fruits[0]\n",
    "print(fruits)"
   ]
  },
  {
   "cell_type": "code",
   "execution_count": 11,
   "metadata": {},
   "outputs": [
    {
     "name": "stdout",
     "output_type": "stream",
     "text": [
      "[]\n"
     ]
    }
   ],
   "source": [
    "#The clear() method empties the list.\n",
    "fruits=[\"apple\", \"pear\", \"kiwi\"]\n",
    "fruits.clear()\n",
    "print(fruits)"
   ]
  },
  {
   "cell_type": "code",
   "execution_count": 1,
   "metadata": {},
   "outputs": [
    {
     "name": "stdout",
     "output_type": "stream",
     "text": [
      "['apple', 'kiwi', 'pear']\n"
     ]
    }
   ],
   "source": [
    "#sort the list\n",
    "fruits=[\"apple\", \"pear\", \"kiwi\"]\n",
    "print(sorted(fruits))"
   ]
  },
  {
   "cell_type": "code",
   "execution_count": 3,
   "metadata": {},
   "outputs": [
    {
     "name": "stdout",
     "output_type": "stream",
     "text": [
      "['apple', 'banana', 'cherry']\n",
      "['apple', 'banana', 'cherry']\n"
     ]
    }
   ],
   "source": [
    "# copy() method - make a copy of a list\n",
    "#tha same the list () method\n",
    "thislist = [\"apple\", \"banana\", \"cherry\"]\n",
    "mylist=thislist.copy()\n",
    "print(mylist)\n",
    "thislist1 = [\"apple\", \"banana\", \"cherry\"]\n",
    "mylist1=list(thislist1)\n",
    "print(mylist1)\n"
   ]
  },
  {
   "cell_type": "code",
   "execution_count": 4,
   "metadata": {},
   "outputs": [
    {
     "name": "stdout",
     "output_type": "stream",
     "text": [
      "['a', 'b', 'c', 1, 2, 3]\n"
     ]
    }
   ],
   "source": [
    "#join 2 lists:\n",
    "list1 = [\"a\", \"b\", \"c\"]\n",
    "list2 = [1, 2, 3]\n",
    "list3 = list1 + list2\n",
    "print(list3)\n"
   ]
  },
  {
   "cell_type": "code",
   "execution_count": 6,
   "metadata": {},
   "outputs": [
    {
     "name": "stdout",
     "output_type": "stream",
     "text": [
      "[['morning', 6, 'hour'], ['noon', 13, 'hour'], ['evening', 21, 'hour']]\n"
     ]
    }
   ],
   "source": [
    "#The append() method appends an element to the end of the list.\n",
    "time=[[\"morning\",6],[\"noon\",13],[\"evening\",21]]\n",
    "for list in time:\n",
    "    list.append(\"hour\")\n",
    "print(time)\n"
   ]
  },
  {
   "cell_type": "code",
   "execution_count": 7,
   "metadata": {},
   "outputs": [
    {
     "name": "stdout",
     "output_type": "stream",
     "text": [
      "[[], [], []]\n"
     ]
    }
   ],
   "source": [
    "#clear() Method - Removes all the elements from the list:\n",
    "time=[[\"morning\",6],[\"noon\",13],[\"evening\",21]]\n",
    "for list in time:\n",
    "    list.clear()\n",
    "print(time)\n"
   ]
  },
  {
   "cell_type": "code",
   "execution_count": 18,
   "metadata": {},
   "outputs": [
    {
     "name": "stdout",
     "output_type": "stream",
     "text": [
      "0\n",
      "0\n",
      "1\n"
     ]
    }
   ],
   "source": [
    "#count() Method - Returns the number of elements with the specified value\n",
    "time=[[\"morning\",6],[\"noon\",13],[\"evening\",21]]\n",
    "for list in time:\n",
    "    x=list.count(\"evening\")\n",
    "    print(x)"
   ]
  },
  {
   "cell_type": "code",
   "execution_count": 21,
   "metadata": {},
   "outputs": [
    {
     "name": "stdout",
     "output_type": "stream",
     "text": [
      "[['morning', 6, 'Monday', 'Tuesday', 'Wednesday'], ['noon', 13, 'Monday', 'Tuesday', 'Wednesday'], ['evening', 21, 'Monday', 'Tuesday', 'Wednesday']]\n"
     ]
    }
   ],
   "source": [
    "#extend() Method - Add the elements of a list (or any iterable), to the end of the current list\n",
    "time=[[\"morning\",6],[\"noon\",13],[\"evening\",21]]\n",
    "days=[\"Monday\", \"Tuesday\",\"Wednesday\"]\n",
    "for list in time:\n",
    "    list.extend(days)\n",
    "print(time)"
   ]
  },
  {
   "cell_type": "code",
   "execution_count": 22,
   "metadata": {},
   "outputs": [
    {
     "name": "stdout",
     "output_type": "stream",
     "text": [
      "[['good', 'morning', 6], ['good', 'noon', 13], ['good', 'evening', 21]]\n"
     ]
    }
   ],
   "source": [
    "#insert() - Adds an element at the specified position\n",
    "time=[[\"morning\",6],[\"noon\",13],[\"evening\",21]]\n",
    "for list in time:\n",
    "    list.insert(0,\"good\")\n",
    "print(time)\n"
   ]
  },
  {
   "cell_type": "code",
   "execution_count": 24,
   "metadata": {},
   "outputs": [
    {
     "name": "stdout",
     "output_type": "stream",
     "text": [
      "[['morning', 6], ['noon', 13], ['evening', 21]]\n"
     ]
    }
   ],
   "source": [
    "#pop() - Removes the element at the specified position\n",
    "time=[['good', 'morning', 6], ['good', 'noon', 13], ['good', 'evening', 21]]\n",
    "for list in time:\n",
    "    list.pop(0)\n",
    "print(time)"
   ]
  },
  {
   "cell_type": "code",
   "execution_count": 25,
   "metadata": {},
   "outputs": [
    {
     "name": "stdout",
     "output_type": "stream",
     "text": [
      "[[6, 'morning'], [13, 'noon'], [21, 'evening']]\n"
     ]
    }
   ],
   "source": [
    "#reverse() - Reverses the order of the list\n",
    "time=[[\"morning\",6],[\"noon\",13],[\"evening\",21]]\n",
    "for list in time:\n",
    "    list.reverse()\n",
    "print(time)"
   ]
  }
 ],
 "metadata": {
  "kernelspec": {
   "display_name": ".venv",
   "language": "python",
   "name": "python3"
  },
  "language_info": {
   "codemirror_mode": {
    "name": "ipython",
    "version": 3
   },
   "file_extension": ".py",
   "mimetype": "text/x-python",
   "name": "python",
   "nbconvert_exporter": "python",
   "pygments_lexer": "ipython3",
   "version": "3.12.2"
  }
 },
 "nbformat": 4,
 "nbformat_minor": 2
}
