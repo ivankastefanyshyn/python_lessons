{
 "cells": [
  {
   "cell_type": "code",
   "execution_count": 1,
   "metadata": {},
   "outputs": [
    {
     "name": "stdout",
     "output_type": "stream",
     "text": [
      "('morning', 'noon', 'evening', 'night')\n"
     ]
    }
   ],
   "source": [
    "#A tuple - is ordered, unchangeable, allow duplicate values\n",
    "#written with round brackets.\n",
    "thistuple=(\"morning\",\"noon\", \"evening\", \"night\")\n",
    "print(thistuple)"
   ]
  },
  {
   "cell_type": "code",
   "execution_count": 2,
   "metadata": {},
   "outputs": [
    {
     "name": "stdout",
     "output_type": "stream",
     "text": [
      "4\n"
     ]
    }
   ],
   "source": [
    "#len() function - determine how many items a tuple has:\n",
    "thistuple=(\"morning\",\"noon\", \"evening\", \"night\")\n",
    "print(len(thistuple))"
   ]
  },
  {
   "cell_type": "code",
   "execution_count": 4,
   "metadata": {},
   "outputs": [
    {
     "name": "stdout",
     "output_type": "stream",
     "text": [
      "<class 'tuple'>\n",
      "<class 'str'>\n"
     ]
    }
   ],
   "source": [
    "#Tuple With One Item - add a comma after the item:\n",
    "thistuple=(\"morning\",)\n",
    "print(type(thistuple))\n",
    "thistuple=(\"morning\")\n",
    "print(type(thistuple))"
   ]
  },
  {
   "cell_type": "code",
   "execution_count": null,
   "metadata": {},
   "outputs": [],
   "source": [
    "#Data Types - Tuple items can be of any data type:\n",
    "tuple1 = (\"apple\", \"banana\", \"cherry\")\n",
    "tuple2 = (1, 5, 7, 9, 3)\n",
    "tuple3 = (True, False, False)"
   ]
  },
  {
   "cell_type": "code",
   "execution_count": 5,
   "metadata": {},
   "outputs": [
    {
     "name": "stdout",
     "output_type": "stream",
     "text": [
      "('morning', 'noon', 'evening', 'night')\n"
     ]
    }
   ],
   "source": [
    "#tuple() Constructor\n",
    "thistuple=tuple((\"morning\",\"noon\", \"evening\", \"night\"))\n",
    "print(thistuple)"
   ]
  },
  {
   "cell_type": "code",
   "execution_count": 9,
   "metadata": {},
   "outputs": [
    {
     "name": "stdout",
     "output_type": "stream",
     "text": [
      "night\n"
     ]
    }
   ],
   "source": [
    "#access tuple items -  with index number, inside square brackets:\n",
    "thistuple=tuple((\"morning\",\"noon\", \"evening\", \"night\"))\n",
    "print(thistuple[-1])"
   ]
  },
  {
   "cell_type": "code",
   "execution_count": 10,
   "metadata": {},
   "outputs": [
    {
     "name": "stdout",
     "output_type": "stream",
     "text": [
      "Yes, morning is in this tuple\n"
     ]
    }
   ],
   "source": [
    "#Check if Item Exists:\n",
    "thistuple=tuple((\"morning\",\"noon\", \"evening\", \"night\"))\n",
    "if \"morning\" in thistuple:\n",
    "    print(\"Yes, morning is in this tuple\")"
   ]
  },
  {
   "cell_type": "code",
   "execution_count": 14,
   "metadata": {},
   "outputs": [
    {
     "name": "stdout",
     "output_type": "stream",
     "text": [
      "['morning', 'noon', 'evening', 'night', 'hour']\n",
      "('morning', 'noon', 'evening', 'night', 'hour')\n"
     ]
    }
   ],
   "source": [
    "#Change Tuple Values - unchangeable, or immutable, BUT \n",
    "#you can convert the tuple into a list, change the list, and convert the list back into a tuple\n",
    "thistuple=tuple((\"morning\",\"noon\", \"evening\", \"night\"))\n",
    "x=list(thistuple)\n",
    "x.append(\"hour\")\n",
    "print(x)\n",
    "y=tuple(x)\n",
    "print(y)"
   ]
  },
  {
   "cell_type": "code",
   "execution_count": 26,
   "metadata": {},
   "outputs": [
    {
     "name": "stdout",
     "output_type": "stream",
     "text": [
      "('morning', 'noon', 'evening', 'night', 'hour')\n"
     ]
    }
   ],
   "source": [
    "#Change Tuple Values - unchangeable, or immutable, BUT \n",
    "#you can create a new tuple and add it to the existing tuple\n",
    "thistuple=(\"morning\",\"noon\", \"evening\", \"night\")\n",
    "newtuple=thistuple + (\"hour\",)\n",
    "print(newtuple)"
   ]
  },
  {
   "cell_type": "code",
   "execution_count": 27,
   "metadata": {},
   "outputs": [
    {
     "name": "stdout",
     "output_type": "stream",
     "text": [
      "morning\n"
     ]
    }
   ],
   "source": [
    "#Unpacking a Tuple\n",
    "thistuple=(\"morning\",\"noon\", \"evening\", \"night\")\n",
    "morning, noon, evening, night = thistuple\n",
    "print(morning)"
   ]
  },
  {
   "cell_type": "code",
   "execution_count": 29,
   "metadata": {},
   "outputs": [
    {
     "name": "stdout",
     "output_type": "stream",
     "text": [
      "morning\n",
      "noon\n",
      "['evening', 'night']\n"
     ]
    }
   ],
   "source": [
    "#Using Asterisk*\n",
    "thistuple=(\"morning\",\"noon\", \"evening\", \"night\")\n",
    "a,b,*c = thistuple\n",
    "print(a)\n",
    "print(b)\n",
    "print(c)"
   ]
  },
  {
   "cell_type": "code",
   "execution_count": 30,
   "metadata": {},
   "outputs": [
    {
     "name": "stdout",
     "output_type": "stream",
     "text": [
      "morning\n",
      "noon\n",
      "evening\n",
      "night\n"
     ]
    }
   ],
   "source": [
    "#loop through the tuple items by using a for loop\n",
    "thistuple=(\"morning\",\"noon\", \"evening\", \"night\")\n",
    "for x in thistuple:\n",
    "    print(x)"
   ]
  },
  {
   "cell_type": "code",
   "execution_count": 34,
   "metadata": {},
   "outputs": [
    {
     "name": "stdout",
     "output_type": "stream",
     "text": [
      "morning\n",
      "noon\n",
      "evening\n",
      "night\n"
     ]
    }
   ],
   "source": [
    "#loop through the tuple items by referring to their index number - Use the range() and len() functions \n",
    "thistuple=(\"morning\",\"noon\", \"evening\", \"night\")\n",
    "for i in range(len(thistuple)):\n",
    "    print(thistuple[i])\n"
   ]
  },
  {
   "cell_type": "code",
   "execution_count": 35,
   "metadata": {},
   "outputs": [
    {
     "name": "stdout",
     "output_type": "stream",
     "text": [
      "('morning', 'noon', 'evening', 'night', 'Monday')\n"
     ]
    }
   ],
   "source": [
    "#join two or more tuples - use the + operator\n",
    "thistuple=(\"morning\",\"noon\", \"evening\", \"night\")\n",
    "tuple=(\"Monday\",)\n",
    "result=thistuple+tuple\n",
    "print(result)"
   ]
  },
  {
   "cell_type": "code",
   "execution_count": 36,
   "metadata": {},
   "outputs": [
    {
     "name": "stdout",
     "output_type": "stream",
     "text": [
      "('morning', 'noon', 'evening', 'night', 'morning', 'noon', 'evening', 'night', 'morning', 'noon', 'evening', 'night')\n"
     ]
    }
   ],
   "source": [
    "#multiply the content of a tuple - use the * operator\n",
    "thistuple=(\"morning\",\"noon\", \"evening\", \"night\")\n",
    "result=thistuple*3\n",
    "print(result)"
   ]
  },
  {
   "cell_type": "code",
   "execution_count": 38,
   "metadata": {},
   "outputs": [
    {
     "name": "stdout",
     "output_type": "stream",
     "text": [
      "1\n",
      "0\n"
     ]
    }
   ],
   "source": [
    "#Tuple Methods - has only two:\n",
    "#count() - Returns the number of times a specified value occurs in a tuple\n",
    "#index() - Searches the tuple for a specified value and returns the position of where it was found\n",
    "thistuple=(\"morning\",\"noon\", \"evening\", \"night\")\n",
    "print(thistuple.count(\"morning\"))\n",
    "print(thistuple.index(\"morning\"))"
   ]
  }
 ],
 "metadata": {
  "kernelspec": {
   "display_name": ".venv",
   "language": "python",
   "name": "python3"
  },
  "language_info": {
   "codemirror_mode": {
    "name": "ipython",
    "version": 3
   },
   "file_extension": ".py",
   "mimetype": "text/x-python",
   "name": "python",
   "nbconvert_exporter": "python",
   "pygments_lexer": "ipython3",
   "version": "3.12.2"
  }
 },
 "nbformat": 4,
 "nbformat_minor": 2
}
