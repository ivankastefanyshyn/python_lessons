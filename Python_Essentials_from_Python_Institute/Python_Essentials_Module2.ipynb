{
 "cells": [
  {
   "cell_type": "code",
   "execution_count": null,
   "metadata": {},
   "outputs": [],
   "source": [
    "#Module2 - Python Data Types, Variables, Operators, and Basic I/O Operations"
   ]
  },
  {
   "cell_type": "code",
   "execution_count": null,
   "metadata": {},
   "outputs": [
    {
     "name": "stdout",
     "output_type": "stream",
     "text": [
      "Hello, Python!\n"
     ]
    }
   ],
   "source": [
    "#Print()function - prints out a line to the screen\n",
    "print(\"Hello, Python!\")\n",
    "\n",
    "#1. What effect does the print() function cause?\n",
    "#takes its arguments, converts them into human-readable form if needed and sends the resulting data to the output device (usually the console)\n",
    "\n",
    "#2. What arguments does print() expect?\n",
    "#Any\n",
    "\n",
    "#3. What value does the print() function return?\n",
    "#None. Its effect is enough."
   ]
  },
  {
   "cell_type": "code",
   "execution_count": null,
   "metadata": {},
   "outputs": [
    {
     "name": "stdout",
     "output_type": "stream",
     "text": [
      "The itsy bitsy spider\n",
      "climbed up the waterspout.\n",
      "\n",
      "Down came the rain\n",
      "and washed the spider out.\n"
     ]
    }
   ],
   "source": [
    "#\\n\n",
    "#newline character: urges the console to start a new output line\n",
    "print(\"The itsy bitsy spider\\nclimbed up the waterspout.\")\n",
    "print()\n",
    "print(\"Down came the rain\\nand washed the spider out.\")"
   ]
  },
  {
   "cell_type": "code",
   "execution_count": null,
   "metadata": {},
   "outputs": [
    {
     "name": "stdout",
     "output_type": "stream",
     "text": [
      "The itsy bitsy spider climbed up the waterspout.\n"
     ]
    }
   ],
   "source": [
    "#print() function invoked with more than one argument outputs them all on one line\n",
    "#print() function puts a space between the outputted arguments on its own initiative.\n",
    "\n",
    "print(\"The itsy bitsy spider\", \"climbed up\" , \"the waterspout.\")\n"
   ]
  },
  {
   "cell_type": "code",
   "execution_count": null,
   "metadata": {},
   "outputs": [
    {
     "name": "stdout",
     "output_type": "stream",
     "text": [
      "My name is Python\n",
      "Monty Python\n",
      "\n",
      "My name is Python. Monty Python\n",
      "\n",
      "My name is Monty Python.\n"
     ]
    }
   ],
   "source": [
    "#keyword argument \"end\"\n",
    "print(\"My name is\", \"Python\", end=\"\\n\")\n",
    "print(\"Monty Python\")\n",
    "print()\n",
    "print(\"My name is\", \"Python\", end=\". \")\n",
    "print(\"Monty Python\")\n",
    "print()\n",
    "\n",
    "#if the \"end\" argument has been set to nothing, the print() function outputs nothing too, once its positional arguments have been exhausted\n",
    "#!!!no newlines  have been sent to the output.\n",
    "print(\"My name is \", end=\"\")\n",
    "print(\"Monty Python.\")"
   ]
  },
  {
   "cell_type": "code",
   "execution_count": 20,
   "metadata": {},
   "outputs": [
    {
     "name": "stdout",
     "output_type": "stream",
     "text": [
      "My-name-is-Monty-Python.\n",
      "My * name * is * Monty * Python.\n"
     ]
    }
   ],
   "source": [
    "#keyword argument \"sep\"\n",
    "print(\"My\", \"name\", \"is\", \"Monty\", \"Python.\", sep=\"-\")\n",
    "print(\"My\", \"name\", \"is\", \"Monty\", \"Python.\", sep=\" * \")"
   ]
  },
  {
   "cell_type": "code",
   "execution_count": 22,
   "metadata": {},
   "outputs": [
    {
     "name": "stdout",
     "output_type": "stream",
     "text": [
      "My*name*is ! Monty+Python***\n"
     ]
    }
   ],
   "source": [
    "#Both keyword arguments may be mixed in one invocation\n",
    "print(\"My\", \"name\", \"is\", sep=\"*\", end=\" ! \")\n",
    "print(\"Monty\", \"Python\", sep=\"+\", end=\"***\\n\")"
   ]
  },
  {
   "cell_type": "code",
   "execution_count": 23,
   "metadata": {},
   "outputs": [
    {
     "name": "stdout",
     "output_type": "stream",
     "text": [
      "Programming***Essentials***in...Python\n"
     ]
    }
   ],
   "source": [
    "#2.1.12 LAB The print() function and its arguments\n",
    "print(\"Programming\",\"Essentials\",\"in\", sep=\"***\", end=\"...\")\n",
    "print(\"Python\")"
   ]
  },
  {
   "cell_type": "code",
   "execution_count": 36,
   "metadata": {},
   "outputs": [
    {
     "name": "stdout",
     "output_type": "stream",
     "text": [
      "123\n",
      "123\n",
      "<class 'str'>\n",
      "<class 'int'>\n",
      "<class 'float'>\n"
     ]
    }
   ],
   "source": [
    "#Literals = data whose values are determined by the literal itself\n",
    "#Pyhon literals: - strings; - integers; - floats; - boolean values\n",
    "print(\"123\")\n",
    "print(123)\n",
    "print(type(\"123\"))\n",
    "print(type(123))\n",
    "print(type(123.0))"
   ]
  },
  {
   "cell_type": "code",
   "execution_count": null,
   "metadata": {},
   "outputs": [
    {
     "name": "stdout",
     "output_type": "stream",
     "text": [
      "83\n",
      "291\n"
     ]
    }
   ],
   "source": [
    "#binary system - it's the system computers use for storing numbers (uses 0 and 1)\n",
    "#in Python you can do 11111111 or 11_111_111.\n",
    "#But NOT 11.111.111 or 11,111,111 or 11 111 111\n",
    "\n",
    "#There are two additional conventions in Python - octal and hexadecimal\n",
    "\n",
    "#octal: 0O or 0o prefix (zero-o) - (digits taken from the [0..7] range only)\n",
    "print(0o123)\n",
    "\n",
    "#hexadecimal:0X or 0X (zero - x) \n",
    "print(0x123)"
   ]
  },
  {
   "cell_type": "code",
   "execution_count": null,
   "metadata": {},
   "outputs": [
    {
     "name": "stdout",
     "output_type": "stream",
     "text": [
      "1e-22\n"
     ]
    }
   ],
   "source": [
    "#When you want to use any numbers that are very large or very small, you can use scientific notation\n",
    "#300000000 can also be seen as 3 x 108 and in Python as 3e8\n",
    "#letter E is a concise record of the phrase \"times ten to the power of\"\n",
    "print(0.0000000000000000000001)"
   ]
  },
  {
   "cell_type": "code",
   "execution_count": 41,
   "metadata": {},
   "outputs": [
    {
     "name": "stdout",
     "output_type": "stream",
     "text": [
      "I am a string\n",
      "I like \"Monty Python\"\n",
      "I like \"Monty Python\"\n"
     ]
    }
   ],
   "source": [
    "#STRINGS - used when you need to process text\n",
    "#strings need quotes\n",
    "print (\"I am a string\")\n",
    "\n",
    "#but if there are quotes inside the string: print(\"I like \"Monty Python\"\") will cause an error.\n",
    "\n",
    "#you can use escape character:\n",
    "print(\"I like \\\"Monty Python\\\"\")\n",
    "\n",
    "#or you can use an apostrophe instead of a quote:\n",
    "print('I like \"Monty Python\"')"
   ]
  },
  {
   "cell_type": "code",
   "execution_count": null,
   "metadata": {},
   "outputs": [
    {
     "name": "stdout",
     "output_type": "stream",
     "text": [
      "True\n",
      "False\n"
     ]
    }
   ],
   "source": [
    "#BOOLEAN VALUES - used to represent a very abstract value ‒ truthfulness.\n",
    "#True is denoted as 1\n",
    "#False is denoted as 0\n",
    "print(True > False)\n",
    "print(True < False)"
   ]
  },
  {
   "cell_type": "code",
   "execution_count": 1,
   "metadata": {},
   "outputs": [
    {
     "name": "stdout",
     "output_type": "stream",
     "text": [
      "\"I'm\"\n",
      "\"\"learning\"\"\n",
      "\"\"\"Python\"\"\"\n"
     ]
    }
   ],
   "source": [
    "#2.2.6 - LAB Python literals - strings\n",
    "print('\"I\\'m\"\\n\"\"learning\"\"\\n\"\"\"Python\"\"\"')\n",
    "\n"
   ]
  },
  {
   "cell_type": "code",
   "execution_count": null,
   "metadata": {},
   "outputs": [],
   "source": [
    "    #BASIC OPERATORS\n",
    "#operator - is a symbol of the programming language, which is able to operate on the values.\n",
    "#expression - when data and operators are connected together\n",
    "#UNARY operator - expexts one argument (-4; +3)\n",
    "#BINARY operator - expects 2 arguments\n"
   ]
  },
  {
   "cell_type": "code",
   "execution_count": null,
   "metadata": {},
   "outputs": [
    {
     "name": "stdout",
     "output_type": "stream",
     "text": [
      "8\n",
      "8.0\n",
      "8.0\n",
      "8.0\n"
     ]
    }
   ],
   "source": [
    "#Exponentiation: ** (піднесення до ступеню)\n",
    "print(2 ** 3)\n",
    "print(2 ** 3.)\n",
    "print(2. ** 3)\n",
    "print(2. ** 3.)\n",
    "\n",
    "#when both ** arguments are integers, the result is an integer, too\n",
    "#when at least one ** argument is a float, the result is a float, too."
   ]
  },
  {
   "cell_type": "code",
   "execution_count": 3,
   "metadata": {},
   "outputs": [
    {
     "name": "stdout",
     "output_type": "stream",
     "text": [
      "6\n",
      "6.0\n",
      "6.0\n",
      "6.0\n"
     ]
    }
   ],
   "source": [
    "#Multiplication: *\n",
    "print(2 * 3)\n",
    "print(2 * 3.)\n",
    "print(2. * 3)\n",
    "print(2. * 3.)"
   ]
  },
  {
   "cell_type": "code",
   "execution_count": null,
   "metadata": {},
   "outputs": [
    {
     "name": "stdout",
     "output_type": "stream",
     "text": [
      "2.0\n",
      "2.0\n",
      "2.0\n",
      "2.0\n",
      "\n",
      "2\n",
      "2.0\n",
      "2.0\n",
      "2.0\n",
      "\n",
      "1\n",
      "3\n",
      "3.0\n",
      "-4\n"
     ]
    }
   ],
   "source": [
    "#Division: /\n",
    "#!!!!!The result produced by the division operator is always a float\n",
    "print(6 / 3)\n",
    "print(6 / 3.)\n",
    "print(6. / 3)\n",
    "print(6. / 3.)\n",
    "print()\n",
    "#That's why Python has \"Integer division\" (\"Floor division\"): //\n",
    "#its result lacks the fractional part ‒ it's absent (for integers), or is always equal to zero (for floats); \n",
    "# this means that the results are always rounded\n",
    "\n",
    "print(6 // 3)\n",
    "print(6 // 3.)\n",
    "print(6. // 3)\n",
    "print(6. // 3.)\n",
    "print()\n",
    "#!!!rounding always goes to the lesser integer.\n",
    "print(6 // 4)\n",
    "print(10 // 3)\n",
    "print(10 // 3.)\n",
    "print(-10 // 3)"
   ]
  },
  {
   "cell_type": "code",
   "execution_count": null,
   "metadata": {},
   "outputs": [
    {
     "name": "stdout",
     "output_type": "stream",
     "text": [
      "2\n",
      "3.0\n"
     ]
    }
   ],
   "source": [
    "#Remainder (modulo): %\n",
    "#the result is a remainder left after the integer division.\n",
    "#In other words, it's the value left over after dividing one value by another to produce an integer quotient.\n",
    "print(14 % 4)\n",
    "#14 // 4 gives 3 → this is the integer quotient;\n",
    "#3 * 4 gives 12 → as a result of quotient and divisor multiplication;\n",
    "#14 - 12 gives 2 → this is the remainder.\n",
    "\n",
    "print(12 % 4.5)"
   ]
  },
  {
   "cell_type": "code",
   "execution_count": null,
   "metadata": {},
   "outputs": [
    {
     "name": "stdout",
     "output_type": "stream",
     "text": [
      "1\n",
      "\n",
      "256\n"
     ]
    }
   ],
   "source": [
    "# hierarchy of priorities\n",
    "#if operators with equal priority - then left-sided binding (the expression is conducted from left to right)\n",
    "\n",
    "print(9 % 6 % 2)\n",
    "print()\n",
    "###BUT exponentiation operator uses right-sided binding.\n",
    "print(2 ** 2 ** 3)\n"
   ]
  },
  {
   "cell_type": "code",
   "execution_count": null,
   "metadata": {},
   "outputs": [],
   "source": [
    "#Table of priorities:\n",
    "# **\n",
    "# +, - (unary)\n",
    "# *,/, //, %\n",
    "# +, -\n",
    "#!!! in parenthesis first!!!"
   ]
  },
  {
   "cell_type": "code",
   "execution_count": 1,
   "metadata": {},
   "outputs": [
    {
     "name": "stdout",
     "output_type": "stream",
     "text": [
      "1\n"
     ]
    }
   ],
   "source": [
    "#VARIABLE = box, \"container\" for data\n",
    "#Python variable has: 1) name; 2) value (the content of the container)\n",
    "\n",
    "#rules for NAMES OF VARIABLES:\n",
    "# the name of the variable must be composed of upper-case or lower-case letters, digits, and the character _ (underscore)\n",
    "# the name of the variable must begin with a letter;\n",
    "# the underscore character is a letter;\n",
    "# upper- and lower-case letters are treated as different (a little differently than in the real world – Alice and ALICE are the same first names, but in Python they are two different variable names, and consequently, two different variables);\n",
    "# the name of the variable must not be any of Python's keywords\n",
    "\n",
    "#HOW TO CREATE VARIABLE:\n",
    "# use the name of the desired variable, then the equal sign (=) and the value you want to put into the variable.\n",
    "var = 1\n",
    "print(var)"
   ]
  },
  {
   "cell_type": "code",
   "execution_count": null,
   "metadata": {},
   "outputs": [
    {
     "name": "stdout",
     "output_type": "stream",
     "text": [
      "Pytnon version: 3.8.5\n"
     ]
    }
   ],
   "source": [
    "#You can use the print() function and combine text and variables using the + operator to output strings and variables. For example:\n",
    "var = \"3.8.5\"\n",
    "print(\"Pytnon version:\" + var)"
   ]
  },
  {
   "cell_type": "code",
   "execution_count": null,
   "metadata": {},
   "outputs": [
    {
     "name": "stdout",
     "output_type": "stream",
     "text": [
      "1\n",
      "5\n"
     ]
    }
   ],
   "source": [
    "#How to assign a new value to an already existing variable?\n",
    "#assignment operator - equal sign\n",
    "var = 1\n",
    "print(var)\n",
    "var = var + 4\n",
    "print(var)"
   ]
  },
  {
   "cell_type": "code",
   "execution_count": null,
   "metadata": {},
   "outputs": [
    {
     "name": "stdout",
     "output_type": "stream",
     "text": [
      "3,5,6\n",
      "14\n"
     ]
    }
   ],
   "source": [
    "#2.4.7 - LAB Variables\n",
    "john = 3\n",
    "mary = 5\n",
    "adam = 6\n",
    "print(john, mary, adam, sep = \",\")\n",
    "\n",
    "total_apples = john + mary + adam\n",
    "print(total_apples)"
   ]
  },
  {
   "cell_type": "code",
   "execution_count": null,
   "metadata": {},
   "outputs": [
    {
     "name": "stdout",
     "output_type": "stream",
     "text": [
      "3\n",
      "4\n"
     ]
    }
   ],
   "source": [
    "#SHORTCUT OPERATORS\n",
    "# when we want to use one and the same variable both to the right and left sides of the = operator:\n",
    "x = 1\n",
    "x = x + 2\n",
    "print(x)\n",
    "\n",
    "y = 2\n",
    "y += 2\n",
    "print(y)\n",
    "\n",
    "#!!!\n",
    "# var = var / 2 OR var /= 2\n",
    "# rem = rem % 10 OR rem %=10\n",
    "# i = i + 2 * j OR i += 2 * j"
   ]
  },
  {
   "cell_type": "code",
   "execution_count": 11,
   "metadata": {},
   "outputs": [
    {
     "name": "stdout",
     "output_type": "stream",
     "text": [
      "7.38 miles is 11.88 kilometers\n",
      "12.25 kilometers is 7.61 miles\n"
     ]
    }
   ],
   "source": [
    "#2.4.9 LAB Variables ‒ a simple converter\n",
    "kilometers = 12.25\n",
    "miles = 7.38\n",
    "\n",
    "miles_to_kilometers = miles * 1.61\n",
    "kilometers_to_miles = kilometers / 1.61\n",
    "print(miles, \"miles is\", round(miles_to_kilometers, 2), \"kilometers\")\n",
    "print(kilometers, \"kilometers is\", round(kilometers_to_miles, 2), \"miles\")\n"
   ]
  },
  {
   "cell_type": "code",
   "execution_count": 12,
   "metadata": {},
   "outputs": [
    {
     "name": "stdout",
     "output_type": "stream",
     "text": [
      "y =  3.0\n"
     ]
    }
   ],
   "source": [
    "#2.4.10 LAB Operators and expressions\n",
    "x = 1\n",
    "x = float(x)\n",
    "y = 3 * x ** 3 - 2 * x ** 2 + 3 * x - 1\n",
    "print(\"y = \", y)"
   ]
  },
  {
   "cell_type": "code",
   "execution_count": 13,
   "metadata": {},
   "outputs": [
    {
     "name": "stdout",
     "output_type": "stream",
     "text": [
      "1.0\n"
     ]
    }
   ],
   "source": [
    "a = 6\n",
    "b = 3\n",
    "a /= 2 * b\n",
    "print(a)"
   ]
  },
  {
   "cell_type": "code",
   "execution_count": null,
   "metadata": {},
   "outputs": [
    {
     "name": "stdout",
     "output_type": "stream",
     "text": [
      "Tell me anything...\n",
      "Hmm... this is crazy day ...Really?\n"
     ]
    }
   ],
   "source": [
    "#input() FUNCTION\n",
    "#it hets data from the console\n",
    "print(\"Tell me anything...\")\n",
    "anything = input()\n",
    "print(\"Hmm...\", anything, \"...Really?\")"
   ]
  },
  {
   "cell_type": "code",
   "execution_count": 4,
   "metadata": {},
   "outputs": [
    {
     "name": "stdout",
     "output_type": "stream",
     "text": [
      "Hmmm... what a nice day ...Really?\n"
     ]
    }
   ],
   "source": [
    "#The input() function with an argument\n",
    "anything = input(\"Tell my something...\")\n",
    "print(\"Hmmm...\", anything, \"...Really?\")"
   ]
  },
  {
   "cell_type": "code",
   "execution_count": null,
   "metadata": {},
   "outputs": [
    {
     "ename": "TypeError",
     "evalue": "unsupported operand type(s) for ** or pow(): 'str' and 'int'",
     "output_type": "error",
     "traceback": [
      "\u001b[0;31m---------------------------------------------------------------------------\u001b[0m",
      "\u001b[0;31mTypeError\u001b[0m                                 Traceback (most recent call last)",
      "Cell \u001b[0;32mIn[10], line 6\u001b[0m\n\u001b[1;32m      1\u001b[0m \u001b[38;5;66;03m#The result of the input() function\u001b[39;00m\n\u001b[1;32m      2\u001b[0m \u001b[38;5;66;03m#result of the input() function is a string.\u001b[39;00m\n\u001b[1;32m      3\u001b[0m \u001b[38;5;66;03m#!!!you mustn't use it as an argument of any arithmetic operation\u001b[39;00m\n\u001b[1;32m      4\u001b[0m \u001b[38;5;66;03m#the snippet below will cause an error\u001b[39;00m\n\u001b[1;32m      5\u001b[0m anything \u001b[38;5;241m=\u001b[39m \u001b[38;5;28minput\u001b[39m(\u001b[38;5;124m\"\u001b[39m\u001b[38;5;124mEnter a number\u001b[39m\u001b[38;5;124m\"\u001b[39m)\n\u001b[0;32m----> 6\u001b[0m something \u001b[38;5;241m=\u001b[39m \u001b[43manything\u001b[49m\u001b[43m \u001b[49m\u001b[38;5;241;43m*\u001b[39;49m\u001b[38;5;241;43m*\u001b[39;49m\u001b[43m \u001b[49m\u001b[38;5;241;43m2\u001b[39;49m\n\u001b[1;32m      7\u001b[0m \u001b[38;5;28mprint\u001b[39m(anything, \u001b[38;5;124m\"\u001b[39m\u001b[38;5;124mto the power of 2 is\u001b[39m\u001b[38;5;124m\"\u001b[39m, something)\n\u001b[1;32m      9\u001b[0m \u001b[38;5;28mprint\u001b[39m()\n",
      "\u001b[0;31mTypeError\u001b[0m: unsupported operand type(s) for ** or pow(): 'str' and 'int'"
     ]
    }
   ],
   "source": [
    "#The result of the input() function\n",
    "#result of the input() function is a string.\n",
    "#!!!you mustn't use it as an argument of any arithmetic operation\n",
    "#the snippet below will cause an error\n",
    "anything = input(\"Enter a number\")\n",
    "something = anything ** 2\n",
    "print(anything, \"to the power of 2 is\", something)\n"
   ]
  },
  {
   "cell_type": "code",
   "execution_count": 11,
   "metadata": {},
   "outputs": [
    {
     "name": "stdout",
     "output_type": "stream",
     "text": [
      "3.0 to the power of 2 is 9.0\n"
     ]
    }
   ],
   "source": [
    "#But you can use int() or float()\n",
    "anything = float(input(\"Enter a number...\"))\n",
    "something = anything ** 2\n",
    "print(anything, \"to the power of 2 is\", something)"
   ]
  },
  {
   "cell_type": "code",
   "execution_count": 12,
   "metadata": {},
   "outputs": [
    {
     "name": "stdout",
     "output_type": "stream",
     "text": [
      "Hypotenuse length is 5.0\n"
     ]
    }
   ],
   "source": [
    "#length of a hypotenuse\n",
    "leg_a = float(input(\"Input first leg length: \" ))\n",
    "leg_b = float(input(\"Input second leg length: \"))\n",
    "hypo = (leg_a**2 + leg_b**2) ** .5\n",
    "print(\"Hypotenuse length is\", hypo)"
   ]
  },
  {
   "cell_type": "code",
   "execution_count": null,
   "metadata": {},
   "outputs": [
    {
     "name": "stdout",
     "output_type": "stream",
     "text": [
      "abba\n",
      "\n"
     ]
    }
   ],
   "source": [
    "#STRING OPERATORS\n",
    "# + and * are able to do more that just add and mulyiply"
   ]
  },
  {
   "cell_type": "code",
   "execution_count": null,
   "metadata": {},
   "outputs": [],
   "source": [
    "#CONCATENATION OPERATOR - \"+\": string + string\n",
    "#+ (plus) sign, when applied to two strings, becomes a concatenation operator:\n",
    "print(\"ab\" + \"ba\")\n",
    "#!!!the concatenation operator is not commutative, i.e., \"ab\" + \"ba\" is not the same as \"ba\" + \"ab\"."
   ]
  },
  {
   "cell_type": "code",
   "execution_count": 15,
   "metadata": {},
   "outputs": [
    {
     "name": "stdout",
     "output_type": "stream",
     "text": [
      "Thank you.\n",
      "\n",
      "Your name is Ivanna Stefanyshyn.\n"
     ]
    }
   ],
   "source": [
    "fnam = input(\"May I have your first name, please? \")\n",
    "lnam = input(\"May I have your last name, please? \")\n",
    "print(\"Thank you.\")\n",
    "print(\"\\nYour name is \" + fnam + \" \" + lnam + \".\")"
   ]
  },
  {
   "cell_type": "code",
   "execution_count": 18,
   "metadata": {},
   "outputs": [
    {
     "name": "stdout",
     "output_type": "stream",
     "text": [
      "JamesJamesJames\n",
      "22222\n"
     ]
    }
   ],
   "source": [
    "#REPLICATION OPERATOR - \"*\": string * number OR number * string\n",
    "#replicates the string the same number of times specified by the number.\n",
    "#number less than or equal to zero produces an empty string.\n",
    "print(\"James\" * 3)\n",
    "print(\"2\" * 5)\n"
   ]
  },
  {
   "cell_type": "code",
   "execution_count": null,
   "metadata": {},
   "outputs": [
    {
     "name": "stdout",
     "output_type": "stream",
     "text": [
      "The result of addition is:  300.0\n",
      "The result of substracion is:  100.0\n",
      "The result of multiplication is:  20000.0\n",
      "The result of division is:  2.0\n"
     ]
    }
   ],
   "source": [
    "#2.6.9 LAB Simple input and output\n",
    "a = float(input(\"Input value for variable a: \"))\n",
    "b = float(input(\"Input value for variable b: \"))\n",
    "print(\"The result of addition is: \", a + b)\n",
    "print(\"The result of substracion is: \", a - b)\n",
    "print(\"The result of multiplication is: \", a * b)\n",
    "print(\"The result of division is: \", a / b)"
   ]
  },
  {
   "cell_type": "code",
   "execution_count": null,
   "metadata": {},
   "outputs": [
    {
     "name": "stdout",
     "output_type": "stream",
     "text": [
      "y =  0.09901951266867294\n"
     ]
    }
   ],
   "source": [
    "#2.6.10 LAB Operators and expressions - 1\n",
    "x = float(input(\"Enter value for x: \"))\n",
    "y = 1 / (x + 1 / (x + 1 / (x + 1 / x)))\n",
    "print(\"y = \", y)"
   ]
  },
  {
   "cell_type": "code",
   "execution_count": 23,
   "metadata": {},
   "outputs": [
    {
     "name": "stdout",
     "output_type": "stream",
     "text": [
      "13:16\n"
     ]
    }
   ],
   "source": [
    "#2.6.11 LAB Operators and expressions – 2\n",
    "hour = int(input(\"Starting time (hours): \"))\n",
    "mins = int(input(\"Starting time (minutes): \"))\n",
    "dura = int(input(\"Event duration (minutes): \"))\n",
    "mins = mins + dura\n",
    "hour = hour + mins // 60\n",
    "mins = mins % 60\n",
    "hour = hour % 24\n",
    "print(hour, \":\", mins, sep='')"
   ]
  },
  {
   "cell_type": "code",
   "execution_count": null,
   "metadata": {},
   "outputs": [],
   "source": []
  }
 ],
 "metadata": {
  "kernelspec": {
   "display_name": ".venv",
   "language": "python",
   "name": "python3"
  },
  "language_info": {
   "codemirror_mode": {
    "name": "ipython",
    "version": 3
   },
   "file_extension": ".py",
   "mimetype": "text/x-python",
   "name": "python",
   "nbconvert_exporter": "python",
   "pygments_lexer": "ipython3",
   "version": "3.12.2"
  }
 },
 "nbformat": 4,
 "nbformat_minor": 2
}
