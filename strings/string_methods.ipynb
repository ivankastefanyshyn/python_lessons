{
 "cells": [
  {
   "cell_type": "code",
   "execution_count": null,
   "metadata": {},
   "outputs": [
    {
     "name": "stdout",
     "output_type": "stream",
     "text": [
      "I try to learn python\n"
     ]
    }
   ],
   "source": [
    "#capitalize()\n",
    "###string.capitalize()\n",
    "#converts the first character of a string to an uppercase letter and all other alphabets to lowercase\n",
    "sentence = \"i try to learn PYTHON\"\n",
    "corrected_sentence = sentence.capitalize()\n",
    "print(corrected_sentence)\n"
   ]
  },
  {
   "cell_type": "code",
   "execution_count": null,
   "metadata": {},
   "outputs": [
    {
     "name": "stdout",
     "output_type": "stream",
     "text": [
      "i try to learn python\n"
     ]
    }
   ],
   "source": [
    "#casefold()\n",
    "###str.casefold()\n",
    "#converts all characters of the string into lowercase letters and returns a new string\n",
    "#casefold() method is similar to the lower() method but it is more aggressive\n",
    "sentence = \"i try to learn PYTHON\"\n",
    "corrected_sentence = sentence.casefold()\n",
    "print(corrected_sentence)"
   ]
  },
  {
   "cell_type": "code",
   "execution_count": 4,
   "metadata": {},
   "outputs": [
    {
     "name": "stdout",
     "output_type": "stream",
     "text": [
      "^^^^i try to learn PYTHON^^^^^\n",
      "    i try to learn PYTHON     \n"
     ]
    }
   ],
   "source": [
    "#center()\n",
    "###str.center(width, [fillchar])\n",
    "#if fillchar is not provided, whitespace is taken as the default argument.\n",
    "#returns a new centered string after padding it with the specified character\n",
    "sentence = \"i try to learn PYTHON\"\n",
    "corrected_sentence = sentence.center(30, \"^\")\n",
    "print(corrected_sentence)\n",
    "\n",
    "\n",
    "sentence = \"i try to learn PYTHON\"\n",
    "corrected_sentence = sentence.center(30)\n",
    "print(corrected_sentence)"
   ]
  },
  {
   "cell_type": "code",
   "execution_count": 8,
   "metadata": {},
   "outputs": [
    {
     "name": "stdout",
     "output_type": "stream",
     "text": [
      "1\n",
      "0\n"
     ]
    }
   ],
   "source": [
    "#count()\n",
    "###string.count(substring)\n",
    "#OR\n",
    "###string.count(substring, start=..., end=...)\n",
    "#returns the number of occurrences of the substring in the given string\n",
    "sentence = \"i try to learn PYTHON\"\n",
    "PYTHON_count = sentence.count(\"PYTHON\")\n",
    "print(PYTHON_count)\n",
    "python_count = sentence.count(\"python\")\n",
    "print(python_count)"
   ]
  },
  {
   "cell_type": "code",
   "execution_count": 9,
   "metadata": {},
   "outputs": [
    {
     "name": "stdout",
     "output_type": "stream",
     "text": [
      "b'pyth\\xc3\\xb6n!'\n"
     ]
    }
   ],
   "source": [
    "#encode()\n",
    "#converts unicode strings into any encodings supported by Python. By default, Python uses utf-8 encoding\n",
    "#by default, the encode() method doesn't require any parameters.\n",
    "#However, it takes two parameters: string.encode(encoding='UTF-8',errors='strict')\n",
    "#encoding - the encoding type a string has to be encoded to\n",
    "#errors - response when encoding fails. There are six types of error response(strict, ignore, replace, xmlcharrefreplace, backslashreplace, namereplace)\n",
    "string = 'pythön!'\n",
    "new_string = string.encode()\n",
    "print(new_string)\n",
    "\n"
   ]
  },
  {
   "cell_type": "code",
   "execution_count": 34,
   "metadata": {},
   "outputs": [
    {
     "name": "stdout",
     "output_type": "stream",
     "text": [
      "True\n",
      "False\n"
     ]
    }
   ],
   "source": [
    "#endswith()\n",
    "#returns boolean True if a string ends with the specified suffix. If not, it returns False\n",
    "###str.endswith(suffix)\n",
    "#OR\n",
    "###str.endswith(suffix[, start[, end]])\n",
    "string = (\"I try to learn Python\")\n",
    "print(string.endswith(\"Python\"))\n",
    "print(string.endswith(\"Python\", 0, 7))"
   ]
  },
  {
   "cell_type": "code",
   "execution_count": 39,
   "metadata": {},
   "outputs": [
    {
     "name": "stdout",
     "output_type": "stream",
     "text": [
      "True\n",
      "False\n"
     ]
    }
   ],
   "source": [
    "#startswith()\n",
    "#returns True if a string starts with the specified prefix(string). If not, it returns False.\n",
    "string = (\"I try to learn Python\")\n",
    "print(string.startswith(\"I\"))\n",
    "\n",
    "###str.startswith(suffix)\n",
    "#OR\n",
    "###str.startswith(suffix[, start[, end]])\n",
    "print(string.startswith(\"I\", 2, 7))"
   ]
  },
  {
   "cell_type": "code",
   "execution_count": 1,
   "metadata": {},
   "outputs": [
    {
     "name": "stdout",
     "output_type": "stream",
     "text": [
      "xyz\t12345\tabc\n"
     ]
    }
   ],
   "source": [
    "#expandtabs()\n",
    "###string.expandtabs(tabsize)\n",
    "#The expandtabs() takes an integer tabsize argument. The default tabsize is 8\n",
    "#returns a string where all '\\t' characters are replaced with whitespace characters until the next multiple of tabsize parameter\n",
    "str = 'xyz\\t12345\\tabc'\n",
    "result = str.expandtabs()\n",
    "print(str)"
   ]
  },
  {
   "cell_type": "code",
   "execution_count": 10,
   "metadata": {},
   "outputs": [
    {
     "name": "stdout",
     "output_type": "stream",
     "text": [
      "15\n",
      "-1\n",
      "-1\n"
     ]
    }
   ],
   "source": [
    "#find()\n",
    "#str.find(sub)\n",
    "#OR\n",
    "#str.find(sub[, start[, end]])\n",
    "#returns the index of first occurrence of the substring (if found). If not found, it returns -1.\n",
    "sentence = \"i try to learn PYTHON\"\n",
    "PYTHON_found = sentence.find(\"PYTHON\")\n",
    "print(PYTHON_found)\n",
    "python_found = sentence.find(\"python\")\n",
    "print(python_found)\n",
    "PYTHON_found = sentence.find(\"PYTHON\", 20)\n",
    "print(PYTHON_found)"
   ]
  },
  {
   "cell_type": "code",
   "execution_count": 14,
   "metadata": {},
   "outputs": [
    {
     "name": "stdout",
     "output_type": "stream",
     "text": [
      "Substring 'let it': 22\n",
      "Substring 'let it': 0\n"
     ]
    }
   ],
   "source": [
    "#rfind()\n",
    "#returns the highest index where substring is found\n",
    "#if substring doesn't exist inside the string, it returns -1.\n",
    "\n",
    "quote = 'Let it be, let it be, let it be'\n",
    "result = quote.rfind('let it')\n",
    "print(\"Substring 'let it':\", result)\n",
    "\n",
    "#difference with find()\n",
    "result1 = quote.find('Let it')\n",
    "print(\"Substring 'let it':\", result1)"
   ]
  },
  {
   "cell_type": "code",
   "execution_count": 12,
   "metadata": {},
   "outputs": [
    {
     "name": "stdout",
     "output_type": "stream",
     "text": [
      "15\n"
     ]
    },
    {
     "ename": "ValueError",
     "evalue": "substring not found",
     "output_type": "error",
     "traceback": [
      "\u001b[0;31m---------------------------------------------------------------------------\u001b[0m",
      "\u001b[0;31mValueError\u001b[0m                                Traceback (most recent call last)",
      "Cell \u001b[0;32mIn[12], line 6\u001b[0m\n\u001b[1;32m      4\u001b[0m PYTHON_index \u001b[38;5;241m=\u001b[39m sentence\u001b[38;5;241m.\u001b[39mindex(\u001b[38;5;124m\"\u001b[39m\u001b[38;5;124mPYTHON\u001b[39m\u001b[38;5;124m\"\u001b[39m)\n\u001b[1;32m      5\u001b[0m \u001b[38;5;28mprint\u001b[39m(PYTHON_index)\n\u001b[0;32m----> 6\u001b[0m PYTHON_index \u001b[38;5;241m=\u001b[39m \u001b[43msentence\u001b[49m\u001b[38;5;241;43m.\u001b[39;49m\u001b[43mindex\u001b[49m\u001b[43m(\u001b[49m\u001b[38;5;124;43m\"\u001b[39;49m\u001b[38;5;124;43mPYTHON\u001b[39;49m\u001b[38;5;124;43m\"\u001b[39;49m\u001b[43m,\u001b[49m\u001b[43m \u001b[49m\u001b[38;5;241;43m20\u001b[39;49m\u001b[43m)\u001b[49m\n\u001b[1;32m      7\u001b[0m \u001b[38;5;28mprint\u001b[39m(PYTHON_index)\n",
      "\u001b[0;31mValueError\u001b[0m: substring not found"
     ]
    }
   ],
   "source": [
    "#index() method\n",
    "# returns the index of a substring inside the string (if found). If the substring is not found, it raises an exception\n",
    "sentence = \"i try to learn PYTHON\"\n",
    "PYTHON_index = sentence.index(\"PYTHON\")\n",
    "print(PYTHON_index)\n",
    "PYTHON_index = sentence.index(\"PYTHON\", 20)\n",
    "print(PYTHON_index)"
   ]
  },
  {
   "cell_type": "code",
   "execution_count": 16,
   "metadata": {},
   "outputs": [
    {
     "name": "stdout",
     "output_type": "stream",
     "text": [
      "Substring 'let it': 22\n"
     ]
    },
    {
     "ename": "ValueError",
     "evalue": "substring not found",
     "output_type": "error",
     "traceback": [
      "\u001b[0;31m---------------------------------------------------------------------------\u001b[0m",
      "\u001b[0;31mValueError\u001b[0m                                Traceback (most recent call last)",
      "Cell \u001b[0;32mIn[16], line 7\u001b[0m\n\u001b[1;32m      5\u001b[0m result \u001b[38;5;241m=\u001b[39m quote\u001b[38;5;241m.\u001b[39mrindex(\u001b[38;5;124m'\u001b[39m\u001b[38;5;124mlet it\u001b[39m\u001b[38;5;124m'\u001b[39m)\n\u001b[1;32m      6\u001b[0m \u001b[38;5;28mprint\u001b[39m(\u001b[38;5;124m\"\u001b[39m\u001b[38;5;124mSubstring \u001b[39m\u001b[38;5;124m'\u001b[39m\u001b[38;5;124mlet it\u001b[39m\u001b[38;5;124m'\u001b[39m\u001b[38;5;124m:\u001b[39m\u001b[38;5;124m\"\u001b[39m, result)\n\u001b[0;32m----> 7\u001b[0m result \u001b[38;5;241m=\u001b[39m \u001b[43mquote\u001b[49m\u001b[38;5;241;43m.\u001b[39;49m\u001b[43mrindex\u001b[49m\u001b[43m(\u001b[49m\u001b[38;5;124;43m'\u001b[39;49m\u001b[38;5;124;43msmall\u001b[39;49m\u001b[38;5;124;43m'\u001b[39;49m\u001b[43m)\u001b[49m\n\u001b[1;32m      8\u001b[0m \u001b[38;5;28mprint\u001b[39m(\u001b[38;5;124m\"\u001b[39m\u001b[38;5;124mSubstring \u001b[39m\u001b[38;5;124m'\u001b[39m\u001b[38;5;124msmall \u001b[39m\u001b[38;5;124m'\u001b[39m\u001b[38;5;124m:\u001b[39m\u001b[38;5;124m\"\u001b[39m, result)\n",
      "\u001b[0;31mValueError\u001b[0m: substring not found"
     ]
    }
   ],
   "source": [
    "#rindex()\n",
    "#if substring exists inside the string, it returns the highest index in the string where the substring is found\n",
    "#if substring doesn't exist inside the string, it raises a ValueError exception.\n",
    "quote = 'Let it be, let it be, let it be'\n",
    "result = quote.rindex('let it')\n",
    "print(\"Substring 'let it':\", result)\n",
    "result = quote.rindex('small')\n",
    "print(\"Substring 'small ':\", result)"
   ]
  },
  {
   "cell_type": "code",
   "execution_count": null,
   "metadata": {},
   "outputs": [
    {
     "name": "stdout",
     "output_type": "stream",
     "text": [
      "False\n"
     ]
    }
   ],
   "source": [
    "#isalnum()\n",
    "#isalnum() method doesn't take any parameters.\n",
    "#eturns True if all characters in the string are alphanumeric (either alphabets or numbers). If not, it returns False\n",
    "sentence = \"i try to learn PYTHON\"\n",
    "PYTHON_alnum = sentence.isalnum()\n",
    "print(PYTHON_alnum) # False because contains whitespaces"
   ]
  },
  {
   "cell_type": "code",
   "execution_count": 18,
   "metadata": {},
   "outputs": [
    {
     "name": "stdout",
     "output_type": "stream",
     "text": [
      "True\n",
      "False\n"
     ]
    }
   ],
   "source": [
    "#isalpha()\n",
    "#isalpha() doesn't take any parameters.\n",
    "#True if all characters in the string are alphabets (can be both lowercase and uppercase).\n",
    "# False if at least one character is not alphabet.\n",
    "sentence = \"itrytolearnPYTHON\"\n",
    "PYTHON_alpha = sentence.isalpha()\n",
    "print(PYTHON_alpha)\n",
    "sentence = \"i try to learn PYTHON\"\n",
    "PYTHON_alpha = sentence.isalpha()\n",
    "print(PYTHON_alpha)"
   ]
  },
  {
   "cell_type": "code",
   "execution_count": 38,
   "metadata": {},
   "outputs": [
    {
     "name": "stdout",
     "output_type": "stream",
     "text": [
      "True\n",
      "False\n",
      "False\n",
      "False\n",
      "False\n"
     ]
    }
   ],
   "source": [
    "#isdecimal()\n",
    "#isdecimal() doesn't take any parameters.\n",
    "#True if all characters in the string are decimal characters (0-9)\n",
    "#False if at least one character is not decimal character.\n",
    "s = \"28212\"\n",
    "print(s.isdecimal())\n",
    "s = \"Mo3 nicaG el l22er\"\n",
    "print(s.isdecimal())\n",
    "s = '\\u00B23455'\n",
    "print(s.isdecimal())\n",
    "s = '²3455'\n",
    "print(s.isdecimal())\n",
    "s = '½123'\n",
    "print(s.isdecimal())"
   ]
  },
  {
   "cell_type": "code",
   "execution_count": 39,
   "metadata": {},
   "outputs": [
    {
     "name": "stdout",
     "output_type": "stream",
     "text": [
      "True\n",
      "False\n",
      "True\n",
      "True\n",
      "False\n"
     ]
    }
   ],
   "source": [
    "#isdigit()\n",
    "#isdigit() doesn't take any parameters.\n",
    "#True if all characters in the string are digits.\n",
    "#False if at least one character is not a digit.\n",
    "s = \"28212\"\n",
    "print(s.isdigit())\n",
    "s = \"Mo3 nicaG el l22er\"\n",
    "print(s.isdigit())\n",
    "s = '\\u00B23455'\n",
    "print(s.isdigit())\n",
    "s = '²3455'\n",
    "print(s.isdigit())\n",
    "s = '½123'\n",
    "print(s.isdigit())"
   ]
  },
  {
   "cell_type": "code",
   "execution_count": 40,
   "metadata": {},
   "outputs": [
    {
     "name": "stdout",
     "output_type": "stream",
     "text": [
      "True\n",
      "False\n",
      "True\n",
      "True\n",
      "True\n"
     ]
    }
   ],
   "source": [
    "#isnumeric()\n",
    "#True -if all characters in the string are numeric\n",
    "#False -if at least one character is not a numeric\n",
    "s = \"28212\"\n",
    "print(s.isnumeric())\n",
    "s = \"Mo3 nicaG el l22er\"\n",
    "print(s.isnumeric())\n",
    "s = '\\u00B23455'\n",
    "print(s.isnumeric())\n",
    "s = '²3455'\n",
    "print(s.isnumeric())\n",
    "s = '½123'\n",
    "print(s.isnumeric())"
   ]
  },
  {
   "cell_type": "code",
   "execution_count": 41,
   "metadata": {},
   "outputs": [
    {
     "name": "stdout",
     "output_type": "stream",
     "text": [
      "True\n",
      "True\n",
      "False\n"
     ]
    }
   ],
   "source": [
    "#islower()\n",
    "#islower() method doesn't take any parameters.\n",
    "#True if all alphabets that exist in the string are lowercase alphabets\n",
    "#False if the string contains at least one uppercase alphabet.\n",
    "s = 'this is good'\n",
    "print(s.islower())\n",
    "\n",
    "s = 'th!s is a1so g00d'\n",
    "print(s.islower())\n",
    "\n",
    "s = 'this is Not good'\n",
    "print(s.islower())\n"
   ]
  },
  {
   "cell_type": "code",
   "execution_count": 44,
   "metadata": {},
   "outputs": [
    {
     "name": "stdout",
     "output_type": "stream",
     "text": [
      "True\n",
      "False\n",
      "True\n"
     ]
    }
   ],
   "source": [
    "#isprintable()\n",
    "#returns True if all characters in the string are printable. If not, it returns False.\n",
    "\n",
    "#Characters that occupy printing space on the screen are known as printable characters. For example letters and symbols, digits, punctuation, whitespace\n",
    "\n",
    "#Characters that do not occupy a space and are used for formatting is known as non-printable characters. For example line breaks, page breaks\n",
    "text1 = 'python programming'\n",
    "result1 = text1.isprintable()\n",
    "print(result1)\n",
    "\n",
    "text2 = 'python programming\\n'\n",
    "result2 = text2.isprintable() \n",
    "print(result2)\n",
    "\n",
    "empty_string = ' '\n",
    "print(empty_string.isprintable())"
   ]
  },
  {
   "cell_type": "code",
   "execution_count": 48,
   "metadata": {},
   "outputs": [
    {
     "name": "stdout",
     "output_type": "stream",
     "text": [
      "True\n",
      "False\n",
      "False\n"
     ]
    }
   ],
   "source": [
    "#isspace() \n",
    "#True if all characters in the string are whitespace characters\n",
    "#False if the string is empty or contains at least one non-printable character\n",
    "#Characters that are used for spacing are called whitespace characters. For example: tabs, spaces, newline, etc.\n",
    "s = '   \\t'\n",
    "print(s.isspace())\n",
    "\n",
    "s = ' a '\n",
    "print(s.isspace())\n",
    "\n",
    "s = ''\n",
    "print(s.isspace())"
   ]
  },
  {
   "cell_type": "code",
   "execution_count": 1,
   "metadata": {},
   "outputs": [
    {
     "name": "stdout",
     "output_type": "stream",
     "text": [
      "True\n",
      "True\n",
      "False\n"
     ]
    }
   ],
   "source": [
    "#isupper()\n",
    "#doesn't take any parameters.\n",
    "#True if all characters in a string are uppercase characters\n",
    "#False if any characters in a string are lowercase characters\n",
    "string = \"THIS IS GOOD!\"\n",
    "print(string.isupper())\n",
    "\n",
    "string = \"THIS IS ALSO G00D!\"\n",
    "print(string.isupper())\n",
    "\n",
    "string = \"THIS IS not GOOD!\"\n",
    "print(string.isupper())"
   ]
  },
  {
   "cell_type": "code",
   "execution_count": 1,
   "metadata": {},
   "outputs": [
    {
     "name": "stdout",
     "output_type": "stream",
     "text": [
      "Python is a fun programming language\n"
     ]
    }
   ],
   "source": [
    "#join()\n",
    "#returns a string by joining all the elements of an iterable (list, string, tuple), separated by the given separator.\n",
    "\n",
    "text = ['Python', 'is', 'a', 'fun', 'programming', 'language']\n",
    "print(' '.join(text))\n"
   ]
  },
  {
   "cell_type": "code",
   "execution_count": 2,
   "metadata": {},
   "outputs": [
    {
     "name": "stdout",
     "output_type": "stream",
     "text": [
      "python is fun\n"
     ]
    }
   ],
   "source": [
    "#lower()\n",
    "#lower() method doesn't take any parameters.\n",
    "#converts all uppercase characters in a string into lowercase characters and returns it\n",
    "message = 'PYTHON IS FUN'\n",
    "print(message.lower())\n"
   ]
  },
  {
   "cell_type": "code",
   "execution_count": 43,
   "metadata": {},
   "outputs": [
    {
     "name": "stdout",
     "output_type": "stream",
     "text": [
      "PYTHON IS FUN\n"
     ]
    }
   ],
   "source": [
    "#upper()\n",
    "#upper() method doesn't take any parameters.\n",
    "#converts all lowercase characters in a string into uppercase characters and returns it.\n",
    "message = 'python is fun'\n",
    "print(message.upper())\n",
    "\n"
   ]
  },
  {
   "cell_type": "code",
   "execution_count": 6,
   "metadata": {},
   "outputs": [
    {
     "name": "stdout",
     "output_type": "stream",
     "text": [
      "('Python ', 'is ', 'fun')\n",
      "('Python is fun', '', '')\n"
     ]
    }
   ],
   "source": [
    "#partition()\n",
    "#returns a 3-tuple containing:\n",
    "#!!!the part before the separator, separator parameter, and the part after the separator if the separator parameter is found in the string\n",
    "#!!!the string itself and two empty strings if the separator parameter is not found\n",
    "\n",
    "string = \"Python is fun\"\n",
    "print(string.partition('is '))\n",
    "print(string.partition('not '))\n"
   ]
  },
  {
   "cell_type": "code",
   "execution_count": 13,
   "metadata": {},
   "outputs": [
    {
     "name": "stdout",
     "output_type": "stream",
     "text": [
      "('Python ', 'is ', 'fun')\n",
      "('', '', 'Python is fun')\n"
     ]
    }
   ],
   "source": [
    "#rpartition()\n",
    "#returns a 3-tuple containing:\n",
    "# the part before the separator, separator parameter, and the part after the separator if the separator parameter is found in the string\n",
    "# two empty strings, followed by the string itself if the separator parameter is not found\n",
    "\n",
    "string = \"Python is fun\"\n",
    "print(string.rpartition('is '))\n",
    "print(string.rpartition('not '))"
   ]
  },
  {
   "cell_type": "code",
   "execution_count": 7,
   "metadata": {},
   "outputs": [
    {
     "name": "stdout",
     "output_type": "stream",
     "text": [
      "rot roll\n"
     ]
    }
   ],
   "source": [
    "#replace()\n",
    "#replaces each matching occurrence of a substring with another string\n",
    "\n",
    "text = 'bat ball'\n",
    "replaced_text = text.replace('ba', 'ro')\n",
    "print(replaced_text)\n"
   ]
  },
  {
   "cell_type": "code",
   "execution_count": 22,
   "metadata": {},
   "outputs": [
    {
     "name": "stdout",
     "output_type": "stream",
     "text": [
      "xoxo love xoxo\n",
      "lov\n"
     ]
    }
   ],
   "source": [
    "#strip()\n",
    "#removes any leading (starting) and trailing (ending) whitespaces from a given string.\n",
    "\n",
    "string = '  xoxo love xoxo   '\n",
    "print(string.strip())\n",
    "\n",
    "#!!! can remove provided characters from the string\n",
    "print(string.strip(' xoe'))\n"
   ]
  },
  {
   "cell_type": "code",
   "execution_count": 17,
   "metadata": {},
   "outputs": [
    {
     "name": "stdout",
     "output_type": "stream",
     "text": [
      "this is good \n",
      "www.programiz.com/\n"
     ]
    }
   ],
   "source": [
    "#lstrip()\n",
    "#removes characters from the left based on the argument (a string specifying the set of characters to be removed)\n",
    "#has an optional argument - a string specifying the set of characters to be removed.\n",
    "#if argument is not provided, all leading whitespaces are removed from the string\n",
    "random_string = '   this is good '\n",
    "print(random_string.lstrip())\n",
    "\n",
    "website = 'https://www.programiz.com/'\n",
    "print(website.lstrip('htps:/.'))\n"
   ]
  },
  {
   "cell_type": "code",
   "execution_count": 24,
   "metadata": {},
   "outputs": [
    {
     "name": "stdout",
     "output_type": "stream",
     "text": [
      "   this is good\n",
      "https://www.programiz.\n"
     ]
    }
   ],
   "source": [
    "#rstrip()\n",
    "#removes characters from the right based on the argument (a string specifying the set of characters to be removed).\n",
    "#has an optional argument - a string specifying the set of characters to be removed.\n",
    "#if argument is not provided, all whitespaces on the right are removed from the string.\n",
    "random_string = '   this is good '\n",
    "print(random_string.rstrip())\n",
    "\n",
    "website = 'https://www.programiz.com/'\n",
    "print(website.rstrip('com/'))"
   ]
  },
  {
   "cell_type": "code",
   "execution_count": 26,
   "metadata": {},
   "outputs": [
    {
     "name": "stdout",
     "output_type": "stream",
     "text": [
      "['Python', 'is', 'fun']\n",
      "['Milk', 'Chicken', 'Bread']\n"
     ]
    }
   ],
   "source": [
    "#split()\n",
    "#breaks down a string into a list of substrings using a chosen separator\n",
    "#whitespace is used as the default separator\n",
    "\n",
    "text = 'Python is fun'\n",
    "print(text.split())\n",
    "\n",
    "#can use another separator\n",
    "grocery = 'Milk, Chicken, Bread'\n",
    "print(grocery.split(', '))\n",
    "\n"
   ]
  },
  {
   "cell_type": "code",
   "execution_count": 32,
   "metadata": {},
   "outputs": [
    {
     "name": "stdout",
     "output_type": "stream",
     "text": [
      "['Milk', 'Chicken', 'Bread']\n",
      "['Milk', 'Chicken', 'Bread, Butter']\n"
     ]
    }
   ],
   "source": [
    "#rsplit()\n",
    "#splits string starting from the right at the specified separator\n",
    "#if the separator is not specified, any whitespace (space, newline etc.) string is a separator.\n",
    "\n",
    "###!!!When maxsplit is not specified, rsplit() behaves like split().\n",
    "#maxsplit defines the maximum number of splits.\n",
    "\n",
    "grocery = 'Milk, Chicken, Bread'\n",
    "print(grocery.rsplit(', '))\n",
    "\n",
    "grocery = 'Milk, Chicken, Bread, Butter'\n",
    "\n",
    "print(grocery.split(', ', 2))\n",
    "\n"
   ]
  },
  {
   "cell_type": "code",
   "execution_count": 33,
   "metadata": {},
   "outputs": [
    {
     "name": "stdout",
     "output_type": "stream",
     "text": [
      "['I', 'love', 'Python', 'Programming.']\n"
     ]
    }
   ],
   "source": [
    "#splitlines()\n",
    "#splits the string at line breaks and returns a list.\n",
    "\n",
    "sentence = 'I\\nlove\\nPython\\nProgramming.'\n",
    "resulting_list = sentence.splitlines()\n",
    "print(resulting_list)\n"
   ]
  },
  {
   "cell_type": "code",
   "execution_count": 40,
   "metadata": {},
   "outputs": [
    {
     "name": "stdout",
     "output_type": "stream",
     "text": [
      "iVANNA sTEFANYSHYN\n"
     ]
    }
   ],
   "source": [
    "#swapcase()\n",
    "# returns the string by converting all the characters to their opposite letter case( uppercase to lowercase and vice versa).\n",
    "name = \"Ivanna Stefanyshyn\"\n",
    "print(name.swapcase())\n"
   ]
  },
  {
   "cell_type": "code",
   "execution_count": 42,
   "metadata": {},
   "outputs": [
    {
     "name": "stdout",
     "output_type": "stream",
     "text": [
      "My Favorite Number Is 25.\n"
     ]
    }
   ],
   "source": [
    "#title()\n",
    "#title() method doesn't take any parameters.\n",
    "#returns a title cased version of the string. Meaning, the first character of each word is capitalized (if the first character is a letter).\n",
    "text = 'My favorite number is 25.'\n",
    "print(text.title())\n"
   ]
  },
  {
   "cell_type": "code",
   "execution_count": 41,
   "metadata": {},
   "outputs": [
    {
     "name": "stdout",
     "output_type": "stream",
     "text": [
      "True\n",
      "False\n",
      "True\n",
      "True\n",
      "False\n"
     ]
    }
   ],
   "source": [
    "#istitle()\n",
    "#istitle() method doesn't take any parameters.\n",
    "#True if the string is a titlecased string\n",
    "#False if the string is not a titlecased string or an empty string\n",
    "s = 'Python Is Good.'\n",
    "print(s.istitle())\n",
    "\n",
    "s = 'Python is good'\n",
    "print(s.istitle())\n",
    "\n",
    "s = 'This Is @ Symbol.'\n",
    "print(s.istitle())\n",
    "\n",
    "s = '99 Is A Number'\n",
    "print(s.istitle())\n",
    "\n",
    "s = 'PYTHON'\n",
    "print(s.istitle())"
   ]
  }
 ],
 "metadata": {
  "kernelspec": {
   "display_name": ".venv",
   "language": "python",
   "name": "python3"
  },
  "language_info": {
   "codemirror_mode": {
    "name": "ipython",
    "version": 3
   },
   "file_extension": ".py",
   "mimetype": "text/x-python",
   "name": "python",
   "nbconvert_exporter": "python",
   "pygments_lexer": "ipython3",
   "version": "3.12.2"
  }
 },
 "nbformat": 4,
 "nbformat_minor": 2
}
